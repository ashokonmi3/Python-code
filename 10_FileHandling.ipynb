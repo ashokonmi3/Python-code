{
 "cells": [
  {
   "cell_type": "markdown",
   "metadata": {},
   "source": [
    "Now, coming to Python – There are 2 types of files mainly:\n",
    "\n",
    "Binary\n",
    "\n",
    "Text\n",
    "\n",
    "Binary files are categorized as the generic 0’s and 1’s in Python too.\n",
    "\n",
    "A binary file is any type of file that is not a text file. Because of their nature, binary files can only be processed by an application that knows or understand the file’s structure. In other words, they must be applications that can read and interpret binary.\n",
    "\n",
    "Text files are structured as a sequence of lines, where each line includes a sequence of characters. This is what you know as code or syntax. Each line is terminated with a special character, called the EOL or End of Line character."
   ]
  },
  {
   "cell_type": "markdown",
   "metadata": {},
   "source": [
    "At its core, a file is a contiguous set of bytes used to store data. This data is organized in a specific format and can be anything as simple as a text file or as complicated as a program executable. In the end, these byte files are then translated into binary 1 and 0 for easier processing by the computer.\n",
    "Files on most modern file systems are composed of three main parts:\n",
    "\n",
    "Header: metadata about the contents of the file (file name, size, type, and so on)\n",
    "<br>Data: contents of the file as written by the creator or editor\n",
    "<br>End of file (EOF): special character that indicates the end of the file"
   ]
  },
  {
   "cell_type": "code",
   "execution_count": null,
   "metadata": {},
   "outputs": [],
   "source": [
    "%load_ext nb_black"
   ]
  },
  {
   "cell_type": "markdown",
   "metadata": {},
   "source": [
    "* 'r' - reading mode. The default. It allows you only to read the file, not to modify it. When using this mode the\n",
    "file must exist. DEFAULT MODE\n",
    "* 'w' - writing mode. It will create a new file if it does not exist, otherwise will erase the file and allow you to\n",
    "write to it.\n",
    "* 'a' - append mode. It will write data to the end of the file. It does not erase the file, and the file must exist for\n",
    "this mode.\n",
    "* 'rb' - reading mode in binary. This is similar to r except that the reading is forced in binary mode. This is\n",
    "also a default choice.\n",
    "* 'r+' - reading mode plus writing mode at the same time. This allows you to read and write into files at the\n",
    "same time without having to use r and w.\n",
    "* 'rb+' - reading and writing mode in binary. The same as r+ except the data is in binary\n",
    "* 'wb' - writing mode in binary. The same as w except the data is in binary.\n",
    "* 'w+' - writing and reading mode. The exact same as r+ but if the file does not exist, a new one is made.\n",
    "Otherwise, the file is overwritten.\n",
    "* 'wb+' - writing and reading mode in binary mode. The same as w+ but the data is in binary.\n",
    "* 'ab' - appending in binary mode. Similar to a except that the data is in binary.\n",
    "* 'a+' - appending and reading mode. Similar to w+ as it will create a new file if the file does not exist.\n",
    "Otherwise, the file pointer is at the end of the file if it exists.\n",
    "* 'ab+' - appending and reading mode in binary. The same as a+ except that the data is in binary."
   ]
  },
  {
   "cell_type": "raw",
   "metadata": {},
   "source": [
    "<filePointerVariable>=open(<fileName>,<mode>)"
   ]
  },
  {
   "cell_type": "code",
   "execution_count": 1,
   "metadata": {},
   "outputs": [],
   "source": [
    "fp = open(\"output.txt\", \"r\")  # default mode is read mode"
   ]
  },
  {
   "cell_type": "code",
   "execution_count": 2,
   "metadata": {},
   "outputs": [
    {
     "data": {
      "text/plain": [
       "_io.TextIOWrapper"
      ]
     },
     "execution_count": 2,
     "metadata": {},
     "output_type": "execute_result"
    }
   ],
   "source": [
    "type(fp)"
   ]
  },
  {
   "cell_type": "code",
   "execution_count": 3,
   "metadata": {},
   "outputs": [
    {
     "data": {
      "text/plain": [
       "<_io.TextIOWrapper name='output.txt' mode='r' encoding='cp1252'>"
      ]
     },
     "execution_count": 3,
     "metadata": {},
     "output_type": "execute_result"
    }
   ],
   "source": [
    "fp"
   ]
  },
  {
   "cell_type": "code",
   "execution_count": null,
   "metadata": {},
   "outputs": [],
   "source": [
    "fp.close()\n",
    "# There are limits on the number of files you can have open - typically something like 512-4096.\n",
    "# If you neglect to close your files you'll eventually get to the point where you cannot open new \n",
    "# file descriptors (files, sockets, etc)"
   ]
  },
  {
   "cell_type": "code",
   "execution_count": null,
   "metadata": {},
   "outputs": [],
   "source": [
    "fp = open(\"output.txt\")\n",
    "fp.close()"
   ]
  },
  {
   "cell_type": "markdown",
   "metadata": {},
   "source": [
    "One must keep in mind that the mode argument is not mandatory. If not passed, then Python will assume it to be “ r ” by default."
   ]
  },
  {
   "cell_type": "markdown",
   "metadata": {},
   "source": [
    "### Reading file as a string"
   ]
  },
  {
   "cell_type": "code",
   "execution_count": null,
   "metadata": {},
   "outputs": [],
   "source": [
    "fp=open(\"output.txt\",'r')"
   ]
  },
  {
   "cell_type": "code",
   "execution_count": null,
   "metadata": {},
   "outputs": [],
   "source": [
    "dir(fp)\n",
    "# help(open)"
   ]
  },
  {
   "cell_type": "code",
   "execution_count": 4,
   "metadata": {},
   "outputs": [
    {
     "name": "stdout",
     "output_type": "stream",
     "text": [
      "this is python learning\n",
      "Python learning is fun\n",
      "Its interpreter based language\n"
     ]
    }
   ],
   "source": [
    "fp=open(\"output.txt\",'r')\n",
    "s=fp.read()\n",
    "print(s)\n",
    "fp.close()\n",
    "# s=fp.read()\n"
   ]
  },
  {
   "cell_type": "code",
   "execution_count": 5,
   "metadata": {},
   "outputs": [
    {
     "name": "stdout",
     "output_type": "stream",
     "text": [
      "this is python learning\n",
      "P\n"
     ]
    }
   ],
   "source": [
    "fp = open(\"output.txt\", \"r\")\n",
    "s = fp.read(25)\n",
    "print(s)\n",
    "fp.close()"
   ]
  },
  {
   "cell_type": "markdown",
   "metadata": {},
   "source": [
    "### Reading file line by line\n"
   ]
  },
  {
   "cell_type": "code",
   "execution_count": 6,
   "metadata": {},
   "outputs": [
    {
     "name": "stdout",
     "output_type": "stream",
     "text": [
      "p\n",
      "y\n",
      "t\n",
      "h\n",
      "o\n",
      "n\n"
     ]
    }
   ],
   "source": [
    "for i in \"python\":\n",
    "    print(i)"
   ]
  },
  {
   "cell_type": "code",
   "execution_count": 7,
   "metadata": {},
   "outputs": [
    {
     "name": "stdout",
     "output_type": "stream",
     "text": [
      "java\n",
      "python\n",
      "scala\n"
     ]
    }
   ],
   "source": [
    "l = [\"java\", \"python\", \"scala\"]\n",
    "for i in l:\n",
    "    print(i)"
   ]
  },
  {
   "cell_type": "code",
   "execution_count": 8,
   "metadata": {},
   "outputs": [
    {
     "name": "stdout",
     "output_type": "stream",
     "text": [
      "sub1\n",
      "sub2\n",
      "sub3\n"
     ]
    }
   ],
   "source": [
    "d = {\"sub1\": \"java\", \"sub2\": \"python\", \"sub3\": \"scala\"}\n",
    "for i in d:\n",
    "    print(i)"
   ]
  },
  {
   "cell_type": "code",
   "execution_count": 9,
   "metadata": {},
   "outputs": [
    {
     "name": "stdout",
     "output_type": "stream",
     "text": [
      "java sub1\n",
      "python sub2\n",
      "scala sub3\n"
     ]
    }
   ],
   "source": [
    "d = {\"sub1\": \"java\", \"sub2\": \"python\", \"sub3\": \"scala\"}\n",
    "for i in d:\n",
    "    print(d[i], i)"
   ]
  },
  {
   "cell_type": "code",
   "execution_count": 10,
   "metadata": {},
   "outputs": [
    {
     "name": "stdout",
     "output_type": "stream",
     "text": [
      "this is python learning\n",
      "\n",
      "Python learning is fun\n",
      "\n",
      "Its interpreter based language\n"
     ]
    }
   ],
   "source": [
    "fp = open(\"output.txt\", \"r\")\n",
    "for i in fp:\n",
    "    print(i)"
   ]
  },
  {
   "cell_type": "code",
   "execution_count": null,
   "metadata": {},
   "outputs": [],
   "source": [
    "fp = open(\"output.txt\", \"r\")"
   ]
  },
  {
   "cell_type": "code",
   "execution_count": 11,
   "metadata": {},
   "outputs": [
    {
     "name": "stdout",
     "output_type": "stream",
     "text": [
      "\n",
      "i am after readlne\n",
      " Python file handling\n",
      " Opening a file in read mode\n",
      "java\n",
      "python\n",
      "scala\n"
     ]
    }
   ],
   "source": [
    "print(fp.readline())\n",
    "print(\"i am after readlne\")\n",
    "print(\" Python file handling\")\n",
    "print(\" Opening a file in read mode\")\n",
    "l = [\"java\", \"python\", \"scala\"]\n",
    "for i in l:\n",
    "    print(i)"
   ]
  },
  {
   "cell_type": "code",
   "execution_count": 12,
   "metadata": {},
   "outputs": [
    {
     "name": "stdout",
     "output_type": "stream",
     "text": [
      "\n"
     ]
    }
   ],
   "source": [
    "print(fp.readline())"
   ]
  },
  {
   "cell_type": "code",
   "execution_count": 13,
   "metadata": {},
   "outputs": [
    {
     "data": {
      "text/plain": [
       "''"
      ]
     },
     "execution_count": 13,
     "metadata": {},
     "output_type": "execute_result"
    }
   ],
   "source": [
    "fp.readline()"
   ]
  },
  {
   "cell_type": "code",
   "execution_count": 14,
   "metadata": {},
   "outputs": [
    {
     "data": {
      "text/plain": [
       "''"
      ]
     },
     "execution_count": 14,
     "metadata": {},
     "output_type": "execute_result"
    }
   ],
   "source": [
    "fp.readline()"
   ]
  },
  {
   "cell_type": "code",
   "execution_count": 15,
   "metadata": {},
   "outputs": [
    {
     "data": {
      "text/plain": [
       "''"
      ]
     },
     "execution_count": 15,
     "metadata": {},
     "output_type": "execute_result"
    }
   ],
   "source": [
    "fp.readline()"
   ]
  },
  {
   "cell_type": "code",
   "execution_count": 16,
   "metadata": {},
   "outputs": [
    {
     "name": "stdout",
     "output_type": "stream",
     "text": [
      "Help on TextIOWrapper object:\n",
      "\n",
      "class TextIOWrapper(_TextIOBase)\n",
      " |  TextIOWrapper(buffer, encoding=None, errors=None, newline=None, line_buffering=False, write_through=False)\n",
      " |  \n",
      " |  Character and line based layer over a BufferedIOBase object, buffer.\n",
      " |  \n",
      " |  encoding gives the name of the encoding that the stream will be\n",
      " |  decoded or encoded with. It defaults to locale.getpreferredencoding(False).\n",
      " |  \n",
      " |  errors determines the strictness of encoding and decoding (see\n",
      " |  help(codecs.Codec) or the documentation for codecs.register) and\n",
      " |  defaults to \"strict\".\n",
      " |  \n",
      " |  newline controls how line endings are handled. It can be None, '',\n",
      " |  '\\n', '\\r', and '\\r\\n'.  It works as follows:\n",
      " |  \n",
      " |  * On input, if newline is None, universal newlines mode is\n",
      " |    enabled. Lines in the input can end in '\\n', '\\r', or '\\r\\n', and\n",
      " |    these are translated into '\\n' before being returned to the\n",
      " |    caller. If it is '', universal newline mode is enabled, but line\n",
      " |    endings are returned to the caller untranslated. If it has any of\n",
      " |    the other legal values, input lines are only terminated by the given\n",
      " |    string, and the line ending is returned to the caller untranslated.\n",
      " |  \n",
      " |  * On output, if newline is None, any '\\n' characters written are\n",
      " |    translated to the system default line separator, os.linesep. If\n",
      " |    newline is '' or '\\n', no translation takes place. If newline is any\n",
      " |    of the other legal values, any '\\n' characters written are translated\n",
      " |    to the given string.\n",
      " |  \n",
      " |  If line_buffering is True, a call to flush is implied when a call to\n",
      " |  write contains a newline character.\n",
      " |  \n",
      " |  Method resolution order:\n",
      " |      TextIOWrapper\n",
      " |      _TextIOBase\n",
      " |      _IOBase\n",
      " |      builtins.object\n",
      " |  \n",
      " |  Methods defined here:\n",
      " |  \n",
      " |  __init__(self, /, *args, **kwargs)\n",
      " |      Initialize self.  See help(type(self)) for accurate signature.\n",
      " |  \n",
      " |  __next__(self, /)\n",
      " |      Implement next(self).\n",
      " |  \n",
      " |  __repr__(self, /)\n",
      " |      Return repr(self).\n",
      " |  \n",
      " |  close(self, /)\n",
      " |      Flush and close the IO object.\n",
      " |      \n",
      " |      This method has no effect if the file is already closed.\n",
      " |  \n",
      " |  detach(self, /)\n",
      " |      Separate the underlying buffer from the TextIOBase and return it.\n",
      " |      \n",
      " |      After the underlying buffer has been detached, the TextIO is in an\n",
      " |      unusable state.\n",
      " |  \n",
      " |  fileno(self, /)\n",
      " |      Returns underlying file descriptor if one exists.\n",
      " |      \n",
      " |      OSError is raised if the IO object does not use a file descriptor.\n",
      " |  \n",
      " |  flush(self, /)\n",
      " |      Flush write buffers, if applicable.\n",
      " |      \n",
      " |      This is not implemented for read-only and non-blocking streams.\n",
      " |  \n",
      " |  isatty(self, /)\n",
      " |      Return whether this is an 'interactive' stream.\n",
      " |      \n",
      " |      Return False if it can't be determined.\n",
      " |  \n",
      " |  read(self, size=-1, /)\n",
      " |      Read at most n characters from stream.\n",
      " |      \n",
      " |      Read from underlying buffer until we have n characters or we hit EOF.\n",
      " |      If n is negative or omitted, read until EOF.\n",
      " |  \n",
      " |  readable(self, /)\n",
      " |      Return whether object was opened for reading.\n",
      " |      \n",
      " |      If False, read() will raise OSError.\n",
      " |  \n",
      " |  readline(self, size=-1, /)\n",
      " |      Read until newline or EOF.\n",
      " |      \n",
      " |      Returns an empty string if EOF is hit immediately.\n",
      " |  \n",
      " |  reconfigure(self, /, *, encoding=None, errors=None, newline=None, line_buffering=None, write_through=None)\n",
      " |      Reconfigure the text stream with new parameters.\n",
      " |      \n",
      " |      This also does an implicit stream flush.\n",
      " |  \n",
      " |  seek(self, cookie, whence=0, /)\n",
      " |      Change stream position.\n",
      " |      \n",
      " |      Change the stream position to the given byte offset. The offset is\n",
      " |      interpreted relative to the position indicated by whence.  Values\n",
      " |      for whence are:\n",
      " |      \n",
      " |      * 0 -- start of stream (the default); offset should be zero or positive\n",
      " |      * 1 -- current stream position; offset may be negative\n",
      " |      * 2 -- end of stream; offset is usually negative\n",
      " |      \n",
      " |      Return the new absolute position.\n",
      " |  \n",
      " |  seekable(self, /)\n",
      " |      Return whether object supports random access.\n",
      " |      \n",
      " |      If False, seek(), tell() and truncate() will raise OSError.\n",
      " |      This method may need to do a test seek().\n",
      " |  \n",
      " |  tell(self, /)\n",
      " |      Return current stream position.\n",
      " |  \n",
      " |  truncate(self, pos=None, /)\n",
      " |      Truncate file to size bytes.\n",
      " |      \n",
      " |      File pointer is left unchanged.  Size defaults to the current IO\n",
      " |      position as reported by tell().  Returns the new size.\n",
      " |  \n",
      " |  writable(self, /)\n",
      " |      Return whether object was opened for writing.\n",
      " |      \n",
      " |      If False, write() will raise OSError.\n",
      " |  \n",
      " |  write(self, text, /)\n",
      " |      Write string to stream.\n",
      " |      Returns the number of characters written (which is always equal to\n",
      " |      the length of the string).\n",
      " |  \n",
      " |  ----------------------------------------------------------------------\n",
      " |  Static methods defined here:\n",
      " |  \n",
      " |  __new__(*args, **kwargs) from builtins.type\n",
      " |      Create and return a new object.  See help(type) for accurate signature.\n",
      " |  \n",
      " |  ----------------------------------------------------------------------\n",
      " |  Data descriptors defined here:\n",
      " |  \n",
      " |  buffer\n",
      " |  \n",
      " |  closed\n",
      " |  \n",
      " |  encoding\n",
      " |      Encoding of the text stream.\n",
      " |      \n",
      " |      Subclasses should override.\n",
      " |  \n",
      " |  errors\n",
      " |      The error setting of the decoder or encoder.\n",
      " |      \n",
      " |      Subclasses should override.\n",
      " |  \n",
      " |  line_buffering\n",
      " |  \n",
      " |  name\n",
      " |  \n",
      " |  newlines\n",
      " |      Line endings translated so far.\n",
      " |      \n",
      " |      Only line endings translated during reading are considered.\n",
      " |      \n",
      " |      Subclasses should override.\n",
      " |  \n",
      " |  write_through\n",
      " |  \n",
      " |  ----------------------------------------------------------------------\n",
      " |  Methods inherited from _IOBase:\n",
      " |  \n",
      " |  __del__(...)\n",
      " |  \n",
      " |  __enter__(...)\n",
      " |  \n",
      " |  __exit__(...)\n",
      " |  \n",
      " |  __iter__(self, /)\n",
      " |      Implement iter(self).\n",
      " |  \n",
      " |  readlines(self, hint=-1, /)\n",
      " |      Return a list of lines from the stream.\n",
      " |      \n",
      " |      hint can be specified to control the number of lines read: no more\n",
      " |      lines will be read if the total size (in bytes/characters) of all\n",
      " |      lines so far exceeds hint.\n",
      " |  \n",
      " |  writelines(self, lines, /)\n",
      " |      Write a list of lines to stream.\n",
      " |      \n",
      " |      Line separators are not added, so it is usual for each of the\n",
      " |      lines provided to have a line separator at the end.\n",
      " |  \n",
      " |  ----------------------------------------------------------------------\n",
      " |  Data descriptors inherited from _IOBase:\n",
      " |  \n",
      " |  __dict__\n",
      "\n"
     ]
    }
   ],
   "source": [
    "fp.close()\n",
    "help(fp)"
   ]
  },
  {
   "cell_type": "code",
   "execution_count": null,
   "metadata": {},
   "outputs": [],
   "source": [
    "fp=open(\"output.txt\",'r')\n",
    "fp.close()\n",
    "print(fp)\n",
    "print(fp.read())"
   ]
  },
  {
   "cell_type": "code",
   "execution_count": 17,
   "metadata": {},
   "outputs": [
    {
     "name": "stdout",
     "output_type": "stream",
     "text": [
      "this is python learning\n",
      "\n",
      "Python learning is fun\n",
      "\n",
      "Its interpreter based language\n",
      "after file closing \n"
     ]
    },
    {
     "ename": "ValueError",
     "evalue": "I/O operation on closed file.",
     "output_type": "error",
     "traceback": [
      "\u001b[1;31m---------------------------------------------------------------------------\u001b[0m",
      "\u001b[1;31mValueError\u001b[0m                                Traceback (most recent call last)",
      "\u001b[1;32m<ipython-input-17-897a34810ea3>\u001b[0m in \u001b[0;36m<module>\u001b[1;34m\u001b[0m\n\u001b[0;32m      8\u001b[0m         \u001b[0mprint\u001b[0m\u001b[1;33m(\u001b[0m\u001b[0mi\u001b[0m\u001b[1;33m)\u001b[0m\u001b[1;33m\u001b[0m\u001b[1;33m\u001b[0m\u001b[0m\n\u001b[0;32m      9\u001b[0m \u001b[0mprint\u001b[0m\u001b[1;33m(\u001b[0m\u001b[1;34m\"after file closing \"\u001b[0m\u001b[1;33m)\u001b[0m\u001b[1;33m\u001b[0m\u001b[1;33m\u001b[0m\u001b[0m\n\u001b[1;32m---> 10\u001b[1;33m \u001b[0mprint\u001b[0m\u001b[1;33m(\u001b[0m\u001b[0mfp\u001b[0m\u001b[1;33m.\u001b[0m\u001b[0mread\u001b[0m\u001b[1;33m(\u001b[0m\u001b[1;33m)\u001b[0m\u001b[1;33m)\u001b[0m\u001b[1;33m\u001b[0m\u001b[1;33m\u001b[0m\u001b[0m\n\u001b[0m",
      "\u001b[1;31mValueError\u001b[0m: I/O operation on closed file."
     ]
    }
   ],
   "source": [
    "# fp=open(\"output.txt\",'r')\n",
    "# ---\n",
    "# ---\n",
    "# ---\n",
    "# fp.close()\n",
    "with open(\"output.txt\", \"r\") as fp:  # fp=open(\"output.txt\",'r')\n",
    "    for i in fp:\n",
    "        print(i)\n",
    "print(\"after file closing \")\n",
    "print(fp.read())"
   ]
  },
  {
   "cell_type": "code",
   "execution_count": null,
   "metadata": {},
   "outputs": [],
   "source": [
    "print(\"hello\")\n",
    "print(\"world\")\n",
    "print(\"\\n\")\n",
    "print(\"python\")"
   ]
  },
  {
   "cell_type": "code",
   "execution_count": null,
   "metadata": {},
   "outputs": [],
   "source": [
    "input_file = open(\"hello.txt\", \"r\")"
   ]
  },
  {
   "cell_type": "markdown",
   "metadata": {},
   "source": [
    "### Reading file as a LIST"
   ]
  },
  {
   "cell_type": "code",
   "execution_count": 18,
   "metadata": {},
   "outputs": [],
   "source": [
    "fp = open(\"output.txt\", \"r\")"
   ]
  },
  {
   "cell_type": "code",
   "execution_count": 19,
   "metadata": {},
   "outputs": [
    {
     "data": {
      "text/plain": [
       "['this is python learning\\n',\n",
       " 'Python learning is fun\\n',\n",
       " 'Its interpreter based language']"
      ]
     },
     "execution_count": 19,
     "metadata": {},
     "output_type": "execute_result"
    }
   ],
   "source": [
    "a = fp.readlines()  # read()-- string , readline()-- one line at a time\n",
    "a"
   ]
  },
  {
   "cell_type": "code",
   "execution_count": null,
   "metadata": {},
   "outputs": [],
   "source": [
    "a[2][2]"
   ]
  },
  {
   "cell_type": "code",
   "execution_count": 20,
   "metadata": {},
   "outputs": [
    {
     "name": "stdout",
     "output_type": "stream",
     "text": [
      "['this is python learning\\n', 'Python learning is fun\\n']\n"
     ]
    }
   ],
   "source": [
    "print(a[0:2])"
   ]
  },
  {
   "cell_type": "code",
   "execution_count": 21,
   "metadata": {},
   "outputs": [
    {
     "name": "stdout",
     "output_type": "stream",
     "text": [
      "Its interpreter based language\n"
     ]
    }
   ],
   "source": [
    "print(a[-1])"
   ]
  },
  {
   "cell_type": "code",
   "execution_count": null,
   "metadata": {},
   "outputs": [],
   "source": [
    "fp.close()"
   ]
  },
  {
   "cell_type": "code",
   "execution_count": null,
   "metadata": {},
   "outputs": [],
   "source": [
    "print(\"hello\")\n",
    "print(\"\\n\")\n",
    "print(\"print\")"
   ]
  },
  {
   "cell_type": "markdown",
   "metadata": {},
   "source": [
    "#### Writing data to a file"
   ]
  },
  {
   "cell_type": "code",
   "execution_count": 23,
   "metadata": {},
   "outputs": [],
   "source": [
    "fp = open(\"output1.txt\", \"w\")"
   ]
  },
  {
   "cell_type": "code",
   "execution_count": 24,
   "metadata": {},
   "outputs": [],
   "source": [
    "fp.write(\"this is for my test string\\n\")\n",
    "fp.close()"
   ]
  },
  {
   "cell_type": "code",
   "execution_count": 25,
   "metadata": {},
   "outputs": [],
   "source": [
    "fp = open(\"output1.txt\", \"w\")\n",
    "a = \"this is for file operation write operation\"\n",
    "fp.write(a)\n",
    "line2 = \" the emblem of our land for write operation.\\n\"\n",
    "fp.write(line2)\n",
    "fp.write(\"  this is for my test string\\n\")\n",
    "fp.close()"
   ]
  },
  {
   "cell_type": "code",
   "execution_count": 26,
   "metadata": {},
   "outputs": [],
   "source": [
    "output_file = open(\"output1.txt\", \"w\")\n",
    "lines_to_write = [\n",
    "    \"This is my file.\\n\",\n",
    "    \"There are many like it,\\r\",\n",
    "    \"but this one is mine.\\r\",\n",
    "]\n",
    "output_file.writelines(lines_to_write)\n",
    "output_file.close()"
   ]
  },
  {
   "cell_type": "markdown",
   "metadata": {},
   "source": [
    "#### Append mode"
   ]
  },
  {
   "cell_type": "code",
   "execution_count": 27,
   "metadata": {},
   "outputs": [],
   "source": [
    "with open(\"output1.txt\", \"a\") as fp:\n",
    "    l = [\"This is to append\", \"\\nThis will be last line in the file\"]\n",
    "    fp.writelines(l)"
   ]
  },
  {
   "cell_type": "code",
   "execution_count": 28,
   "metadata": {},
   "outputs": [
    {
     "name": "stdout",
     "output_type": "stream",
     "text": [
      "Initial file pointer position 0\n",
      "After seek 20 file pointer position 20\n"
     ]
    }
   ],
   "source": [
    "with open(\"output12.txt\", \"r+\") as fp:\n",
    "    i = fp.tell()\n",
    "    print(\"Initial file pointer position\", i)\n",
    "    fp.seek(20)\n",
    "    i = fp.tell()\n",
    "    print(f\"After seek 20 file pointer position {i}\")"
   ]
  },
  {
   "cell_type": "code",
   "execution_count": 29,
   "metadata": {},
   "outputs": [
    {
     "name": "stdout",
     "output_type": "stream",
     "text": [
      "Initial file pointer position 0\n",
      "After seek 20 file pointer position 20\n"
     ]
    }
   ],
   "source": [
    "with open(\"output12.txt\", \"r+\") as fp:\n",
    "    i = fp.tell()\n",
    "    print(\"Initial file pointer position\", i)\n",
    "    fp.seek(20)\n",
    "    i = fp.tell()\n",
    "    print(f\"After seek 20 file pointer position {i}\")\n",
    "    fp.write(\"Append example string\")"
   ]
  },
  {
   "cell_type": "code",
   "execution_count": 30,
   "metadata": {},
   "outputs": [
    {
     "name": "stdout",
     "output_type": "stream",
     "text": [
      "5\n",
      "10\n",
      "74\n"
     ]
    }
   ],
   "source": [
    "import os ,sys\n",
    "with open(\"output12.txt\", 'rb+') as fc:\n",
    "    fc.seek(4)\n",
    "    fc.seek(5,0)\n",
    "    print(fc.tell())\n",
    "    fc.seek(5,1)\n",
    "    print(fc.tell())\n",
    "    fc.seek(-2,2)\n",
    "    print(fc.tell())\n"
   ]
  },
  {
   "cell_type": "raw",
   "metadata": {},
   "source": [
    "seek(self, target, whence=0, /)\n",
    " |      Change stream position.\n",
    " |      \n",
    " |      Change the stream position to the given byte offset. The offset is\n",
    " |      interpreted relative to the position indicated by whence.  Values\n",
    " |      for whence are:\n",
    " |      \n",
    " |      * 0 -- start of stream (the default); offset should be zero or positive\n",
    " |      * 1 -- current stream position; offset may be negative\n",
    " |      * 2 -- end of stream; offset is usually negative\n",
    " |      \n",
    " |      Return the new absolute position."
   ]
  },
  {
   "cell_type": "code",
   "execution_count": 31,
   "metadata": {},
   "outputs": [
    {
     "name": "stdout",
     "output_type": "stream",
     "text": [
      "this is after autometic close \n"
     ]
    }
   ],
   "source": [
    "with open('output.txt', 'r') as in_file,open('output_file.txt', 'w') as out_file:\n",
    "    for line in in_file:\n",
    "        out_file.write(line)\n",
    "\n",
    "print(\"this is after autometic close \")"
   ]
  },
  {
   "cell_type": "code",
   "execution_count": null,
   "metadata": {},
   "outputs": [],
   "source": [
    "with open('somefile.txt', 'w+') as f:\n",
    "    # Note that f has now been truncated to 0 bytes, so you'll only\n",
    "    # be able to read data that you write after this point\n",
    "    f.write('somedata\\n')\n",
    "    f.seek(0)  # Important: return to the top of the file before reading, otherwise you'll just read an empty string\n",
    "    data = f.read() # Returns 'somedata\\n'\n",
    "    print(data)\n",
    "print(\"file closed\")"
   ]
  },
  {
   "cell_type": "markdown",
   "metadata": {},
   "source": [
    "The Python docs say that w+ will \"overwrite the existing file if the file exists\". So as soon as you open a file with w+, it is now an empty file: it contains 0 bytes. If it used to contain data, that data has been truncated — cut off and thrown away — and now the file size is 0 bytes, so you can't read any of the data that existed before you opened the file with w+. If you actually wanted to read the previous data and add to it, you should use r+ instead of w+."
   ]
  },
  {
   "cell_type": "markdown",
   "metadata": {},
   "source": [
    "# Assignment\n",
    "* find a string \"Python\" in a file\n",
    "* till now whatever programs we did , do with file handling\n",
    "* With open is used for what?\n",
    "* Write string, list, tuple, set and dictionary data to file\n",
    "* Prompt for a number N and file F, and display the first N lines of F.\n",
    "* Write a \"pager\" program. Your solution should prompt for a filename, and display the text file 25 lines at a time, pausing each time to ask the user to \"press a key to continue.\"\n",
    "* Create a crude and elementary text file editor. Your solution is menudriven, with the following options: a. create file [prompt for filename and any number of lines of input], b. display file [dump its contents to the screen], c. save file, and d. quit.\n",
    "* Write a program to compare two text files. If they are different, give the line and column numbers in the files where the first difference occurs.\n",
    "* https://knightlab.northwestern.edu/2014/06/05/five-mini-programming-projects-for-the-python-beginner/\n",
    "* Find the errors in log file\n",
    "* You have 2 log files , merge them and sort by time , first charcets are time\n"
   ]
  },
  {
   "cell_type": "markdown",
   "metadata": {},
   "source": [
    "1. Write a Python program to read an entire text file. \n",
    "\n",
    "2. Write a Python program to read first n lines of a file. \n",
    "\n",
    "3. Write a Python program to append text to a file and display the text. \n",
    "\n",
    "4. Write a Python program to read last n lines of a file. \n",
    "\n",
    "5. Write a Python program to read a file line by line and store it into a list.  \n",
    "\n",
    "6. Write a Python program to read a file line by line store it into a variable.  \n",
    "\n",
    "7. Write a Python program to read a file line by line store it into an array. \n",
    "\n",
    "8. Write a python program to find the longest words. \n",
    "\n",
    "9. Write a Python program to count the number of lines in a text file. \n",
    "\n",
    "10. Write a Python program to count the frequency of words in a file. \n",
    "\n",
    "11. Write a Python program to get the file size of a plain file. \n",
    "\n",
    "12. Write a Python program to write a list to a file. \n",
    "\n",
    "13. Write a Python program to copy the contents of a file to another file . \n",
    "\n",
    "14. Write a Python program to combine each line from first file with the corresponding line in second file. \n",
    "\n",
    "15. Write a Python program to read a random line from a file. \n",
    "\n",
    "16. Write a Python program to assess if a file is closed or not. \n",
    "\n",
    "17. Write a Python program to remove newline characters from a file. \n",
    "\n"
   ]
  },
  {
   "cell_type": "code",
   "execution_count": null,
   "metadata": {},
   "outputs": [],
   "source": [
    "1.\n",
    "def file_read(fname):\n",
    "        txt = open(fname)\n",
    "        print(txt.read())\n",
    "\n",
    "file_read('test.txt')\n",
    "\n",
    "2.\n",
    "def file_read_from_head(fname, nlines):\n",
    "        from itertools import islice\n",
    "        with open(fname) as f:\n",
    "                for line in islice(f, nlines):\n",
    "                        print(line)\n",
    "file_read_from_head('test.txt',2)\n",
    "\n",
    "3.\n",
    "def file_read(fname):\n",
    "        from itertools import islice\n",
    "        with open(fname, \"w\") as myfile:\n",
    "                myfile.write(\"Python Exercises\\n\")\n",
    "                myfile.write(\"Java Exercises\")\n",
    "        txt = open(fname)\n",
    "        print(txt.read())\n",
    "file_read('abc.txt')\n",
    "\n",
    "4.\n",
    "import sys\n",
    "import os\n",
    "def file_read_from_tail(fname,lines):\n",
    "        bufsize = 8192\n",
    "        fsize = os.stat(fname).st_size\n",
    "        iter = 0\n",
    "        with open(fname) as f:\n",
    "                if bufsize > fsize:\n",
    "                        bufsize = fsize-1\n",
    "                        data = []\n",
    "                        while True:\n",
    "                                iter +=1\n",
    "                                f.seek(fsize-bufsize*iter)\n",
    "                                data.extend(f.readlines())\n",
    "                                if len(data) >= lines or f.tell() == 0:\n",
    "                                        print(''.join(data[-lines:]))\n",
    "                                        break\n",
    "\n",
    "file_read_from_tail('test.txt',2)\n",
    "\n",
    "5.\n",
    "def file_read(fname):\n",
    "        with open(fname) as f:\n",
    "                #Content_list is the list that contains the read lines.     \n",
    "                content_list = f.readlines()\n",
    "                print(content_list)\n",
    "\n",
    "file_read(\\'test.txt\\')\n",
    "\n",
    "6.\n",
    "def file_read(fname):\n",
    "        with open (fname, \"r\") as myfile:\n",
    "                data=myfile.readlines()\n",
    "                print(data)\n",
    "file_read('test.txt')\n",
    "\n",
    "7.\n",
    "\n",
    "def file_read(fname):\n",
    "        content_array = []\n",
    "        with open(fname) as f:\n",
    "                #Content_list is the list that contains the read lines.     \n",
    "                for line in f:\n",
    "                        content_array.append(line)\n",
    "                print(content_array)\n",
    "\n",
    "file_read('test.txt')\n",
    "\n",
    "8.\n",
    "def longest_word(filename):\n",
    "    with open(filename, 'r') as infile:\n",
    "              words = infile.read().split()\n",
    "    max_len = len(max(words, key=len))\n",
    "    return [word for word in words if len(word) == max_len]\n",
    "\n",
    "print(longest_word('test.txt'))\n",
    "\n",
    "9.\n",
    "def file_lengthy(fname):\n",
    "        with open(fname) as f:\n",
    "                for i, l in enumerate(f):\n",
    "                        pass\n",
    "        return i + 1\n",
    "print(\"Number of lines in the file: \",file_lengthy(\"test.txt\"))\n",
    "\n",
    "10.\n",
    "from collections import Counter\n",
    "def word_count(fname):\n",
    "        with open(fname) as f:\n",
    "                return Counter(f.read().split())\n",
    "\n",
    "print(\"Number of words in the file :\",word_count(\"test.txt\"))\n",
    "\n",
    "11.\n",
    "def file_size(fname):\n",
    "        import os\n",
    "        statinfo = os.stat(fname)\n",
    "        return statinfo.st_size\n",
    "\n",
    "print(\"File size in bytes of a plain file: \",file_size(\"test.txt\"))\n",
    "\n",
    "12.\n",
    "color = ['Red', 'Green', 'White', 'Black', 'Pink', 'Yellow']\n",
    "with open('abc.txt', \"w\") as myfile:\n",
    "        for c in color:\n",
    "                myfile.write(\"%s\\n\" % c)\n",
    "\n",
    "content = open('abc.txt')\n",
    "print(content.read())\n",
    "\n",
    "13.\n",
    "from shutil import copyfile\n",
    "copyfile('test.py', 'abc.py')\n",
    "\n",
    "14.\n",
    "with open('abc.txt') as fh1, open('test.txt') as fh2:\n",
    "    for line1, line2 in zip(fh1, fh2):\n",
    "        # line1 from abc.txt, line2 from test.txtg\n",
    "        print(line1+line2)\n",
    "\t\t\n",
    "\n",
    "15.\n",
    "import random\n",
    "def random_line(fname):\n",
    "    lines = open(fname).read().splitlines()\n",
    "    return random.choice(lines)\n",
    "print(random_line('test.txt'))\n",
    "\n",
    "16.\n",
    "f = open('abc.txt','r')\n",
    "print(f.closed)\n",
    "f.close()\n",
    "print(f.closed)\n",
    "\n",
    "17.\n",
    "def remove_newlines(fname):\n",
    "    flist = open(fname).readlines()\n",
    "    return [s.rstrip('\\n') for s in flist]\n",
    "\n",
    "print(remove_newlines(\"test.txt\"))\n"
   ]
  },
  {
   "cell_type": "markdown",
   "metadata": {},
   "source": [
    "### Exercise"
   ]
  },
  {
   "cell_type": "markdown",
   "metadata": {},
   "source": [
    "Read in the raw text file poem.txt and display each line by looping over them individually, then close the file"
   ]
  },
  {
   "cell_type": "markdown",
   "metadata": {},
   "source": []
  },
  {
   "cell_type": "code",
   "execution_count": null,
   "metadata": {},
   "outputs": [],
   "source": [
    "input_file = open(\"C:/test/useless text files/hello.txt\", \"r\")\n",
    "import os\n",
    "path = \"C:/Real Python/python-basics-exercises\"\n",
    "os.mkdir(os.path.join(path, \"My Directory\"))"
   ]
  },
  {
   "cell_type": "code",
   "execution_count": null,
   "metadata": {},
   "outputs": [],
   "source": [
    "import os\n",
    "print(os.path.abspath(__file__))\n",
    "# BASE_DIR = os.path.dirname(os.path.dirname(os.path.abspath(__file__)))"
   ]
  },
  {
   "cell_type": "code",
   "execution_count": null,
   "metadata": {},
   "outputs": [],
   "source": []
  }
 ],
 "metadata": {
  "kernelspec": {
   "display_name": "Python 3",
   "language": "python",
   "name": "python3"
  },
  "language_info": {
   "codemirror_mode": {
    "name": "ipython",
    "version": 3
   },
   "file_extension": ".py",
   "mimetype": "text/x-python",
   "name": "python",
   "nbconvert_exporter": "python",
   "pygments_lexer": "ipython3",
   "version": "3.8.3"
  }
 },
 "nbformat": 4,
 "nbformat_minor": 2
}
