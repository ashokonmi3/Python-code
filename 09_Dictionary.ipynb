{
 "cells": [
  {
   "cell_type": "markdown",
   "metadata": {},
   "source": [
    "## Dictionaries"
   ]
  },
  {
   "cell_type": "markdown",
   "metadata": {},
   "source": [
    "We have learned about \"Sequences\" in the previous session. Now, let's switch the gears and learn about \"mappings\" in Python. These dictionaries are nothing but hash tables in other programming languages.\n",
    "\n",
    "In this section, we will learn briefly about an introduction to dictionaries and what it consists of:\n",
    "\n",
    "1.) Constructing a Dictionary\n",
    "2.) Accessing objects from a Dictionary\n",
    "3.) Nesting Dictionaries\n",
    "4.) Basic Dictionary Methods\n",
    "\n",
    "Before we dive deep into this concept, let's understand what are Mappings?\n",
    "\n",
    "Mappings are a collection of objects that are stored by a \"key\". Unlike a sequence, mapping store objects by their relative position. This is an important distinction since mappings won't retain the order since they have objects defined by a key.\n",
    "\n",
    "A Python dictionary consists of a key and then an associated value. That value can be almost any Python object.\n",
    "Constructing a Dictionary\n",
    "\n",
    "Let's see how we can construct dictionaries to get a better understanding of how they work!"
   ]
  },
  {
   "cell_type": "raw",
   "metadata": {},
   "source": [
    "\" \" or ' '- String - immutable\n",
    "[]- Lists - mutable\n",
    "() tuple - Immutable\n",
    "([]) set or {}- mutable (no sequence no indexes, contains only immutable data)\n",
    "{} dictionary, but it will have key value"
   ]
  },
  {
   "cell_type": "code",
   "execution_count": null,
   "metadata": {},
   "outputs": [],
   "source": [
    "l=[\"Thor\",\"Marvel\", \"Thor- Ragnarok\"]\n",
    "      0       1            2\n",
    "   'name'  'studio'   'movie'   \n",
    "        \n",
    "        \n",
    "l[0] --- \"Thor\"\n",
    "l[1] -- \"Marvel\"\n",
    "l[2] -- \" Thor Ragnarok\"\n",
    "l['name']-- 'Thor'\n",
    "l['studio'] -- 'Marvel'\n",
    "l['movie'] -- 'Thor-Ragnarok'"
   ]
  },
  {
   "cell_type": "markdown",
   "metadata": {},
   "source": [
    "dictionary is a key -valye pair<br>\n",
    "{key1:value1,key2:value2.....}<br>\n",
    "its mutable data type<br>\n",
    "No indexing required<br>"
   ]
  },
  {
   "cell_type": "code",
   "execution_count": 2,
   "metadata": {},
   "outputs": [],
   "source": [
    "w={\"name\":\"Thor\",\"place\":\"Asguardian\",\"movie\":\"Thor Ragnarok\"}"
   ]
  },
  {
   "cell_type": "code",
   "execution_count": 3,
   "metadata": {},
   "outputs": [
    {
     "data": {
      "text/plain": [
       "{'name': 'Thor',\n",
       " 'place': 'Asguardian',\n",
       " 'movie': 'Thor--Ragnarok',\n",
       " 'otherhero': ['Ironman', 'Captain America', 'spiderman']}"
      ]
     },
     "execution_count": 3,
     "metadata": {},
     "output_type": "execute_result"
    }
   ],
   "source": [
    "w={\"name\":\"Thor\",\"place\":\"Asguardian\",\"movie\":\"Thor--Ragnarok\", \"otherhero\": [\"Ironman\",\"Captain America\",\"spiderman\"] }\n",
    "w\n",
    "# print(w['name'])"
   ]
  },
  {
   "cell_type": "code",
   "execution_count": 4,
   "metadata": {},
   "outputs": [
    {
     "data": {
      "text/plain": [
       "dict"
      ]
     },
     "execution_count": 4,
     "metadata": {},
     "output_type": "execute_result"
    }
   ],
   "source": [
    "type(w)"
   ]
  },
  {
   "cell_type": "code",
   "execution_count": 5,
   "metadata": {},
   "outputs": [
    {
     "data": {
      "text/plain": [
       "'Thor'"
      ]
     },
     "execution_count": 5,
     "metadata": {},
     "output_type": "execute_result"
    }
   ],
   "source": [
    "w[\"name\"]"
   ]
  },
  {
   "cell_type": "code",
   "execution_count": 6,
   "metadata": {},
   "outputs": [
    {
     "data": {
      "text/plain": [
       "'Asguardian'"
      ]
     },
     "execution_count": 6,
     "metadata": {},
     "output_type": "execute_result"
    }
   ],
   "source": [
    "w[\"place\"]"
   ]
  },
  {
   "cell_type": "code",
   "execution_count": 7,
   "metadata": {},
   "outputs": [],
   "source": [
    "data = {1:1,2:7,'b':2,'c':7}"
   ]
  },
  {
   "cell_type": "code",
   "execution_count": 8,
   "metadata": {},
   "outputs": [
    {
     "data": {
      "text/plain": [
       "{1: 200, 2: 7, 'b': 2, 'c': 7}"
      ]
     },
     "execution_count": 8,
     "metadata": {},
     "output_type": "execute_result"
    }
   ],
   "source": [
    "data[1]=200\n",
    "data"
   ]
  },
  {
   "cell_type": "code",
   "execution_count": 9,
   "metadata": {},
   "outputs": [],
   "source": [
    "data1 = dict(a=10, b=2, c=3)"
   ]
  },
  {
   "cell_type": "code",
   "execution_count": 10,
   "metadata": {},
   "outputs": [
    {
     "data": {
      "text/plain": [
       "{'a': 10, 'b': 2, 'c': 3}"
      ]
     },
     "execution_count": 10,
     "metadata": {},
     "output_type": "execute_result"
    }
   ],
   "source": [
    "data1"
   ]
  },
  {
   "cell_type": "code",
   "execution_count": 11,
   "metadata": {},
   "outputs": [],
   "source": [
    "w={\"name\":\"Thor\",\"place\":\"Asguardian\",\"movie\":\"Thor Ragnarok\"}"
   ]
  },
  {
   "cell_type": "code",
   "execution_count": 12,
   "metadata": {},
   "outputs": [
    {
     "data": {
      "text/plain": [
       "['name', 'place', 'movie']"
      ]
     },
     "execution_count": 12,
     "metadata": {},
     "output_type": "execute_result"
    }
   ],
   "source": [
    "list(w.keys())"
   ]
  },
  {
   "cell_type": "code",
   "execution_count": 13,
   "metadata": {},
   "outputs": [
    {
     "data": {
      "text/plain": [
       "['name', 'place', 'movie']"
      ]
     },
     "execution_count": 13,
     "metadata": {},
     "output_type": "execute_result"
    }
   ],
   "source": [
    "# type(w.keys())\n",
    "# type(w.keys())\n",
    "list(w.keys())"
   ]
  },
  {
   "cell_type": "code",
   "execution_count": 14,
   "metadata": {},
   "outputs": [
    {
     "data": {
      "text/plain": [
       "['Thor', 'Asguardian', 'Thor Ragnarok']"
      ]
     },
     "execution_count": 14,
     "metadata": {},
     "output_type": "execute_result"
    }
   ],
   "source": [
    "list(w.values())"
   ]
  },
  {
   "cell_type": "markdown",
   "metadata": {},
   "source": [
    "### The keys of a dictionary can be any kind of immutable type, which includes: strings, numbers, and tuples:\n"
   ]
  },
  {
   "cell_type": "code",
   "execution_count": 15,
   "metadata": {},
   "outputs": [
    {
     "name": "stdout",
     "output_type": "stream",
     "text": [
      "{'hello': 'world', 0: 'a', 1: 'b', '2': 'not a number', (1, 2, 3): 'a tuple!'}\n"
     ]
    }
   ],
   "source": [
    "mydict = {\"hello\": \"world\",\n",
    "          0: \"a\",\n",
    "          1: \"b\",\n",
    "          \"2\": \"not a number\",\n",
    "         (1, 2, 3): \"a tuple!\"}\n",
    "print(mydict)"
   ]
  },
  {
   "cell_type": "code",
   "execution_count": 16,
   "metadata": {},
   "outputs": [
    {
     "ename": "TypeError",
     "evalue": "unhashable type: 'list'",
     "output_type": "error",
     "traceback": [
      "\u001b[1;31m---------------------------------------------------------------------------\u001b[0m",
      "\u001b[1;31mTypeError\u001b[0m                                 Traceback (most recent call last)",
      "\u001b[1;32m<ipython-input-16-ebf97d17145d>\u001b[0m in \u001b[0;36m<module>\u001b[1;34m\u001b[0m\n\u001b[0;32m      1\u001b[0m \u001b[0ma\u001b[0m\u001b[1;33m=\u001b[0m\u001b[1;33m[\u001b[0m\u001b[1;36m1\u001b[0m\u001b[1;33m,\u001b[0m\u001b[1;36m2\u001b[0m\u001b[1;33m,\u001b[0m\u001b[1;36m3\u001b[0m\u001b[1;33m]\u001b[0m\u001b[1;33m\u001b[0m\u001b[1;33m\u001b[0m\u001b[0m\n\u001b[1;32m----> 2\u001b[1;33m mydict = {\"hello\": \"world\",\n\u001b[0m\u001b[0;32m      3\u001b[0m           \u001b[1;36m0\u001b[0m\u001b[1;33m:\u001b[0m \u001b[1;34m\"a\"\u001b[0m\u001b[1;33m,\u001b[0m\u001b[1;33m\u001b[0m\u001b[1;33m\u001b[0m\u001b[0m\n\u001b[0;32m      4\u001b[0m           \u001b[1;36m1\u001b[0m\u001b[1;33m:\u001b[0m \u001b[1;34m\"b\"\u001b[0m\u001b[1;33m,\u001b[0m\u001b[1;33m\u001b[0m\u001b[1;33m\u001b[0m\u001b[0m\n\u001b[0;32m      5\u001b[0m           \u001b[1;34m\"2\"\u001b[0m\u001b[1;33m:\u001b[0m \u001b[1;34m\"not a number\"\u001b[0m\u001b[1;33m,\u001b[0m\u001b[1;33m\u001b[0m\u001b[1;33m\u001b[0m\u001b[0m\n",
      "\u001b[1;31mTypeError\u001b[0m: unhashable type: 'list'"
     ]
    }
   ],
   "source": [
    "a=[1,2,3]\n",
    "mydict = {\"hello\": \"world\",\n",
    "          0: \"a\",\n",
    "          1: \"b\",\n",
    "          \"2\": \"not a number\",\n",
    "         a: \"a list!\"}\n",
    "mydict"
   ]
  },
  {
   "cell_type": "code",
   "execution_count": 17,
   "metadata": {},
   "outputs": [
    {
     "data": {
      "text/plain": [
       "{'hello': 'world',\n",
       " 10: 'a',\n",
       " 1: 'a repeated key!',\n",
       " '2': 'not a number',\n",
       " 0: 'abc'}"
      ]
     },
     "execution_count": 17,
     "metadata": {},
     "output_type": "execute_result"
    }
   ],
   "source": [
    "mydict = {\"hello\": \"world\",\n",
    "          10: \"a\",\n",
    "          1: \"first Key\",\n",
    "          \"2\": \"not a number\",\n",
    "         1: \"a repeated key!\",\n",
    "         0: \"abc\",}\n",
    "mydict"
   ]
  },
  {
   "cell_type": "code",
   "execution_count": 18,
   "metadata": {},
   "outputs": [],
   "source": [
    "data = {'z':1,'b':2,'c':7,'d':6}"
   ]
  },
  {
   "cell_type": "code",
   "execution_count": 19,
   "metadata": {},
   "outputs": [
    {
     "data": {
      "text/plain": [
       "1"
      ]
     },
     "execution_count": 19,
     "metadata": {},
     "output_type": "execute_result"
    }
   ],
   "source": [
    "data['z']"
   ]
  },
  {
   "cell_type": "code",
   "execution_count": 20,
   "metadata": {},
   "outputs": [
    {
     "data": {
      "text/plain": [
       "2"
      ]
     },
     "execution_count": 20,
     "metadata": {},
     "output_type": "execute_result"
    }
   ],
   "source": [
    "data['b']"
   ]
  },
  {
   "cell_type": "code",
   "execution_count": 21,
   "metadata": {},
   "outputs": [
    {
     "ename": "KeyError",
     "evalue": "'a'",
     "output_type": "error",
     "traceback": [
      "\u001b[1;31m---------------------------------------------------------------------------\u001b[0m",
      "\u001b[1;31mKeyError\u001b[0m                                  Traceback (most recent call last)",
      "\u001b[1;32m<ipython-input-21-3aa42f1ca3be>\u001b[0m in \u001b[0;36m<module>\u001b[1;34m\u001b[0m\n\u001b[1;32m----> 1\u001b[1;33m \u001b[0mdata\u001b[0m\u001b[1;33m[\u001b[0m\u001b[1;34m'a'\u001b[0m\u001b[1;33m]\u001b[0m\u001b[1;33m\u001b[0m\u001b[1;33m\u001b[0m\u001b[0m\n\u001b[0m",
      "\u001b[1;31mKeyError\u001b[0m: 'a'"
     ]
    }
   ],
   "source": [
    "data['a']"
   ]
  },
  {
   "cell_type": "code",
   "execution_count": 22,
   "metadata": {},
   "outputs": [
    {
     "data": {
      "text/plain": [
       "{'z': 1, 'b': 2, 'c': 7, 'd': 6, (1, 2, 3): 3}"
      ]
     },
     "execution_count": 22,
     "metadata": {},
     "output_type": "execute_result"
    }
   ],
   "source": [
    "data[(1,2,3)]=3  # updates if 'a' exists, else adds 'a'\n",
    "data"
   ]
  },
  {
   "cell_type": "code",
   "execution_count": 23,
   "metadata": {},
   "outputs": [
    {
     "data": {
      "text/plain": [
       "{'z': 1, 'b': 2, 'c': 7, 'd': 6, (1, 2, 3): 3, 'a': 4}"
      ]
     },
     "execution_count": 23,
     "metadata": {},
     "output_type": "execute_result"
    }
   ],
   "source": [
    "data['a']=4\n",
    "data"
   ]
  },
  {
   "cell_type": "code",
   "execution_count": 24,
   "metadata": {},
   "outputs": [
    {
     "name": "stdout",
     "output_type": "stream",
     "text": [
      "{'z': 1, 'b': 2, 'c': 7, 'd': 6, (1, 2, 3): 3, 'a': 'football'}\n"
     ]
    },
    {
     "data": {
      "text/plain": [
       "{'z': 1, 'b': 2, 'c': 7, 'd': 6, (1, 2, 3): 3, 'a': 'python'}"
      ]
     },
     "execution_count": 24,
     "metadata": {},
     "output_type": "execute_result"
    }
   ],
   "source": [
    "data.update({'a':\"football\"})\n",
    "print(data)\n",
    "data['a']=\"python\"\n",
    "data"
   ]
  },
  {
   "cell_type": "code",
   "execution_count": 25,
   "metadata": {},
   "outputs": [
    {
     "data": {
      "text/plain": [
       "{'z': 1, 'b': 2, 'c': 7, 'd': 6, 'a': 10099}"
      ]
     },
     "execution_count": 25,
     "metadata": {},
     "output_type": "execute_result"
    }
   ],
   "source": [
    "data = {'z':1,'b':2,'c':7,'d':6}\n",
    "data.update(dict(a=10099))\n",
    "data"
   ]
  },
  {
   "cell_type": "markdown",
   "metadata": {},
   "source": [
    "## Merging 2 dictionaries\n"
   ]
  },
  {
   "cell_type": "code",
   "execution_count": 29,
   "metadata": {},
   "outputs": [],
   "source": [
    "data1 = {'a':1,'b':2,'c':7,'k':6}\n",
    "data2 = {'e':1,'l':2}\n",
    "data3 = {'a':4,'l':5,'c':\"python\",'f':89}"
   ]
  },
  {
   "cell_type": "code",
   "execution_count": 30,
   "metadata": {},
   "outputs": [
    {
     "data": {
      "text/plain": [
       "{'a': 1, 'b': 2, 'c': 7, 'k': 6, 'e': 1, 'l': 2}"
      ]
     },
     "execution_count": 30,
     "metadata": {},
     "output_type": "execute_result"
    }
   ],
   "source": [
    "data1.update(data2)  # Where data2 is also a dict.\n",
    "data1"
   ]
  },
  {
   "cell_type": "code",
   "execution_count": 31,
   "metadata": {},
   "outputs": [],
   "source": [
    "data1.update(data3)"
   ]
  },
  {
   "cell_type": "code",
   "execution_count": 32,
   "metadata": {},
   "outputs": [
    {
     "data": {
      "text/plain": [
       "{'a': 4, 'b': 2, 'c': 'python', 'k': 6, 'e': 1, 'l': 5, 'f': 89}"
      ]
     },
     "execution_count": 32,
     "metadata": {},
     "output_type": "execute_result"
    }
   ],
   "source": [
    "data1"
   ]
  },
  {
   "cell_type": "markdown",
   "metadata": {},
   "source": [
    "### Deletion of data"
   ]
  },
  {
   "cell_type": "code",
   "execution_count": 33,
   "metadata": {},
   "outputs": [],
   "source": [
    "data = {100:1,'b':2,'c':7,'k':6}\n",
    "del data['b']"
   ]
  },
  {
   "cell_type": "code",
   "execution_count": 34,
   "metadata": {},
   "outputs": [
    {
     "data": {
      "text/plain": [
       "{100: 1, 'c': 7, 'k': 6}"
      ]
     },
     "execution_count": 34,
     "metadata": {},
     "output_type": "execute_result"
    }
   ],
   "source": [
    "data"
   ]
  },
  {
   "cell_type": "code",
   "execution_count": 35,
   "metadata": {},
   "outputs": [],
   "source": [
    "del data"
   ]
  },
  {
   "cell_type": "code",
   "execution_count": 36,
   "metadata": {},
   "outputs": [
    {
     "ename": "NameError",
     "evalue": "name 'data' is not defined",
     "output_type": "error",
     "traceback": [
      "\u001b[1;31m---------------------------------------------------------------------------\u001b[0m",
      "\u001b[1;31mNameError\u001b[0m                                 Traceback (most recent call last)",
      "\u001b[1;32m<ipython-input-36-c5d84736ba45>\u001b[0m in \u001b[0;36m<module>\u001b[1;34m\u001b[0m\n\u001b[1;32m----> 1\u001b[1;33m \u001b[0mdata\u001b[0m\u001b[1;33m\u001b[0m\u001b[1;33m\u001b[0m\u001b[0m\n\u001b[0m",
      "\u001b[1;31mNameError\u001b[0m: name 'data' is not defined"
     ]
    }
   ],
   "source": [
    "data"
   ]
  },
  {
   "cell_type": "code",
   "execution_count": 37,
   "metadata": {},
   "outputs": [],
   "source": [
    "data = {100:1,'b':2,'c':7,'k':6, 'm':[1,2,3]}\n",
    "data.clear()\n",
    "# data['m']=[1,2]"
   ]
  },
  {
   "cell_type": "code",
   "execution_count": 38,
   "metadata": {},
   "outputs": [
    {
     "data": {
      "text/plain": [
       "{}"
      ]
     },
     "execution_count": 38,
     "metadata": {},
     "output_type": "execute_result"
    }
   ],
   "source": [
    "data"
   ]
  },
  {
   "cell_type": "markdown",
   "metadata": {},
   "source": [
    "### Merging 2 list"
   ]
  },
  {
   "cell_type": "code",
   "execution_count": 39,
   "metadata": {},
   "outputs": [],
   "source": [
    "dishes = [\"pizza\", \"sauerkraut\", \"paella\", \"Hamburger\", ' ']\n",
    "countries = [\"Italy\", \"Germany\", \"Spain\", \"USA\"]\n",
    "c1 = [1,2,3,4]"
   ]
  },
  {
   "cell_type": "code",
   "execution_count": 41,
   "metadata": {},
   "outputs": [
    {
     "name": "stdout",
     "output_type": "stream",
     "text": [
      "<class 'zip'>\n",
      "<zip object at 0x00000158499A93C0>\n"
     ]
    }
   ],
   "source": [
    "country_specialities = zip(countries, dishes)\n",
    "print(type(country_specialities))\n",
    "print(country_specialities)\n",
    "\n",
    "# help(zip)\n",
    "# l=list()\n",
    "# Range function: We need to run a loop on the range function to get the values\n",
    "# Zip : We need to run a loop on the zip object to get the values"
   ]
  },
  {
   "cell_type": "code",
   "execution_count": 42,
   "metadata": {},
   "outputs": [
    {
     "name": "stdout",
     "output_type": "stream",
     "text": [
      "('Italy', 'pizza')\n",
      "('Germany', 'sauerkraut')\n",
      "('Spain', 'paella')\n",
      "('USA', 'Hamburger')\n"
     ]
    }
   ],
   "source": [
    "for i in country_specialities:\n",
    "    print(i)\n",
    "# print(dict(country_specialities))"
   ]
  },
  {
   "cell_type": "code",
   "execution_count": 44,
   "metadata": {},
   "outputs": [
    {
     "name": "stdout",
     "output_type": "stream",
     "text": [
      "[('Italy', 'pizza'), ('Germany', 'sauerkraut'), ('Spain', 'paella'), ('USA', 'Hamburger')]\n",
      "1478703801024\n",
      "<class 'zip'>\n"
     ]
    }
   ],
   "source": [
    "country_specialities = zip(countries, dishes)\n",
    "print(list(country_specialities))\n",
    "print(id(country_specialities))\n",
    "print(type(country_specialities))"
   ]
  },
  {
   "cell_type": "code",
   "execution_count": 45,
   "metadata": {},
   "outputs": [
    {
     "data": {
      "text/plain": [
       "{'Italy': 'pizza',\n",
       " 'Germany': 'sauerkraut',\n",
       " 'Spain': 'paella',\n",
       " 'USA': 'Hamburger'}"
      ]
     },
     "execution_count": 45,
     "metadata": {},
     "output_type": "execute_result"
    }
   ],
   "source": [
    "dishes = [\"pizza\", \"sauerkraut\", \"paella\", \"Hamburger\", ' ']\n",
    "countries = [\"Italy\", \"Germany\", \"Spain\", \"USA\"]\n",
    "d=dict(zip(countries, dishes))\n",
    "d"
   ]
  },
  {
   "cell_type": "code",
   "execution_count": 46,
   "metadata": {},
   "outputs": [],
   "source": [
    "dishes = [\"pizza\", \"paella\", \"paella\", \"Hamburger\",]\n",
    "countries = [\"Italy\", \"Germany\", \"Spain\", \"USA\",\"India\",\"Japan\"]"
   ]
  },
  {
   "cell_type": "code",
   "execution_count": 47,
   "metadata": {},
   "outputs": [
    {
     "data": {
      "text/plain": [
       "{'pizza': 'Italy', 'paella': 'Spain', 'Hamburger': 'USA'}"
      ]
     },
     "execution_count": 47,
     "metadata": {},
     "output_type": "execute_result"
    }
   ],
   "source": [
    "dict(zip(dishes,countries))"
   ]
  },
  {
   "cell_type": "code",
   "execution_count": null,
   "metadata": {},
   "outputs": [],
   "source": [
    "zipped_dict=dict((country_specialities))\n",
    "# counrtySpecilities\n",
    "print(zipped_dict)\n",
    "# print(l[0][1])"
   ]
  },
  {
   "cell_type": "code",
   "execution_count": 48,
   "metadata": {},
   "outputs": [
    {
     "name": "stdout",
     "output_type": "stream",
     "text": [
      "(1, 'a')\n",
      "(2, 'b')\n",
      "(3, 'c')\n",
      "(4, 'd')\n",
      "(5, 'e')\n"
     ]
    }
   ],
   "source": [
    "a = [1,2,3,4,5]\n",
    "b = ['a','b','c','d','e']\n",
    "c= zip(a,b)\n",
    "for i in c:\n",
    "    print(i)"
   ]
  },
  {
   "cell_type": "markdown",
   "metadata": {},
   "source": [
    "### Assignment"
   ]
  },
  {
   "cell_type": "code",
   "execution_count": 49,
   "metadata": {},
   "outputs": [
    {
     "name": "stdout",
     "output_type": "stream",
     "text": [
      "{'belgian horse': 162, 'tiger': 168, 'cat': 58, 'dog': 57, 'cow': 59, 'lion': 109}\n"
     ]
    }
   ],
   "source": [
    "l=list()\n",
    "t=tuple()\n",
    "heights={}\n",
    "heights['belgian horse']= 162\n",
    "heights['tiger']= 168\n",
    "heights['cat']=58\n",
    "heights['dog']=57\n",
    "heights['cow']=59\n",
    "heights['lion']=109\n",
    "print(heights)"
   ]
  },
  {
   "cell_type": "code",
   "execution_count": 50,
   "metadata": {},
   "outputs": [
    {
     "data": {
      "text/plain": [
       "dict_keys(['belgian horse', 'tiger', 'cat', 'dog', 'cow', 'lion'])"
      ]
     },
     "execution_count": 50,
     "metadata": {},
     "output_type": "execute_result"
    }
   ],
   "source": [
    "heights.keys()"
   ]
  },
  {
   "cell_type": "code",
   "execution_count": 51,
   "metadata": {},
   "outputs": [
    {
     "data": {
      "text/plain": [
       "dict_values([162, 168, 58, 57, 59, 109])"
      ]
     },
     "execution_count": 51,
     "metadata": {},
     "output_type": "execute_result"
    }
   ],
   "source": [
    "heights.values()"
   ]
  },
  {
   "cell_type": "code",
   "execution_count": 55,
   "metadata": {},
   "outputs": [
    {
     "name": "stdout",
     "output_type": "stream",
     "text": [
      "dict_items([('belgian horse', 162), ('tiger', 168), ('cat', 58), ('dog', 57), ('cow', 59), ('lion', 109)])\n",
      "<class 'dict_items'>\n",
      "[('belgian horse', 162), ('tiger', 168), ('cat', 58), ('dog', 57), ('cow', 59), ('lion', 109)]\n",
      "Help on dict_items object:\n",
      "\n",
      "class dict_items(object)\n",
      " |  Built-in subclasses:\n",
      " |      odict_items\n",
      " |  \n",
      " |  Methods defined here:\n",
      " |  \n",
      " |  __and__(self, value, /)\n",
      " |      Return self&value.\n",
      " |  \n",
      " |  __contains__(self, key, /)\n",
      " |      Return key in self.\n",
      " |  \n",
      " |  __eq__(self, value, /)\n",
      " |      Return self==value.\n",
      " |  \n",
      " |  __ge__(self, value, /)\n",
      " |      Return self>=value.\n",
      " |  \n",
      " |  __getattribute__(self, name, /)\n",
      " |      Return getattr(self, name).\n",
      " |  \n",
      " |  __gt__(self, value, /)\n",
      " |      Return self>value.\n",
      " |  \n",
      " |  __iter__(self, /)\n",
      " |      Implement iter(self).\n",
      " |  \n",
      " |  __le__(self, value, /)\n",
      " |      Return self<=value.\n",
      " |  \n",
      " |  __len__(self, /)\n",
      " |      Return len(self).\n",
      " |  \n",
      " |  __lt__(self, value, /)\n",
      " |      Return self<value.\n",
      " |  \n",
      " |  __ne__(self, value, /)\n",
      " |      Return self!=value.\n",
      " |  \n",
      " |  __or__(self, value, /)\n",
      " |      Return self|value.\n",
      " |  \n",
      " |  __rand__(self, value, /)\n",
      " |      Return value&self.\n",
      " |  \n",
      " |  __repr__(self, /)\n",
      " |      Return repr(self).\n",
      " |  \n",
      " |  __reversed__(...)\n",
      " |      Return a reverse iterator over the dict items.\n",
      " |  \n",
      " |  __ror__(self, value, /)\n",
      " |      Return value|self.\n",
      " |  \n",
      " |  __rsub__(self, value, /)\n",
      " |      Return value-self.\n",
      " |  \n",
      " |  __rxor__(self, value, /)\n",
      " |      Return value^self.\n",
      " |  \n",
      " |  __sub__(self, value, /)\n",
      " |      Return self-value.\n",
      " |  \n",
      " |  __xor__(self, value, /)\n",
      " |      Return self^value.\n",
      " |  \n",
      " |  isdisjoint(...)\n",
      " |      Return True if the view and the given iterable have a null intersection.\n",
      " |  \n",
      " |  ----------------------------------------------------------------------\n",
      " |  Data and other attributes defined here:\n",
      " |  \n",
      " |  __hash__ = None\n",
      "\n"
     ]
    }
   ],
   "source": [
    "x=heights.items()\n",
    "print(x)\n",
    "print(type(x))\n",
    "print(list(x))\n",
    "help(x)"
   ]
  },
  {
   "cell_type": "code",
   "execution_count": 56,
   "metadata": {},
   "outputs": [
    {
     "name": "stdout",
     "output_type": "stream",
     "text": [
      "p\n",
      "y\n",
      "t\n",
      "h\n",
      "o\n",
      "n\n"
     ]
    }
   ],
   "source": [
    "for i in \"python\":\n",
    "    print (i)"
   ]
  },
  {
   "cell_type": "code",
   "execution_count": 57,
   "metadata": {
    "scrolled": true
   },
   "outputs": [
    {
     "name": "stdout",
     "output_type": "stream",
     "text": [
      "python\n",
      "java\n",
      "scala\n"
     ]
    }
   ],
   "source": [
    "l=[\"python\",\"java\", \"scala\"]\n",
    "for i in l:\n",
    "    print (i)"
   ]
  },
  {
   "cell_type": "code",
   "execution_count": 58,
   "metadata": {},
   "outputs": [
    {
     "name": "stdout",
     "output_type": "stream",
     "text": [
      "belgian horse\n",
      "tiger\n",
      "cat\n",
      "dog\n",
      "cow\n",
      "lion\n"
     ]
    }
   ],
   "source": [
    "heights={'belgian horse': 162,'tiger': 168, 'cat': 58, 'dog': 57, 'cow': 59, 'lion': 109}\n",
    "for i in heights:\n",
    "    print (i)"
   ]
  },
  {
   "cell_type": "code",
   "execution_count": null,
   "metadata": {},
   "outputs": [],
   "source": [
    "countrylist = {1:'IND',2:'USA',3:'UAE',4:'BEL',5:'DE'}\n",
    "code = int(input('enter country code: '))\n",
    "print(countrylist[code])"
   ]
  },
  {
   "cell_type": "code",
   "execution_count": 59,
   "metadata": {},
   "outputs": [
    {
     "name": "stdout",
     "output_type": "stream",
     "text": [
      "162\n",
      "168\n",
      "58\n",
      "57\n",
      "59\n",
      "109\n"
     ]
    }
   ],
   "source": [
    "heights={'belgian horse': 162,'tiger': 168, 'cat': 58, 'dog': 57, 'cow': 59, 'lion': 109}\n",
    "for i in heights:\n",
    "    print (heights[i])# heights['tiger']"
   ]
  },
  {
   "cell_type": "code",
   "execution_count": 60,
   "metadata": {},
   "outputs": [
    {
     "name": "stdout",
     "output_type": "stream",
     "text": [
      "belgian horse 162\n",
      "tiger 168\n",
      "cat 58\n",
      "dog 57\n",
      "cow 59\n",
      "lion 109\n"
     ]
    }
   ],
   "source": [
    "heights={'belgian horse': 162,'tiger': 168, 'cat': 58, 'dog': 57, 'cow': 59, 'lion': 109}\n",
    "for i in heights:\n",
    "    print (i,heights[i])\n",
    "# print('cat' in heights)"
   ]
  },
  {
   "cell_type": "markdown",
   "metadata": {},
   "source": [
    "#### Take a user input as a animal name and return the height of that animal"
   ]
  },
  {
   "cell_type": "code",
   "execution_count": null,
   "metadata": {},
   "outputs": [],
   "source": [
    "heights={'belgian horse': 162,'tiger': 168, 'cat': 58, 'dog': 57, 'cow': 59, 'lion': 109}"
   ]
  },
  {
   "cell_type": "code",
   "execution_count": null,
   "metadata": {},
   "outputs": [],
   "source": [
    "user_input_animal_name = input(\"Enter the name of animal: \")\n",
    "# print(heights[user_input_animal_name])\n",
    "for x in heights:\n",
    "    if x==user_input_animal_name:\n",
    "        print(heights[x])"
   ]
  },
  {
   "cell_type": "markdown",
   "metadata": {},
   "source": [
    "#### Take a user input as a height and print the animal name"
   ]
  },
  {
   "cell_type": "code",
   "execution_count": null,
   "metadata": {},
   "outputs": [],
   "source": [
    "# findanimal=57\n",
    "heights={'belgian horse': 162,'tiger': 168, 'cat': 58, 'dog': 57, 'cow': 59, 'lion': 109}\n",
    "findAnimalHeight=int(input(\"Enter the height of animal \"))\n",
    "for i in heights:\n",
    "\tif heights[i]==findAnimalHeight:\n",
    "\t\tprint (i)\n",
    "        "
   ]
  },
  {
   "cell_type": "markdown",
   "metadata": {},
   "source": [
    "#### Handling missing keys in Python dictionaries\n",
    "In python, dictionaries are containers which map one key to its value with access time complexity to be O(1). But in many applications, the user doesn’t know all the keys present in the dictionaries. In such instances, if user tries to access a missing key, an error is popped indicating missing keys.\n",
    "\n"
   ]
  },
  {
   "cell_type": "code",
   "execution_count": 61,
   "metadata": {},
   "outputs": [
    {
     "name": "stdout",
     "output_type": "stream",
     "text": [
      "The value associated with 'c' is : \n"
     ]
    },
    {
     "ename": "KeyError",
     "evalue": "'c'",
     "output_type": "error",
     "traceback": [
      "\u001b[1;31m---------------------------------------------------------------------------\u001b[0m",
      "\u001b[1;31mKeyError\u001b[0m                                  Traceback (most recent call last)",
      "\u001b[1;32m<ipython-input-61-c9b7a4d26588>\u001b[0m in \u001b[0;36m<module>\u001b[1;34m\u001b[0m\n\u001b[0;32m      2\u001b[0m \u001b[0md\u001b[0m \u001b[1;33m=\u001b[0m \u001b[1;33m{\u001b[0m \u001b[1;34m'a'\u001b[0m \u001b[1;33m:\u001b[0m \u001b[1;36m1\u001b[0m \u001b[1;33m,\u001b[0m \u001b[1;34m'b'\u001b[0m \u001b[1;33m:\u001b[0m \u001b[1;36m2\u001b[0m \u001b[1;33m}\u001b[0m\u001b[1;33m\u001b[0m\u001b[1;33m\u001b[0m\u001b[0m\n\u001b[0;32m      3\u001b[0m \u001b[0mprint\u001b[0m \u001b[1;33m(\u001b[0m\u001b[1;34m\"The value associated with 'c' is : \"\u001b[0m\u001b[1;33m)\u001b[0m\u001b[1;33m\u001b[0m\u001b[1;33m\u001b[0m\u001b[0m\n\u001b[1;32m----> 4\u001b[1;33m \u001b[0mprint\u001b[0m \u001b[1;33m(\u001b[0m\u001b[0md\u001b[0m\u001b[1;33m[\u001b[0m\u001b[1;34m'c'\u001b[0m\u001b[1;33m]\u001b[0m\u001b[1;33m)\u001b[0m\u001b[1;33m\u001b[0m\u001b[1;33m\u001b[0m\u001b[0m\n\u001b[0m\u001b[0;32m      5\u001b[0m \u001b[0mprint\u001b[0m\u001b[1;33m(\u001b[0m\u001b[1;34m\" learning python is fun\"\u001b[0m\u001b[1;33m)\u001b[0m\u001b[1;33m\u001b[0m\u001b[1;33m\u001b[0m\u001b[0m\n\u001b[0;32m      6\u001b[0m \u001b[0mprint\u001b[0m\u001b[1;33m(\u001b[0m\u001b[1;34m\" python is awsome\"\u001b[0m\u001b[1;33m)\u001b[0m\u001b[1;33m\u001b[0m\u001b[1;33m\u001b[0m\u001b[0m\n",
      "\u001b[1;31mKeyError\u001b[0m: 'c'"
     ]
    }
   ],
   "source": [
    "# initializing Dictionary \n",
    "d = { 'a' : 1 , 'b' : 2 } \n",
    "print (\"The value associated with 'c' is : \") \n",
    "print (d['c']) \n",
    "print(\" learning python is fun\")\n",
    "print(\" python is awsome\")"
   ]
  },
  {
   "cell_type": "markdown",
   "metadata": {},
   "source": [
    "get(key,def_val) method is useful when we have to check for the key. If the key is present, value associated with the key is printed, else the def_value passed in arguments is returned."
   ]
  },
  {
   "cell_type": "code",
   "execution_count": 66,
   "metadata": {},
   "outputs": [
    {
     "name": "stdout",
     "output_type": "stream",
     "text": [
      "value for python :: key does not exist \n",
      "learning python is fun\n"
     ]
    }
   ],
   "source": [
    "d = { 'a' : 1 , 'b' : 2,'c': 'python' } \n",
    "# x=input()\n",
    "msg_nonvalue=\"key does not exist \"\n",
    "print (f\"value for {x} :: {d.get('d',msg_nonvalue)}\" )\n",
    "print(\"learning python is fun\")"
   ]
  },
  {
   "cell_type": "code",
   "execution_count": 67,
   "metadata": {},
   "outputs": [
    {
     "name": "stdout",
     "output_type": "stream",
     "text": [
      "1111\n"
     ]
    }
   ],
   "source": [
    "d = { 'a' : 1 , 'b' : 2,'c': 'python' } \n",
    "x=d.get('abc',\"1111\") \n",
    "print(x)"
   ]
  },
  {
   "cell_type": "code",
   "execution_count": 64,
   "metadata": {},
   "outputs": [
    {
     "name": "stdout",
     "output_type": "stream",
     "text": [
      "python\n"
     ]
    }
   ],
   "source": [
    "d = { 'a' : 1 , 'b' : 2,'abc': 'python' } \n",
    "x=d.get('abc',\"1111\") \n",
    "print (x)"
   ]
  },
  {
   "cell_type": "code",
   "execution_count": 68,
   "metadata": {},
   "outputs": [
    {
     "name": "stdout",
     "output_type": "stream",
     "text": [
      "key not present\n"
     ]
    }
   ],
   "source": [
    "d = { 'a' : 1 , 'b' : 2 } \n",
    "print (d.get('c','key not present') )"
   ]
  },
  {
   "cell_type": "code",
   "execution_count": 69,
   "metadata": {},
   "outputs": [],
   "source": [
    "phonebook = {\"Mike Jones\": \"281-330-8004\", \"Jenny\": \"867-5309\",\"Destiny\": \"900-783-3369\"}"
   ]
  },
  {
   "cell_type": "code",
   "execution_count": 70,
   "metadata": {},
   "outputs": [
    {
     "name": "stdout",
     "output_type": "stream",
     "text": [
      "list of sorted keys ['Destiny', 'Jenny', 'Mike Jones']\n",
      "900-783-3369\n"
     ]
    }
   ],
   "source": [
    "print(f'list of sorted keys {sorted(phonebook)}')# list of sorted keys \n",
    "print(phonebook[\"Destiny\"])    "
   ]
  },
  {
   "cell_type": "code",
   "execution_count": 71,
   "metadata": {},
   "outputs": [
    {
     "name": "stdout",
     "output_type": "stream",
     "text": [
      "Destiny 900-783-3369\n",
      "Jenny 867-5309\n",
      "Mike Jones 281-330-8004\n"
     ]
    }
   ],
   "source": [
    "for contact_name in sorted(phonebook):\n",
    "    print(contact_name, phonebook[contact_name])"
   ]
  },
  {
   "cell_type": "code",
   "execution_count": 72,
   "metadata": {},
   "outputs": [
    {
     "name": "stdout",
     "output_type": "stream",
     "text": [
      "['1', '3', 'Mike Jones']\n"
     ]
    }
   ],
   "source": [
    "phonebook = {\"Mike Jones\": \"281-330-8004\",'1': \"867-5309\",'3': \"900-783-3369\"}\n",
    "print(sorted(phonebook))"
   ]
  },
  {
   "cell_type": "code",
   "execution_count": 73,
   "metadata": {},
   "outputs": [
    {
     "name": "stdout",
     "output_type": "stream",
     "text": [
      "This is a Dict:\n",
      "\n",
      "dict_items([('a', 1), ('c', 2), ('b', 3), ('d', 4)])\n",
      "a 1\n",
      "c 2\n",
      "b 3\n",
      "d 4\n"
     ]
    }
   ],
   "source": [
    "print(\"This is a Dict:\\n\") \n",
    "d = {} \n",
    "d['a'] = 1\n",
    "d['c'] = 2\n",
    "d['b'] = 3\n",
    "d['d'] = 4\n",
    "print(d.items())  \n",
    "for key, value in d.items(): \n",
    "    print(key, value)"
   ]
  },
  {
   "cell_type": "code",
   "execution_count": 74,
   "metadata": {},
   "outputs": [
    {
     "name": "stdout",
     "output_type": "stream",
     "text": [
      "\n",
      "This is an Ordered Dict:\n",
      "\n",
      "x 1\n",
      "b 2\n",
      "c 3\n",
      "d 4\n",
      "OrderedDict([('x', 1), ('b', 2), ('c', 3), ('d', 4)])\n"
     ]
    }
   ],
   "source": [
    "from collections import OrderedDict \n",
    "print(\"\\nThis is an Ordered Dict:\\n\") \n",
    "od = OrderedDict() # preserve the order in which key values are entered\n",
    "od['x'] = 1\n",
    "od['b'] = 2\n",
    "od['c'] = 3\n",
    "od['d'] = 4\n",
    "for key, value in od.items(): \n",
    "    print(key, value)\n",
    "print(od)"
   ]
  },
  {
   "cell_type": "markdown",
   "metadata": {},
   "source": [
    "defaultdict” is a container that is defined in module named “collections“. It takes a function(default factory) as its argument. By default, default factory is set to “int” i.e 0. If a key is not present is defaultdict, the default factory value is returned and displayed. It has advantages over get() or setdefault().\n",
    "\n",
    "A default value is set at the declaration. There is no need to invoke the function again and again and pass similar value as arguments. Hence saving time.\n",
    "The implementation of defaultdict is faster than get() or setdefault()."
   ]
  },
  {
   "cell_type": "markdown",
   "metadata": {},
   "source": [
    "Lists are actually pretty quick when you are accessing an item by it’s index number - since all that happens under the hood is a direct access to a known and easy to calculate memory location. Lists though can be very slow when searching (using in) as the only way to search a list is to access each item in the list starting from the zeroth element and going up to the last element in the list.\n",
    "\n",
    "A dictionary utilises a data structure called a hashmap (Python dictionaries are optimised versions), and a key will be converted using a hash algorithm from a string (or whatever) into an integer value, and it is a couple of very simple calculations to take that integer and find the right place in the dictionary to look.\n",
    "\n",
    "One way to think about it is the difference between a list and a dictionary is the difference between a large set of bookshelves vs a library. To find a book across a set of shelves you have to search each shelf one at a time, whereas a library has an index that alllow the reader to go from the title of a book directly to a specific shelf. In a Python dictionary it is the ‘hash algorithm’ that acts as the library index."
   ]
  },
  {
   "cell_type": "markdown",
   "metadata": {},
   "source": [
    "### Assignment\n",
    "Write a program to convert keys in to values and vice versa"
   ]
  },
  {
   "cell_type": "markdown",
   "metadata": {},
   "source": [
    "Instructions\n",
    "You are going to write a program that adds to a travel_log. You can see a travel_log which is a List that contains 2 Dictionaries.\n",
    "\n",
    "Write a function that will work with the following line of code on line 21 to add the entry for Russia to the travel_log.\n",
    "\n",
    "add_new_country(\"Russia\", 2, [\"Moscow\", \"Saint Petersburg\"])\n",
    "You've visited Russia 2 times.\n",
    "\n",
    "You've been to Moscow and Saint Petersburg.\n",
    "\n",
    "DO NOT modify the travel_log directly. You need to create a function that modifies it.\n",
    "\n",
    "Hint\n",
    "Look at the function call above to see what the name of the function should be.\n",
    "\n",
    "The inputs for the function are positional arguments. The order is very important.\n",
    "\n",
    "Feel free to choose your own parameter names.\n",
    "\n",
    "travel_log = [\n",
    "{\n",
    "  \"country\": \"France\",\n",
    "  \"visits\": 12,\n",
    "  \"cities\": [\"Paris\", \"Lille\", \"Dijon\"]\n",
    "},\n",
    "{\n",
    "  \"country\": \"Germany\",\n",
    "  \"visits\": 5,\n",
    "  \"cities\": [\"Berlin\", \"Hamburg\", \"Stuttgart\"]\n",
    "},\n",
    "]\n",
    "#🚨 Do NOT change the code above\n",
    "\n",
    "#TODO: Write the function that will allow new countries\n",
    "#to be added to the travel_log. 👇\n",
    "\n",
    "\n",
    "\n",
    "\n",
    "\n",
    "#🚨 Do not change the code below\n",
    "add_new_country(\"Russia\", 2, [\"Moscow\", \"Saint Petersburg\"])\n",
    "print(travel_log)\n",
    "\n",
    "\n"
   ]
  },
  {
   "cell_type": "markdown",
   "metadata": {},
   "source": [
    "### Assignement\n",
    "ASk for name \n",
    "ask for bid price\n",
    "Add name and bid into the dictionary\n",
    "Ask if new bidder , if yes add the data\n",
    "If not declare the winner"
   ]
  },
  {
   "cell_type": "code",
   "execution_count": null,
   "metadata": {},
   "outputs": [],
   "source": [
    "person = {'name': 'abc', 'age': 50}\n",
    "copy_person = {}\n",
    "for i in person:\n",
    "    copy_person[person[i]] = i\n",
    "print(copy_person)"
   ]
  },
  {
   "cell_type": "code",
   "execution_count": null,
   "metadata": {},
   "outputs": [],
   "source": [
    "inverse=dict()\n",
    "for key in heights:   # 'dog' in heights\n",
    "\tval=heights[key]      # val= heigths[dog]-->57\n",
    "\tif val not in inverse:\n",
    "\t\tinverse[val] = key    #inverse[57]='dog'\n",
    "\t# else:\n",
    "\t# \tinverse[val].append(key)\n",
    "print (inverse)\n"
   ]
  },
  {
   "cell_type": "markdown",
   "metadata": {},
   "source": [
    "* Python Program to Add a Key-Value Pair to the Dictionary\n",
    "* Python Program to Concatenate Two Dictionaries Into One\n",
    "* Python Program to Check if a Given Key Exists in a Dictionary or Not* \n",
    "* Python Program to Generate a Dictionary that Contains Numbers (between 1 and n) in the Form (x,x*x).\n",
    "* Python Program to Sum All the Items in a Dictionary\n",
    "* Python Program to Multiply All the Items in a Dictionary\n",
    "* Python Program to Remove the Given Key from a Dictionary\n",
    "* Python Program to Form a Dictionary from an Object of a Class\n",
    "* Python Program to Map Two Lists into a Dictionary\n",
    "* Python Program to Count the Frequency of Words Appearing in a String Using a Dictionary\n",
    "* Python Program to Create a Dictionary with Key as First Character and Value as Words Starting with that Charact* er"
   ]
  },
  {
   "cell_type": "code",
   "execution_count": null,
   "metadata": {},
   "outputs": [],
   "source": [
    "s=10\n",
    "print(\"hello\",s)"
   ]
  },
  {
   "cell_type": "code",
   "execution_count": null,
   "metadata": {},
   "outputs": [],
   "source": [
    "myDict = {'a': 100, 'b':200, 'c':300} \n",
    "sum = 0\n",
    "for i in myDict: \n",
    "    sum = sum + myDict[i] \n",
    "print(\"Sum :\", sum) "
   ]
  },
  {
   "cell_type": "code",
   "execution_count": null,
   "metadata": {},
   "outputs": [],
   "source": [
    "import sys\n",
    "sys.version"
   ]
  },
  {
   "cell_type": "code",
   "execution_count": null,
   "metadata": {},
   "outputs": [],
   "source": []
  }
 ],
 "metadata": {
  "kernelspec": {
   "display_name": "Python 3",
   "language": "python",
   "name": "python3"
  },
  "language_info": {
   "codemirror_mode": {
    "name": "ipython",
    "version": 3
   },
   "file_extension": ".py",
   "mimetype": "text/x-python",
   "name": "python",
   "nbconvert_exporter": "python",
   "pygments_lexer": "ipython3",
   "version": "3.8.3"
  }
 },
 "nbformat": 4,
 "nbformat_minor": 2
}
