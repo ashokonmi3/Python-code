{
 "cells": [
  {
   "cell_type": "code",
   "execution_count": 4,
   "metadata": {},
   "outputs": [
    {
     "name": "stdout",
     "output_type": "stream",
     "text": [
      "{'__name__': '__main__', '__doc__': 'Automatically created module for IPython interactive environment', '__package__': None, '__loader__': None, '__spec__': None, '__builtin__': <module 'builtins' (built-in)>, '__builtins__': <module 'builtins' (built-in)>, '_ih': ['', 'num1 = 100\\nnum2 = 200\\nname = \"TutorialsTeacher\"\\ndef add(x, y):\\n    z = x + y\\n    return z\\n\\nprint(globals())', 'locals()', \"def add(x,y):\\n        z=x+y\\n        print ('global symbol table:', globals())\\n        print ('local symbol table:', locals())\\n        return z\\n\\nadd(num1, num2)   \", 'num1 = 100\\nnum2 = 200\\nname = \"TutorialsTeacher\"\\ndef add(x, y):\\n    z = x + y\\n    return z\\n\\nprint(globals())'], '_oh': {2: {...}, 3: 300}, '_dh': ['C:\\\\Users\\\\91973\\\\Python_Training'], 'In': ['', 'num1 = 100\\nnum2 = 200\\nname = \"TutorialsTeacher\"\\ndef add(x, y):\\n    z = x + y\\n    return z\\n\\nprint(globals())', 'locals()', \"def add(x,y):\\n        z=x+y\\n        print ('global symbol table:', globals())\\n        print ('local symbol table:', locals())\\n        return z\\n\\nadd(num1, num2)   \", 'num1 = 100\\nnum2 = 200\\nname = \"TutorialsTeacher\"\\ndef add(x, y):\\n    z = x + y\\n    return z\\n\\nprint(globals())'], 'Out': {2: {...}, 3: 300}, 'get_ipython': <bound method InteractiveShell.get_ipython of <ipykernel.zmqshell.ZMQInteractiveShell object at 0x0000025CE1DED070>>, 'exit': <IPython.core.autocall.ZMQExitAutocall object at 0x0000025CE1E77D60>, 'quit': <IPython.core.autocall.ZMQExitAutocall object at 0x0000025CE1E77D60>, '_': 300, '__': {...}, '___': '', '_i': \"def add(x,y):\\n        z=x+y\\n        print ('global symbol table:', globals())\\n        print ('local symbol table:', locals())\\n        return z\\n\\nadd(num1, num2)   \", '_ii': 'locals()', '_iii': 'num1 = 100\\nnum2 = 200\\nname = \"TutorialsTeacher\"\\ndef add(x, y):\\n    z = x + y\\n    return z\\n\\nprint(globals())', '_i1': 'num1 = 100\\nnum2 = 200\\nname = \"TutorialsTeacher\"\\ndef add(x, y):\\n    z = x + y\\n    return z\\n\\nprint(globals())', 'num1': 100, 'num2': 200, 'name': 'TutorialsTeacher', 'add': <function add at 0x0000025CE1EC8DC0>, '_i2': 'locals()', '_2': {...}, '_i3': \"def add(x,y):\\n        z=x+y\\n        print ('global symbol table:', globals())\\n        print ('local symbol table:', locals())\\n        return z\\n\\nadd(num1, num2)   \", '_3': 300, '_i4': 'num1 = 100\\nnum2 = 200\\nname = \"TutorialsTeacher\"\\ndef add(x, y):\\n    z = x + y\\n    return z\\n\\nprint(globals())'}\n"
     ]
    }
   ],
   "source": [
    "num1 = 100\n",
    "num2 = 200\n",
    "name = \"TutorialsTeacher\"\n",
    "def add(x, y):\n",
    "    z = x + y\n",
    "    return z\n",
    "\n",
    "print(globals())"
   ]
  },
  {
   "cell_type": "code",
   "execution_count": 5,
   "metadata": {},
   "outputs": [
    {
     "data": {
      "text/plain": [
       "{'__name__': '__main__',\n",
       " '__doc__': 'Automatically created module for IPython interactive environment',\n",
       " '__package__': None,\n",
       " '__loader__': None,\n",
       " '__spec__': None,\n",
       " '__builtin__': <module 'builtins' (built-in)>,\n",
       " '__builtins__': <module 'builtins' (built-in)>,\n",
       " '_ih': ['',\n",
       "  'num1 = 100\\nnum2 = 200\\nname = \"TutorialsTeacher\"\\ndef add(x, y):\\n    z = x + y\\n    return z\\n\\nprint(globals())',\n",
       "  'locals()',\n",
       "  \"def add(x,y):\\n        z=x+y\\n        print ('global symbol table:', globals())\\n        print ('local symbol table:', locals())\\n        return z\\n\\nadd(num1, num2)   \",\n",
       "  'num1 = 100\\nnum2 = 200\\nname = \"TutorialsTeacher\"\\ndef add(x, y):\\n    z = x + y\\n    return z\\n\\nprint(globals())',\n",
       "  'locals()'],\n",
       " '_oh': {2: {...}, 3: 300},\n",
       " '_dh': ['C:\\\\Users\\\\91973\\\\Python_Training'],\n",
       " 'In': ['',\n",
       "  'num1 = 100\\nnum2 = 200\\nname = \"TutorialsTeacher\"\\ndef add(x, y):\\n    z = x + y\\n    return z\\n\\nprint(globals())',\n",
       "  'locals()',\n",
       "  \"def add(x,y):\\n        z=x+y\\n        print ('global symbol table:', globals())\\n        print ('local symbol table:', locals())\\n        return z\\n\\nadd(num1, num2)   \",\n",
       "  'num1 = 100\\nnum2 = 200\\nname = \"TutorialsTeacher\"\\ndef add(x, y):\\n    z = x + y\\n    return z\\n\\nprint(globals())',\n",
       "  'locals()'],\n",
       " 'Out': {2: {...}, 3: 300},\n",
       " 'get_ipython': <bound method InteractiveShell.get_ipython of <ipykernel.zmqshell.ZMQInteractiveShell object at 0x0000025CE1DED070>>,\n",
       " 'exit': <IPython.core.autocall.ZMQExitAutocall at 0x25ce1e77d60>,\n",
       " 'quit': <IPython.core.autocall.ZMQExitAutocall at 0x25ce1e77d60>,\n",
       " '_': 300,\n",
       " '__': {...},\n",
       " '___': '',\n",
       " '_i': 'num1 = 100\\nnum2 = 200\\nname = \"TutorialsTeacher\"\\ndef add(x, y):\\n    z = x + y\\n    return z\\n\\nprint(globals())',\n",
       " '_ii': \"def add(x,y):\\n        z=x+y\\n        print ('global symbol table:', globals())\\n        print ('local symbol table:', locals())\\n        return z\\n\\nadd(num1, num2)   \",\n",
       " '_iii': 'locals()',\n",
       " '_i1': 'num1 = 100\\nnum2 = 200\\nname = \"TutorialsTeacher\"\\ndef add(x, y):\\n    z = x + y\\n    return z\\n\\nprint(globals())',\n",
       " 'num1': 100,\n",
       " 'num2': 200,\n",
       " 'name': 'TutorialsTeacher',\n",
       " 'add': <function __main__.add(x, y)>,\n",
       " '_i2': 'locals()',\n",
       " '_2': {...},\n",
       " '_i3': \"def add(x,y):\\n        z=x+y\\n        print ('global symbol table:', globals())\\n        print ('local symbol table:', locals())\\n        return z\\n\\nadd(num1, num2)   \",\n",
       " '_3': 300,\n",
       " '_i4': 'num1 = 100\\nnum2 = 200\\nname = \"TutorialsTeacher\"\\ndef add(x, y):\\n    z = x + y\\n    return z\\n\\nprint(globals())',\n",
       " '_i5': ' locals()'}"
      ]
     },
     "execution_count": 5,
     "metadata": {},
     "output_type": "execute_result"
    }
   ],
   "source": [
    " locals()"
   ]
  },
  {
   "cell_type": "code",
   "execution_count": 6,
   "metadata": {},
   "outputs": [
    {
     "name": "stdout",
     "output_type": "stream",
     "text": [
      "global symbol table: {'__name__': '__main__', '__doc__': 'Automatically created module for IPython interactive environment', '__package__': None, '__loader__': None, '__spec__': None, '__builtin__': <module 'builtins' (built-in)>, '__builtins__': <module 'builtins' (built-in)>, '_ih': ['', 'num1 = 100\\nnum2 = 200\\nname = \"TutorialsTeacher\"\\ndef add(x, y):\\n    z = x + y\\n    return z\\n\\nprint(globals())', 'locals()', \"def add(x,y):\\n        z=x+y\\n        print ('global symbol table:', globals())\\n        print ('local symbol table:', locals())\\n        return z\\n\\nadd(num1, num2)   \", 'num1 = 100\\nnum2 = 200\\nname = \"TutorialsTeacher\"\\ndef add(x, y):\\n    z = x + y\\n    return z\\n\\nprint(globals())', 'locals()', \"def add(x,y):\\n        z=x+y\\n        print ('global symbol table:', globals())\\n        print ('local symbol table:', locals())\\n        return z\\n\\nadd(num1, num2)  \"], '_oh': {2: {...}, 3: 300, 5: {...}}, '_dh': ['C:\\\\Users\\\\91973\\\\Python_Training'], 'In': ['', 'num1 = 100\\nnum2 = 200\\nname = \"TutorialsTeacher\"\\ndef add(x, y):\\n    z = x + y\\n    return z\\n\\nprint(globals())', 'locals()', \"def add(x,y):\\n        z=x+y\\n        print ('global symbol table:', globals())\\n        print ('local symbol table:', locals())\\n        return z\\n\\nadd(num1, num2)   \", 'num1 = 100\\nnum2 = 200\\nname = \"TutorialsTeacher\"\\ndef add(x, y):\\n    z = x + y\\n    return z\\n\\nprint(globals())', 'locals()', \"def add(x,y):\\n        z=x+y\\n        print ('global symbol table:', globals())\\n        print ('local symbol table:', locals())\\n        return z\\n\\nadd(num1, num2)  \"], 'Out': {2: {...}, 3: 300, 5: {...}}, 'get_ipython': <bound method InteractiveShell.get_ipython of <ipykernel.zmqshell.ZMQInteractiveShell object at 0x0000025CE1DED070>>, 'exit': <IPython.core.autocall.ZMQExitAutocall object at 0x0000025CE1E77D60>, 'quit': <IPython.core.autocall.ZMQExitAutocall object at 0x0000025CE1E77D60>, '_': {...}, '__': 300, '___': {...}, '_i': ' locals()', '_ii': 'num1 = 100\\nnum2 = 200\\nname = \"TutorialsTeacher\"\\ndef add(x, y):\\n    z = x + y\\n    return z\\n\\nprint(globals())', '_iii': \"def add(x,y):\\n        z=x+y\\n        print ('global symbol table:', globals())\\n        print ('local symbol table:', locals())\\n        return z\\n\\nadd(num1, num2)   \", '_i1': 'num1 = 100\\nnum2 = 200\\nname = \"TutorialsTeacher\"\\ndef add(x, y):\\n    z = x + y\\n    return z\\n\\nprint(globals())', 'num1': 100, 'num2': 200, 'name': 'TutorialsTeacher', 'add': <function add at 0x0000025CE1EC8E50>, '_i2': 'locals()', '_2': {...}, '_i3': \"def add(x,y):\\n        z=x+y\\n        print ('global symbol table:', globals())\\n        print ('local symbol table:', locals())\\n        return z\\n\\nadd(num1, num2)   \", '_3': 300, '_i4': 'num1 = 100\\nnum2 = 200\\nname = \"TutorialsTeacher\"\\ndef add(x, y):\\n    z = x + y\\n    return z\\n\\nprint(globals())', '_i5': ' locals()', '_5': {...}, '_i6': \"def add(x,y):\\n        z=x+y\\n        print ('global symbol table:', globals())\\n        print ('local symbol table:', locals())\\n        return z\\n\\nadd(num1, num2)  \"}\n",
      "local symbol table: {'x': 100, 'y': 200, 'z': 300}\n"
     ]
    },
    {
     "data": {
      "text/plain": [
       "300"
      ]
     },
     "execution_count": 6,
     "metadata": {},
     "output_type": "execute_result"
    }
   ],
   "source": [
    "def add(x,y):\n",
    "        z=x+y\n",
    "        print ('global symbol table:', globals())\n",
    "        print ('local symbol table:', locals())\n",
    "        return z\n",
    "\n",
    "add(num1, num2)  "
   ]
  },
  {
   "cell_type": "code",
   "execution_count": 7,
   "metadata": {},
   "outputs": [
    {
     "name": "stdout",
     "output_type": "stream",
     "text": [
      "x inside function:  20\n",
      "x in global scope:  10\n"
     ]
    }
   ],
   "source": [
    "x=10\n",
    "def myfunction():\n",
    "    x=10\n",
    "    x=x*2\n",
    "    print ('x inside function: ', x)\n",
    "myfunction()\n",
    "print ('x in global scope: ',x)"
   ]
  },
  {
   "cell_type": "code",
   "execution_count": 8,
   "metadata": {},
   "outputs": [
    {
     "name": "stdout",
     "output_type": "stream",
     "text": [
      "global variable x inside function:  20\n",
      "global variable x in global scope:  20\n"
     ]
    }
   ],
   "source": [
    "x=10\n",
    "def myfunction():\n",
    "    x=globals()['x']\n",
    "    x=x*2\n",
    "    globals()['x']=x                  \n",
    "    print ('global variable x inside function: ',x)\n",
    "    return\n",
    "myfunction()\n",
    "print ('global variable x in global scope: ',x)"
   ]
  },
  {
   "cell_type": "code",
   "execution_count": null,
   "metadata": {},
   "outputs": [],
   "source": [
    "x=10\n",
    "def myfunction():\n",
    "    global x\n",
    "    x=x*2                  \n",
    "    print ('global variable x inside function: ',x)\n",
    "    return\n",
    "myfunction()\n",
    "print ('global variable x in global scope: ',x)"
   ]
  }
 ],
 "metadata": {
  "kernelspec": {
   "display_name": "Python 3",
   "language": "python",
   "name": "python3"
  },
  "language_info": {
   "codemirror_mode": {
    "name": "ipython",
    "version": 3
   },
   "file_extension": ".py",
   "mimetype": "text/x-python",
   "name": "python",
   "nbconvert_exporter": "python",
   "pygments_lexer": "ipython3",
   "version": "3.8.3"
  }
 },
 "nbformat": 4,
 "nbformat_minor": 4
}
