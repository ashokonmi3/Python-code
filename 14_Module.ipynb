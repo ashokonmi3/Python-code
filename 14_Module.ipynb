{
 "cells": [
  {
   "cell_type": "markdown",
   "metadata": {},
   "source": [
    "Modular programming refers to the process of breaking a large, unwieldy programming task into separate, smaller, more manageable subtasks or modules. Individual modules can then be cobbled together like building blocks to create a larger application.\n",
    "\n",
    "There are several advantages to modularizing code in a large application:\n",
    "\n",
    "Simplicity: Rather than focusing on the entire problem at hand, a module typically focuses on one relatively small portion of the problem. If you’re working on a single module, you’ll have a smaller problem domain to wrap your head around. This makes development easier and less error-prone.\n",
    "\n",
    "Maintainability: Modules are typically designed so that they enforce logical boundaries between different problem domains. If modules are written in a way that minimizes interdependency, there is decreased likelihood that modifications to a single module will have an impact on other parts of the program. (You may even be able to make changes to a module without having any knowledge of the application outside that module.) This makes it more viable for a team of many programmers to work collaboratively on a large application.\n",
    "\n",
    "Reusability: Functionality defined in a single module can be easily reused (through an appropriately defined interface) by other parts of the application. This eliminates the need to recreate duplicate code.\n",
    "\n",
    "Scoping: Modules typically define a separate namespace, which helps avoid collisions between identifiers in different areas of a program. (One of the tenets in the Zen of Python is Namespaces are one honking great idea—let’s do more of those!)\n",
    "\n",
    "Functions, modules and packages are all constructs in Python that promote code modularization."
   ]
  },
  {
   "cell_type": "markdown",
   "metadata": {},
   "source": [
    "## Python Modules: Overview\n",
    "There are actually three different ways to define a module in Python:\n",
    "\n",
    "A module can be written in Python itself.\n",
    "A module can be written in C and loaded dynamically at run-time, like the re (regular expression) module.\n",
    "A built-in module is intrinsically contained in the interpreter, like the itertools module.\n",
    "A module’s contents are accessed the same way in all three cases: with the import statement.\n",
    "\n",
    "Here, the focus will mostly be on modules that are written in Python. The cool thing about modules written in Python is that they are exceedingly straightforward to build. All you need to do is create a file that contains legitimate Python code and then give the file a name with a .py extension. That’s it! No special syntax or voodoo is necessary.\n",
    "\n",
    "For example, suppose you have created a file called mod.py containing the following:"
   ]
  },
  {
   "cell_type": "code",
   "execution_count": 23,
   "metadata": {},
   "outputs": [
    {
     "name": "stdout",
     "output_type": "stream",
     "text": [
      "If Comrade Napoleon says it, it must be right.\n",
      "[100, 200, 300]\n",
      "arg = ['quux', 'corge', 'grault']\n"
     ]
    },
    {
     "data": {
      "text/plain": [
       "<mod.Foo object at 0x000002DCC67922E0>"
      ]
     },
     "execution_count": 23,
     "metadata": {},
     "output_type": "execute_result"
    }
   ],
   "source": [
    "import mod\n",
    "print(mod.s)\n",
    "print (mod.a)\n",
    "mod.foo(['quux', 'corge', 'grault'])\n",
    "x = mod.Foo()\n",
    "x"
   ]
  },
  {
   "cell_type": "markdown",
   "metadata": {},
   "source": [
    "### The Module Search Path\n",
    "\n",
    "Continuing with the above example, let’s take a look at what happens when Python executes the statement:\n",
    "\n",
    "When the interpreter executes the above import statement, it searches for mod.py in a list of directories assembled from the following sources:\n",
    "\n",
    "* The directory from which the input script was run or the current directory if the interpreter is being run interactively\n",
    "* The list of directories contained in the PYTHONPATH environment variable, if it is set. (The format for PYTHONPATH is OS-dependent but should mimic the PATH environment variable.)\n",
    "* An installation-dependent list of directories configured at the time Python is installed\n",
    "* The resulting search path is accessible in the Python variable sys.path, which is obtained from a module named sys:"
   ]
  },
  {
   "cell_type": "code",
   "execution_count": 24,
   "metadata": {},
   "outputs": [
    {
     "data": {
      "text/plain": [
       "['C:\\\\Users\\\\91973\\\\Python_Training', 'C:\\\\Users\\\\91973\\\\Anaconda3\\\\python38.zip', 'C:\\\\Users\\\\91973\\\\Anaconda3\\\\DLLs', 'C:\\\\Users\\\\91973\\\\Anaconda3\\\\lib', 'C:\\\\Users\\\\91973\\\\Anaconda3', '', 'C:\\\\Users\\\\91973\\\\Anaconda3\\\\lib\\\\site-packages', 'C:\\\\Users\\\\91973\\\\Anaconda3\\\\lib\\\\site-packages\\\\win32', 'C:\\\\Users\\\\91973\\\\Anaconda3\\\\lib\\\\site-packages\\\\win32\\\\lib', 'C:\\\\Users\\\\91973\\\\Anaconda3\\\\lib\\\\site-packages\\\\Pythonwin', 'C:\\\\Users\\\\91973\\\\Anaconda3\\\\lib\\\\site-packages\\\\IPython\\\\extensions', 'C:\\\\Users\\\\91973\\\\.ipython']"
      ]
     },
     "execution_count": 24,
     "metadata": {},
     "output_type": "execute_result"
    }
   ],
   "source": [
    "import sys\n",
    "sys.path"
   ]
  },
  {
   "cell_type": "markdown",
   "metadata": {},
   "source": [
    "Thus, to ensure your module is found, you need to do one of the following:\n",
    "\n",
    "* Put mod.py in the directory where the input script is located or the current directory, if interactive\n",
    "* Modify the PYTHONPATH environment variable to contain the directory where mod.py is located before starting the interpreter\n",
    "Or: Put mod.py in one of the directories already contained in the PYTHONPATH variable\n",
    "Put mod.py in one of the installation-dependent directories, which you may or may not have write-access to, depending on the OS\n",
    "* There is actually one additional option: you can put the module file in any directory of your choice and then modify sys.path at run-time so that it contains that directory. For example, in this case, you could put mod.py in directory C:\\Users\\john and then issue the following statements:"
   ]
  },
  {
   "cell_type": "code",
   "execution_count": null,
   "metadata": {},
   "outputs": [],
   "source": [
    "a=sys.path.append(r'C:\\Users\\john')\n",
    "sys.path"
   ]
  },
  {
   "cell_type": "code",
   "execution_count": null,
   "metadata": {},
   "outputs": [],
   "source": [
    "import sys\n",
    "a=sys.path\n",
    "print(a)\n",
    "mypath='C:\\Users\\john'\n",
    "if mypath not in a:# sys.path\n",
    "    sys.path.append(mypath)\n",
    "else :\n",
    "    print(\"no need to add the path\"\")"
   ]
  },
  {
   "cell_type": "raw",
   "metadata": {},
   "source": [
    "Once a module has been imported, you can determine the location where it was found with the module’s __file__ attribute:"
   ]
  },
  {
   "cell_type": "code",
   "execution_count": null,
   "metadata": {},
   "outputs": [],
   "source": [
    "import mod\n",
    "mod.__file__\n",
    "# import re\n",
    "# re.__file__\n",
    "# import socket\n",
    "# dir(mod)"
   ]
  },
  {
   "cell_type": "markdown",
   "metadata": {},
   "source": [
    "\n",
    "### The import Statement\n"
   ]
  },
  {
   "cell_type": "markdown",
   "metadata": {},
   "source": [
    "Module contents are made available to the caller with the import statement. The import statement takes many different forms, shown below.\n",
    "\n",
    "import <module_name>\n",
    "The simplest form is the one already shown above:\n",
    "\n"
   ]
  },
  {
   "cell_type": "markdown",
   "metadata": {},
   "source": [
    "Note that this does not make the module contents directly accessible to the caller. \n",
    "Each module has its own private symbol table, which serves as the global symbol table for all objects \n",
    "defined in the module. Thus, a module creates a separate namespace, as already noted.\n",
    "\n",
    "The statement import <module_name> only places <module_name> in the caller’s symbol table.\n",
    "The objects that are defined in the module remain in the module’s private symbol table.\n",
    "\n",
    "From the caller, objects in the module are only accessible when prefixed with <module_name> via dot notation, \n",
    "as illustrated below.\n",
    "\n",
    "After the following import statement, mod is placed into the local symbol table. Thus, \n",
    "mod has meaning in the caller’s local context:\n"
   ]
  },
  {
   "cell_type": "code",
   "execution_count": 25,
   "metadata": {},
   "outputs": [
    {
     "data": {
      "text/plain": [
       "<module 'mod' from 'C:\\\\Users\\\\91973\\\\Python_Training\\\\mod.py'>"
      ]
     },
     "execution_count": 25,
     "metadata": {},
     "output_type": "execute_result"
    }
   ],
   "source": [
    "import mod\n",
    "mod"
   ]
  },
  {
   "cell_type": "markdown",
   "metadata": {},
   "source": [
    "But s and foo remain in the module’s private symbol table and are not meaningful in the local context:\n"
   ]
  },
  {
   "cell_type": "markdown",
   "metadata": {},
   "source": [
    "To be accessed in the local context, names of objects defined in the module must be prefixed by mod:\n"
   ]
  },
  {
   "cell_type": "code",
   "execution_count": 26,
   "metadata": {},
   "outputs": [
    {
     "name": "stdout",
     "output_type": "stream",
     "text": [
      "If Comrade Napoleon says it, it must be right.\n",
      "arg = quux\n",
      "hello\n"
     ]
    }
   ],
   "source": [
    "import mod\n",
    "print (mod.s)\n",
    "mod.foo('quux')\n",
    "print(\"hello\")"
   ]
  },
  {
   "cell_type": "raw",
   "metadata": {},
   "source": [
    "Several comma-separated modules may be specified in a single import statement:\n",
    "\n",
    "import <module_name>[, <module_name> ...]\n"
   ]
  },
  {
   "cell_type": "markdown",
   "metadata": {},
   "source": [
    "### from <module_name> import <name(s)>\n"
   ]
  },
  {
   "cell_type": "markdown",
   "metadata": {},
   "source": [
    "An alternate form of the import statement allows individual objects from the module to be\n",
    "imported directly into the caller’s symbol table:\n",
    "\n",
    "from <module_name> import <name(s)>\n",
    "Following execution of the above statement, <name(s)> can be referenced in the\n",
    "caller’s environment without the <module_name> prefix:\n"
   ]
  },
  {
   "cell_type": "code",
   "execution_count": 27,
   "metadata": {},
   "outputs": [
    {
     "name": "stdout",
     "output_type": "stream",
     "text": [
      "If Comrade Napoleon says it, it must be right.\n",
      "arg = quux\n"
     ]
    }
   ],
   "source": [
    "from mod import s, foo\n",
    "# import mod\n",
    "print(s)\n",
    "foo('quux')\n",
    "# print(mod.s)\n",
    "# s=\n",
    "# def()\n"
   ]
  },
  {
   "cell_type": "code",
   "execution_count": 28,
   "metadata": {},
   "outputs": [
    {
     "name": "stdout",
     "output_type": "stream",
     "text": [
      "<mod.Foo object at 0x000002DCC66B9130>\n"
     ]
    }
   ],
   "source": [
    "from mod import Foo\n",
    "x = Foo()\n",
    "print(x)\n",
    "# Because this form of import places the object names \n",
    "# directly into the caller’s symbol table, any objects that \n",
    "# already exist with the same name will be overwritten:\n"
   ]
  },
  {
   "cell_type": "code",
   "execution_count": 29,
   "metadata": {},
   "outputs": [
    {
     "name": "stdout",
     "output_type": "stream",
     "text": [
      "['foo', 'bar', 'baz']\n",
      "[100, 200, 300]\n"
     ]
    }
   ],
   "source": [
    "a = ['foo', 'bar', 'baz']\n",
    "print (a)\n",
    "from mod import a\n",
    "print(a)"
   ]
  },
  {
   "cell_type": "raw",
   "metadata": {},
   "source": [
    "It is even possible to indiscriminately import everything from a module at one fell swoop:\n",
    "\n",
    "from <module_name> import *\n",
    "This will place the names of all objects from <module_name> into the local symbol table, with the exception of any that begin with the underscore (_) character.\n",
    "\n",
    "For example:\n"
   ]
  },
  {
   "cell_type": "code",
   "execution_count": null,
   "metadata": {},
   "outputs": [],
   "source": [
    "a"
   ]
  },
  {
   "cell_type": "code",
   "execution_count": null,
   "metadata": {},
   "outputs": [],
   "source": [
    "foo"
   ]
  },
  {
   "cell_type": "code",
   "execution_count": null,
   "metadata": {},
   "outputs": [],
   "source": [
    "Foo"
   ]
  },
  {
   "cell_type": "raw",
   "metadata": {},
   "source": [
    "This isn’t necessarily recommended in large-scale production code. It’s a bit dangerous because you are entering names into the local symbol table en masse. Unless you know them all well and can be confident there won’t be a conflict, you have a decent chance of overwriting an existing name inadvertently. However, this syntax is quite handy when you are just mucking around with the interactive interpreter, for testing or discovery purposes, because it quickly gives you access to everything a module has to offer without a lot of typing.\n",
    "\n",
    "from <module_name> import <name> as <alt_name>\n",
    "It is also possible to import individual objects but enter them into the local symbol table with alternate names:\n",
    "\n",
    "from <module_name> import <name> as <alt_name>[, <name> as <alt_name> …]\n",
    "This makes it possible to place names directly into the local symbol table but avoid conflicts with previously existing names:\n"
   ]
  },
  {
   "cell_type": "code",
   "execution_count": 30,
   "metadata": {},
   "outputs": [
    {
     "name": "stdout",
     "output_type": "stream",
     "text": [
      "python\n",
      "If Comrade Napoleon says it, it must be right.\n",
      "5454\n",
      "[100, 200, 300]\n"
     ]
    }
   ],
   "source": [
    "from mod import s as astring, a as alist\n",
    "s=\"python\"\n",
    "a=5454\n",
    "print(s)\n",
    "print(astring)\n",
    "print(a)\n",
    "print(alist)"
   ]
  },
  {
   "cell_type": "markdown",
   "metadata": {},
   "source": [
    "import <module_name> as <alt_name>\n",
    "You can also import an entire module under an alternate name:\n"
   ]
  },
  {
   "cell_type": "code",
   "execution_count": null,
   "metadata": {},
   "outputs": [],
   "source": [
    "import mod as my_module\n",
    "import numpy as np\n",
    "import panda as pd\n",
    "import matplotlib as mp\n",
    "print(my_module.a)\n",
    "print(my_module.foo('qux'))\n",
    "import mod \n",
    "print(mod.a)\n",
    "print(mod.foo('qux'))\n",
    "matplotlib.draw()\n",
    "mp.draw()"
   ]
  },
  {
   "cell_type": "markdown",
   "metadata": {},
   "source": [
    "However, Python 3 does not allow the indiscriminate import * syntax from within a function:"
   ]
  },
  {
   "cell_type": "code",
   "execution_count": null,
   "metadata": {},
   "outputs": [],
   "source": [
    "from mod import *\n",
    "print(s)\n",
    "print(a)\n",
    "# foo(\"abcd\")"
   ]
  },
  {
   "cell_type": "code",
   "execution_count": 31,
   "metadata": {},
   "outputs": [
    {
     "ename": "SyntaxError",
     "evalue": "import * only allowed at module level (<ipython-input-31-f4abd8a673d6>, line 1)",
     "output_type": "error",
     "traceback": [
      "\u001b[1;36m  File \u001b[1;32m\"<ipython-input-31-f4abd8a673d6>\"\u001b[1;36m, line \u001b[1;32m1\u001b[0m\n\u001b[1;33m    def bar():\u001b[0m\n\u001b[1;37m    ^\u001b[0m\n\u001b[1;31mSyntaxError\u001b[0m\u001b[1;31m:\u001b[0m import * only allowed at module level\n"
     ]
    }
   ],
   "source": [
    "def bar():\n",
    "    from mod import *\n",
    "#     from mod import a\n",
    "    print(a)\n",
    "\n",
    "bar()    "
   ]
  },
  {
   "cell_type": "markdown",
   "metadata": {},
   "source": [
    "Lastly, a try statement with an except ImportError clause can be used to guard against unsuccessful import attempts:\n"
   ]
  },
  {
   "cell_type": "code",
   "execution_count": 32,
   "metadata": {},
   "outputs": [
    {
     "name": "stdout",
     "output_type": "stream",
     "text": [
      "Module not found\n"
     ]
    }
   ],
   "source": [
    "try:\n",
    "    # Non-existent module\n",
    "       import mod123\n",
    "except ImportError:\n",
    "    print('Module not found')"
   ]
  },
  {
   "cell_type": "code",
   "execution_count": 33,
   "metadata": {},
   "outputs": [
    {
     "data": {
      "text/plain": [
       "['__breakpointhook__', '__displayhook__', '__doc__', '__excepthook__', '__interactivehook__', '__loader__', '__name__', '__package__', '__spec__', '__stderr__', '__stdin__', '__stdout__', '__unraisablehook__', '_base_executable', '_clear_type_cache', '_current_frames', '_debugmallocstats', '_enablelegacywindowsfsencoding', '_framework', '_getframe', '_git', '_home', '_xoptions', 'addaudithook', 'api_version', 'argv', 'audit', 'base_exec_prefix', 'base_prefix', 'breakpointhook', 'builtin_module_names', 'byteorder', 'call_tracing', 'callstats', 'copyright', 'displayhook', 'dllhandle', 'dont_write_bytecode', 'exc_info', 'excepthook', 'exec_prefix', 'executable', 'exit', 'flags', 'float_info', 'float_repr_style', 'get_asyncgen_hooks', 'get_coroutine_origin_tracking_depth', 'getallocatedblocks', 'getcheckinterval', 'getdefaultencoding', 'getfilesystemencodeerrors', 'getfilesystemencoding', 'getprofile', 'getrecursionlimit', 'getrefcount', 'getsizeof', 'getswitchinterval', 'gettrace', 'getwindowsversion', 'hash_info', 'hexversion', 'implementation', 'int_info', 'intern', 'is_finalizing', 'last_traceback', 'last_type', 'last_value', 'maxsize', 'maxunicode', 'meta_path', 'modules', 'path', 'path_hooks', 'path_importer_cache', 'platform', 'prefix', 'ps1', 'ps2', 'ps3', 'pycache_prefix', 'set_asyncgen_hooks', 'set_coroutine_origin_tracking_depth', 'setcheckinterval', 'setprofile', 'setrecursionlimit', 'setswitchinterval', 'settrace', 'stderr', 'stdin', 'stdout', 'thread_info', 'unraisablehook', 'version', 'version_info', 'warnoptions', 'winver']"
      ]
     },
     "execution_count": 33,
     "metadata": {},
     "output_type": "execute_result"
    }
   ],
   "source": [
    "import sys\n",
    "dir(sys)"
   ]
  },
  {
   "cell_type": "markdown",
   "metadata": {},
   "source": [
    "This module provides access to some objects used or maintained by the\n",
    "interpreter and to functions that interact strongly with the interpreter."
   ]
  },
  {
   "cell_type": "code",
   "execution_count": 34,
   "metadata": {},
   "outputs": [
    {
     "name": "stdout",
     "output_type": "stream",
     "text": [
      "3.8.3 (default, Jul  2 2020, 17:30:36) [MSC v.1916 64 bit (AMD64)]\n"
     ]
    }
   ],
   "source": [
    "import sys\n",
    "print (sys.version)\n",
    "# print(sys.__package__)\n",
    "# This module provides access to some objects used or maintained by the\n",
    "#     interpreter and to functions that interact strongly with the interpreter."
   ]
  },
  {
   "cell_type": "code",
   "execution_count": 35,
   "metadata": {},
   "outputs": [
    {
     "name": "stdout",
     "output_type": "stream",
     "text": [
      "sys.version_info(major=3, minor=8, micro=3, releaselevel='final', serial=0)\n"
     ]
    }
   ],
   "source": [
    "print (sys.version_info)"
   ]
  },
  {
   "cell_type": "code",
   "execution_count": 36,
   "metadata": {},
   "outputs": [
    {
     "name": "stdout",
     "output_type": "stream",
     "text": [
      "Help on built-in module sys:\n",
      "\n",
      "NAME\n",
      "    sys\n",
      "\n",
      "MODULE REFERENCE\n",
      "    https://docs.python.org/3.8/library/sys\n",
      "    \n",
      "    The following documentation is automatically generated from the Python\n",
      "    source files.  It may be incomplete, incorrect or include features that\n",
      "    are considered implementation detail and may vary between Python\n",
      "    implementations.  When in doubt, consult the module reference at the\n",
      "    location listed above.\n",
      "\n",
      "DESCRIPTION\n",
      "    This module provides access to some objects used or maintained by the\n",
      "    interpreter and to functions that interact strongly with the interpreter.\n",
      "    \n",
      "    Dynamic objects:\n",
      "    \n",
      "    argv -- command line arguments; argv[0] is the script pathname if known\n",
      "    path -- module search path; path[0] is the script directory, else ''\n",
      "    modules -- dictionary of loaded modules\n",
      "    \n",
      "    displayhook -- called to show results in an interactive session\n",
      "    excepthook -- called to handle any uncaught exception other than SystemExit\n",
      "      To customize printing in an interactive session or to install a custom\n",
      "      top-level exception handler, assign other functions to replace these.\n",
      "    \n",
      "    stdin -- standard input file object; used by input()\n",
      "    stdout -- standard output file object; used by print()\n",
      "    stderr -- standard error object; used for error messages\n",
      "      By assigning other file objects (or objects that behave like files)\n",
      "      to these, it is possible to redirect all of the interpreter's I/O.\n",
      "    \n",
      "    last_type -- type of last uncaught exception\n",
      "    last_value -- value of last uncaught exception\n",
      "    last_traceback -- traceback of last uncaught exception\n",
      "      These three are only available in an interactive session after a\n",
      "      traceback has been printed.\n",
      "    \n",
      "    Static objects:\n",
      "    \n",
      "    builtin_module_names -- tuple of module names built into this interpreter\n",
      "    copyright -- copyright notice pertaining to this interpreter\n",
      "    exec_prefix -- prefix used to find the machine-specific Python library\n",
      "    executable -- absolute path of the executable binary of the Python interpreter\n",
      "    float_info -- a named tuple with information about the float implementation.\n",
      "    float_repr_style -- string indicating the style of repr() output for floats\n",
      "    hash_info -- a named tuple with information about the hash algorithm.\n",
      "    hexversion -- version information encoded as a single integer\n",
      "    implementation -- Python implementation information.\n",
      "    int_info -- a named tuple with information about the int implementation.\n",
      "    maxsize -- the largest supported length of containers.\n",
      "    maxunicode -- the value of the largest Unicode code point\n",
      "    platform -- platform identifier\n",
      "    prefix -- prefix used to find the Python library\n",
      "    thread_info -- a named tuple with information about the thread implementation.\n",
      "    version -- the version of this interpreter as a string\n",
      "    version_info -- version information as a named tuple\n",
      "    dllhandle -- [Windows only] integer handle of the Python DLL\n",
      "    winver -- [Windows only] version number of the Python DLL\n",
      "    _enablelegacywindowsfsencoding -- [Windows only]\n",
      "    __stdin__ -- the original stdin; don't touch!\n",
      "    __stdout__ -- the original stdout; don't touch!\n",
      "    __stderr__ -- the original stderr; don't touch!\n",
      "    __displayhook__ -- the original displayhook; don't touch!\n",
      "    __excepthook__ -- the original excepthook; don't touch!\n",
      "    \n",
      "    Functions:\n",
      "    \n",
      "    displayhook() -- print an object to the screen, and save it in builtins._\n",
      "    excepthook() -- print an exception and its traceback to sys.stderr\n",
      "    exc_info() -- return thread-safe information about the current exception\n",
      "    exit() -- exit the interpreter by raising SystemExit\n",
      "    getdlopenflags() -- returns flags to be used for dlopen() calls\n",
      "    getprofile() -- get the global profiling function\n",
      "    getrefcount() -- return the reference count for an object (plus one :-)\n",
      "    getrecursionlimit() -- return the max recursion depth for the interpreter\n",
      "    getsizeof() -- return the size of an object in bytes\n",
      "    gettrace() -- get the global debug tracing function\n",
      "    setcheckinterval() -- control how often the interpreter checks for events\n",
      "    setdlopenflags() -- set the flags to be used for dlopen() calls\n",
      "    setprofile() -- set the global profiling function\n",
      "    setrecursionlimit() -- set the max recursion depth for the interpreter\n",
      "    settrace() -- set the global debug tracing function\n",
      "\n",
      "FUNCTIONS\n",
      "    __breakpointhook__ = breakpointhook(...)\n",
      "        breakpointhook(*args, **kws)\n",
      "        \n",
      "        This hook function is called by built-in breakpoint().\n",
      "    \n",
      "    __displayhook__ = displayhook(object, /)\n",
      "        Print an object to sys.stdout and also save it in builtins._\n",
      "    \n",
      "    __excepthook__ = excepthook(exctype, value, traceback, /)\n",
      "        Handle an exception by displaying it with a traceback on sys.stderr.\n",
      "    \n",
      "    __unraisablehook__ = unraisablehook(unraisable, /)\n",
      "        Handle an unraisable exception.\n",
      "        \n",
      "        The unraisable argument has the following attributes:\n",
      "        \n",
      "        * exc_type: Exception type.\n",
      "        * exc_value: Exception value, can be None.\n",
      "        * exc_traceback: Exception traceback, can be None.\n",
      "        * err_msg: Error message, can be None.\n",
      "        * object: Object causing the exception, can be None.\n",
      "    \n",
      "    addaudithook(hook)\n",
      "        Adds a new audit hook callback.\n",
      "    \n",
      "    audit(...)\n",
      "        audit(event, *args)\n",
      "        \n",
      "        Passes the event to any audit hooks that are attached.\n",
      "    \n",
      "    breakpointhook(...)\n",
      "        breakpointhook(*args, **kws)\n",
      "        \n",
      "        This hook function is called by built-in breakpoint().\n",
      "    \n",
      "    call_tracing(func, args, /)\n",
      "        Call func(*args), while tracing is enabled.\n",
      "        \n",
      "        The tracing state is saved, and restored afterwards.  This is intended\n",
      "        to be called from a debugger from a checkpoint, to recursively debug\n",
      "        some other code.\n",
      "    \n",
      "    callstats()\n",
      "        Return a tuple of function call statistics.\n",
      "        \n",
      "        A tuple is returned only if CALL_PROFILE was defined when Python was\n",
      "        built.  Otherwise, this returns None.\n",
      "        \n",
      "        When enabled, this function returns detailed, implementation-specific\n",
      "        details about the number of function calls executed. The return value\n",
      "        is a 11-tuple where the entries in the tuple are counts of:\n",
      "        0. all function calls\n",
      "        1. calls to PyFunction_Type objects\n",
      "        2. PyFunction calls that do not create an argument tuple\n",
      "        3. PyFunction calls that do not create an argument tuple\n",
      "           and bypass PyEval_EvalCodeEx()\n",
      "        4. PyMethod calls\n",
      "        5. PyMethod calls on bound methods\n",
      "        6. PyType calls\n",
      "        7. PyCFunction calls\n",
      "        8. generator calls\n",
      "        9. All other calls\n",
      "        10. Number of stack pops performed by call_function()\n",
      "    \n",
      "    exc_info()\n",
      "        Return current exception information: (type, value, traceback).\n",
      "        \n",
      "        Return information about the most recent exception caught by an except\n",
      "        clause in the current stack frame or in an older stack frame.\n",
      "    \n",
      "    exit(status=None, /)\n",
      "        Exit the interpreter by raising SystemExit(status).\n",
      "        \n",
      "        If the status is omitted or None, it defaults to zero (i.e., success).\n",
      "        If the status is an integer, it will be used as the system exit status.\n",
      "        If it is another kind of object, it will be printed and the system\n",
      "        exit status will be one (i.e., failure).\n",
      "    \n",
      "    get_asyncgen_hooks()\n",
      "        Return the installed asynchronous generators hooks.\n",
      "        \n",
      "        This returns a namedtuple of the form (firstiter, finalizer).\n",
      "    \n",
      "    get_coroutine_origin_tracking_depth()\n",
      "        Check status of origin tracking for coroutine objects in this thread.\n",
      "    \n",
      "    getallocatedblocks()\n",
      "        Return the number of memory blocks currently allocated.\n",
      "    \n",
      "    getcheckinterval()\n",
      "        Return the current check interval; see sys.setcheckinterval().\n",
      "    \n",
      "    getdefaultencoding()\n",
      "        Return the current default encoding used by the Unicode implementation.\n",
      "    \n",
      "    getfilesystemencodeerrors()\n",
      "        Return the error mode used Unicode to OS filename conversion.\n",
      "    \n",
      "    getfilesystemencoding()\n",
      "        Return the encoding used to convert Unicode filenames to OS filenames.\n",
      "    \n",
      "    getprofile()\n",
      "        Return the profiling function set with sys.setprofile.\n",
      "        \n",
      "        See the profiler chapter in the library manual.\n",
      "    \n",
      "    getrecursionlimit()\n",
      "        Return the current value of the recursion limit.\n",
      "        \n",
      "        The recursion limit is the maximum depth of the Python interpreter\n",
      "        stack.  This limit prevents infinite recursion from causing an overflow\n",
      "        of the C stack and crashing Python.\n",
      "    \n",
      "    getrefcount(object, /)\n",
      "        Return the reference count of object.\n",
      "        \n",
      "        The count returned is generally one higher than you might expect,\n",
      "        because it includes the (temporary) reference as an argument to\n",
      "        getrefcount().\n",
      "    \n",
      "    getsizeof(...)\n",
      "        getsizeof(object [, default]) -> int\n",
      "        \n",
      "        Return the size of object in bytes.\n",
      "    \n",
      "    getswitchinterval()\n",
      "        Return the current thread switch interval; see sys.setswitchinterval().\n",
      "    \n",
      "    gettrace()\n",
      "        Return the global debug tracing function set with sys.settrace.\n",
      "        \n",
      "        See the debugger chapter in the library manual.\n",
      "    \n",
      "    getwindowsversion()\n",
      "        Return info about the running version of Windows as a named tuple.\n",
      "        \n",
      "        The members are named: major, minor, build, platform, service_pack,\n",
      "        service_pack_major, service_pack_minor, suite_mask, product_type and\n",
      "        platform_version. For backward compatibility, only the first 5 items\n",
      "        are available by indexing. All elements are numbers, except\n",
      "        service_pack and platform_type which are strings, and platform_version\n",
      "        which is a 3-tuple. Platform is always 2. Product_type may be 1 for a\n",
      "        workstation, 2 for a domain controller, 3 for a server.\n",
      "        Platform_version is a 3-tuple containing a version number that is\n",
      "        intended for identifying the OS rather than feature detection.\n",
      "    \n",
      "    intern(string, /)\n",
      "        ``Intern'' the given string.\n",
      "        \n",
      "        This enters the string in the (global) table of interned strings whose\n",
      "        purpose is to speed up dictionary lookups. Return the string itself or\n",
      "        the previously interned string object with the same value.\n",
      "    \n",
      "    is_finalizing()\n",
      "        Return True if Python is exiting.\n",
      "    \n",
      "    set_asyncgen_hooks(...)\n",
      "        set_asyncgen_hooks(* [, firstiter] [, finalizer])\n",
      "        \n",
      "        Set a finalizer for async generators objects.\n",
      "    \n",
      "    set_coroutine_origin_tracking_depth(depth)\n",
      "        Enable or disable origin tracking for coroutine objects in this thread.\n",
      "        \n",
      "        Coroutine objects will track 'depth' frames of traceback information\n",
      "        about where they came from, available in their cr_origin attribute.\n",
      "        \n",
      "        Set a depth of 0 to disable.\n",
      "    \n",
      "    setcheckinterval(n, /)\n",
      "        Set the async event check interval to n instructions.\n",
      "        \n",
      "        This tells the Python interpreter to check for asynchronous events\n",
      "        every n instructions.\n",
      "        \n",
      "        This also affects how often thread switches occur.\n",
      "    \n",
      "    setprofile(...)\n",
      "        setprofile(function)\n",
      "        \n",
      "        Set the profiling function.  It will be called on each function call\n",
      "        and return.  See the profiler chapter in the library manual.\n",
      "    \n",
      "    setrecursionlimit(limit, /)\n",
      "        Set the maximum depth of the Python interpreter stack to n.\n",
      "        \n",
      "        This limit prevents infinite recursion from causing an overflow of the C\n",
      "        stack and crashing Python.  The highest possible limit is platform-\n",
      "        dependent.\n",
      "    \n",
      "    setswitchinterval(interval, /)\n",
      "        Set the ideal thread switching delay inside the Python interpreter.\n",
      "        \n",
      "        The actual frequency of switching threads can be lower if the\n",
      "        interpreter executes long sequences of uninterruptible code\n",
      "        (this is implementation-specific and workload-dependent).\n",
      "        \n",
      "        The parameter must represent the desired switching delay in seconds\n",
      "        A typical value is 0.005 (5 milliseconds).\n",
      "    \n",
      "    settrace(...)\n",
      "        settrace(function)\n",
      "        \n",
      "        Set the global debug tracing function.  It will be called on each\n",
      "        function call.  See the debugger chapter in the library manual.\n",
      "    \n",
      "    unraisablehook(unraisable, /)\n",
      "        Handle an unraisable exception.\n",
      "        \n",
      "        The unraisable argument has the following attributes:\n",
      "        \n",
      "        * exc_type: Exception type.\n",
      "        * exc_value: Exception value, can be None.\n",
      "        * exc_traceback: Exception traceback, can be None.\n",
      "        * err_msg: Error message, can be None.\n",
      "        * object: Object causing the exception, can be None.\n",
      "\n",
      "DATA\n",
      "    __stderr__ = <_io.TextIOWrapper name='<stderr>' mode='w' encoding='utf...\n",
      "    __stdin__ = <_io.TextIOWrapper name='<stdin>' mode='r' encoding='cp125...\n",
      "    __stdout__ = <_io.TextIOWrapper name='<stdout>' mode='w' encoding='utf...\n",
      "    api_version = 1013\n",
      "    argv = [r'C:\\Users\\91973\\Anaconda3\\lib\\site-packages\\ipykernel_launche...\n",
      "    base_exec_prefix = r'C:\\Users\\91973\\Anaconda3'\n",
      "    base_prefix = r'C:\\Users\\91973\\Anaconda3'\n",
      "    builtin_module_names = ('_abc', '_ast', '_bisect', '_blake2', '_codecs...\n",
      "    byteorder = 'little'\n",
      "    copyright = 'Copyright (c) 2001-2020 Python Software Foundati...ematis...\n",
      "    displayhook = <ipykernel.displayhook.ZMQShellDisplayHook object>\n",
      "    dllhandle = 140722752389120\n",
      "    dont_write_bytecode = False\n",
      "    exec_prefix = r'C:\\Users\\91973\\Anaconda3'\n",
      "    executable = r'C:\\Users\\91973\\Anaconda3\\python.exe'\n",
      "    flags = sys.flags(debug=0, inspect=0, interactive=0, opt...ation=1, is...\n",
      "    float_info = sys.float_info(max=1.7976931348623157e+308, max_...epsilo...\n",
      "    float_repr_style = 'short'\n",
      "    hash_info = sys.hash_info(width=64, modulus=2305843009213693...iphash2...\n",
      "    hexversion = 50856944\n",
      "    implementation = namespace(cache_tag='cpython-38', hexversion=508...in...\n",
      "    int_info = sys.int_info(bits_per_digit=30, sizeof_digit=4)\n",
      "    last_value = SyntaxError('import * only allowed at module level')\n",
      "    maxsize = 9223372036854775807\n",
      "    maxunicode = 1114111\n",
      "    meta_path = [<class '_frozen_importlib.BuiltinImporter'>, <class '_fro...\n",
      "    modules = {'IPython': <module 'IPython' from 'C:\\\\Users\\\\91973\\\\Anacon...\n",
      "    path = [r'C:\\Users\\91973\\Python_Training', r'C:\\Users\\91973\\Anaconda3\\...\n",
      "    path_hooks = [<class 'zipimport.zipimporter'>, <function FileFinder.pa...\n",
      "    path_importer_cache = {r'C:\\Users\\91973\\.ipython': FileFinder('C:\\\\Use...\n",
      "    platform = 'win32'\n",
      "    prefix = r'C:\\Users\\91973\\Anaconda3'\n",
      "    ps1 = 'In : '\n",
      "    ps2 = '...: '\n",
      "    ps3 = 'Out: '\n",
      "    pycache_prefix = None\n",
      "    stderr = <ipykernel.iostream.OutStream object>\n",
      "    stdin = <_io.TextIOWrapper name='<stdin>' mode='r' encoding='cp1252'>\n",
      "    stdout = <ipykernel.iostream.OutStream object>\n",
      "    thread_info = sys.thread_info(name='nt', lock=None, version=None)\n",
      "    version = '3.8.3 (default, Jul  2 2020, 17:30:36) [MSC v.1916 64 bit (...\n",
      "    version_info = sys.version_info(major=3, minor=8, micro=3, releaseleve...\n",
      "    warnoptions = []\n",
      "    winver = '3.8'\n",
      "\n",
      "FILE\n",
      "    (built-in)\n",
      "\n",
      "\n"
     ]
    }
   ],
   "source": [
    "help(sys)"
   ]
  },
  {
   "cell_type": "code",
   "execution_count": 37,
   "metadata": {},
   "outputs": [
    {
     "data": {
      "text/plain": [
       "'win32'"
      ]
     },
     "execution_count": 37,
     "metadata": {},
     "output_type": "execute_result"
    }
   ],
   "source": [
    "sys.platform"
   ]
  },
  {
   "cell_type": "code",
   "execution_count": 38,
   "metadata": {},
   "outputs": [
    {
     "data": {
      "text/plain": [
       "'C:\\\\Users\\\\91973\\\\Anaconda3\\\\python.exe'"
      ]
     },
     "execution_count": 38,
     "metadata": {},
     "output_type": "execute_result"
    }
   ],
   "source": [
    "sys.executable"
   ]
  },
  {
   "cell_type": "code",
   "execution_count": 39,
   "metadata": {},
   "outputs": [
    {
     "data": {
      "text/plain": [
       "['C:\\\\Users\\\\91973\\\\Python_Training', 'C:\\\\Users\\\\91973\\\\Anaconda3\\\\python38.zip', 'C:\\\\Users\\\\91973\\\\Anaconda3\\\\DLLs', 'C:\\\\Users\\\\91973\\\\Anaconda3\\\\lib', 'C:\\\\Users\\\\91973\\\\Anaconda3', '', 'C:\\\\Users\\\\91973\\\\Anaconda3\\\\lib\\\\site-packages', 'C:\\\\Users\\\\91973\\\\Anaconda3\\\\lib\\\\site-packages\\\\win32', 'C:\\\\Users\\\\91973\\\\Anaconda3\\\\lib\\\\site-packages\\\\win32\\\\lib', 'C:\\\\Users\\\\91973\\\\Anaconda3\\\\lib\\\\site-packages\\\\Pythonwin', 'C:\\\\Users\\\\91973\\\\Anaconda3\\\\lib\\\\site-packages\\\\IPython\\\\extensions', 'C:\\\\Users\\\\91973\\\\.ipython']"
      ]
     },
     "execution_count": 39,
     "metadata": {},
     "output_type": "execute_result"
    }
   ],
   "source": [
    "sys.path"
   ]
  },
  {
   "cell_type": "code",
   "execution_count": null,
   "metadata": {},
   "outputs": [],
   "source": [
    "sys.byteorder"
   ]
  },
  {
   "cell_type": "code",
   "execution_count": null,
   "metadata": {},
   "outputs": [],
   "source": []
  },
  {
   "cell_type": "code",
   "execution_count": 40,
   "metadata": {},
   "outputs": [
    {
     "data": {
      "text/plain": [
       "['C:\\\\Users\\\\91973\\\\Anaconda3\\\\lib\\\\site-packages\\\\ipykernel_launcher.py', '-f', 'C:\\\\Users\\\\91973\\\\AppData\\\\Roaming\\\\jupyter\\\\runtime\\\\kernel-fe313d0e-ec9e-4dde-a6bb-ac732e4de7a3.json']"
      ]
     },
     "execution_count": 40,
     "metadata": {},
     "output_type": "execute_result"
    }
   ],
   "source": [
    "sys.argv"
   ]
  },
  {
   "cell_type": "markdown",
   "metadata": {},
   "source": [
    "Commandline parameter"
   ]
  },
  {
   "cell_type": "code",
   "execution_count": 41,
   "metadata": {},
   "outputs": [],
   "source": [
    "import os"
   ]
  },
  {
   "cell_type": "code",
   "execution_count": 42,
   "metadata": {},
   "outputs": [
    {
     "data": {
      "text/plain": [
       "['DirEntry', 'F_OK', 'MutableMapping', 'O_APPEND', 'O_BINARY', 'O_CREAT', 'O_EXCL', 'O_NOINHERIT', 'O_RANDOM', 'O_RDONLY', 'O_RDWR', 'O_SEQUENTIAL', 'O_SHORT_LIVED', 'O_TEMPORARY', 'O_TEXT', 'O_TRUNC', 'O_WRONLY', 'P_DETACH', 'P_NOWAIT', 'P_NOWAITO', 'P_OVERLAY', 'P_WAIT', 'PathLike', 'R_OK', 'SEEK_CUR', 'SEEK_END', 'SEEK_SET', 'TMP_MAX', 'W_OK', 'X_OK', '_AddedDllDirectory', '_Environ', '__all__', '__builtins__', '__cached__', '__doc__', '__file__', '__loader__', '__name__', '__package__', '__spec__', '_check_methods', '_execvpe', '_exists', '_exit', '_fspath', '_get_exports_list', '_putenv', '_unsetenv', '_wrap_close', 'abc', 'abort', 'access', 'add_dll_directory', 'altsep', 'chdir', 'chmod', 'close', 'closerange', 'cpu_count', 'curdir', 'defpath', 'device_encoding', 'devnull', 'dup', 'dup2', 'environ', 'error', 'execl', 'execle', 'execlp', 'execlpe', 'execv', 'execve', 'execvp', 'execvpe', 'extsep', 'fdopen', 'fsdecode', 'fsencode', 'fspath', 'fstat', 'fsync', 'ftruncate', 'get_exec_path', 'get_handle_inheritable', 'get_inheritable', 'get_terminal_size', 'getcwd', 'getcwdb', 'getenv', 'getlogin', 'getpid', 'getppid', 'isatty', 'kill', 'linesep', 'link', 'listdir', 'lseek', 'lstat', 'makedirs', 'mkdir', 'name', 'open', 'pardir', 'path', 'pathsep', 'pipe', 'popen', 'putenv', 'read', 'readlink', 'remove', 'removedirs', 'rename', 'renames', 'replace', 'rmdir', 'scandir', 'sep', 'set_handle_inheritable', 'set_inheritable', 'spawnl', 'spawnle', 'spawnv', 'spawnve', 'st', 'startfile', 'stat', 'stat_result', 'statvfs_result', 'strerror', 'supports_bytes_environ', 'supports_dir_fd', 'supports_effective_ids', 'supports_fd', 'supports_follow_symlinks', 'symlink', 'sys', 'system', 'terminal_size', 'times', 'times_result', 'truncate', 'umask', 'uname_result', 'unlink', 'urandom', 'utime', 'waitpid', 'walk', 'write']"
      ]
     },
     "execution_count": 42,
     "metadata": {},
     "output_type": "execute_result"
    }
   ],
   "source": [
    "dir(os)"
   ]
  },
  {
   "cell_type": "code",
   "execution_count": null,
   "metadata": {},
   "outputs": [],
   "source": [
    "# help(os)\n",
    "os.getcwd()# pwd in linux"
   ]
  },
  {
   "cell_type": "code",
   "execution_count": 43,
   "metadata": {},
   "outputs": [
    {
     "data": {
      "text/plain": [
       "[' 05_MiniProject.ipynb', ' firstipynb.ipynb', ' my_first_notebook.ipynb', '.idea', '.ipynb_checkpoints', '01+datatype.png', '01_basicDataType.py', '01_Basic_Data_type.ipynb', '01_C_Compilation.png', '01_DataType.png', '01_Division.gif', '01_Introduction.ipynb', '01_JavaCompilation.png', '01_OOP_Circle_.png', '02_Rectangle.png', '02_String.ipynb', '03_List.ipynb', '03_UserInput.ipynb', '03__Employee.png', '04_Conditions.ipynb', '04_Time.png', '05_Forloop.png', '05_Loops.ipynb', '05_set_union_b.png', '05_WhilerLoop.jpg', '07_Tuple.ipynb', '08_Sets.ipynb', '08_Sets.jpg', '08_Sets1.jpg', '09_Dictionary.ipynb', '10_FileHandling.ipynb', '11_Functions.ipynb', '11_localsglobals.ipynb', '12_Class.ipynb', '13_hr.py', '13_Inhrtitance.ipynb', '14_Exception.ipynb', '14_Misleneous_ModuleExample.ipynb', '14_Module.ipynb', '16_Json.ipynb', '17_DocTest.ipynb', '18_Request_Module.ipynb', '25_CommandlineArg.py', '2ord7hqoz0g.zip', '775_m8_gui_app_v1.0.ipynb', '775_m8_in_class_codes_v1.0.ipynb', '8v4mqr1qvbj.rar', 'advance2', 'API_ILO_country_YU.csv', 'Best Secure Ptactice.ipynb', 'capegemini.ipynb', 'ClassStaticMethod.ipynb', 'country_data.xml', 'Data Science', 'data.yaml', 'Database.ipynb', 'data_file.json', 'Day1_assignment.txt', 'Day2_assignment.txt', 'default-soapui-workspace.xml', 'DSA', 'employee_file.csv', 'employee_file123.csv', 'employee_file12334.csv', 'employee_file123e34.csv', 'employee_file1test.csv', 'employee_file2.csv', 'employee_file456.csv', 'employee_file4561.csv', 'employee_file4666.csv', 'Enum.ipynb', 'firstnotebook.ipynb', 'firstnotebool_kevin.ipynb', 'Graph-Matplotlib-tutorial.jpg', 'hrdata_modified.csv', 'ic-class-explosion.a3d42b8c9b91.jpg', 'ic-initial-employee-inheritance.jpg', 'Incedonotebook.ipynb', 'infinerafirst.ipynb', 'interface.ipynb', 'intersection-in-python.jpg', 'Interview.ipynb', 'items.yaml', 'Json.jpg', 'Json1.jpg', 'jsontut.ipynb', 'MatplotGraph1-Python-Matplotlib-Edureka-768x644.png', 'Matplotlibs_tutorial.ipynb', 'mod.py', 'mod1.py', 'Module.py.ipynb', 'Module1.py', 'movies.xml', 'MultiDimensionalArray.jpeg', 'MultipleInheritance.jpg', 'multiplication.png', 'Multithreading.ipynb', 'myenv', 'myfirstnotebook.ipynb', 'Networking.ipynb', 'New Text Document.txt', 'Numpy_Introduction.ipynb', 'Operator and Function overloading.ipynb', 'output.txt', 'output.xml', 'output1.txt', 'output12.txt', 'output_DATA_NEWS_23.csv', 'output_file.txt', 'package.ipynb', 'panda.ipynb', 'Panda_intro.ipynb', 'pdbExample.py', 'PDB_Debugger.ipynb', 'PDF_Python_Tricks_A_Buffet_Of_Awesome_Py.pdf', 'plusoperator.png', 'Quindle.ipynb', 'Reference.jpg', 'Reference1.png', 'Reference2.jpg', 'rosen.png', 'sample.xml', 'sample_inspect.py', 'Scipy_Intro.ipynb', 'Selenium', 'SeleniumPythonTestSummary_preeti.html', 'Session 1.1 - Python-Installation and Basics.ipynb', 'Session 1.2 - String and list Objects.ipynb', 'Session2.1_Containers and Functions.ipynb', 'session2.2_Object Oriented Programming and File IO.ipynb', 'session3.1_Module Exceptions and Database programming_final.ipynb', 'sitephoto.jpg', 'soapui-settings.xml', 'SysAdmin.ipynb', 'test212', 'Time_Space_Complexity.ipynb', 'Tkinter.ipynb', 'Untitled.ipynb', 'Untitled1.ipynb', 'Untitled2.ipynb', 'Untitled3.ipynb', 'Untitled4.ipynb', 'Untitled5.ipynb', 'Untitled6.ipynb', 'Untitled7.ipynb', 'Untitled8.ipynb', 'users.yaml', 'util.py', 'world-bank-youth-unemployment.zip', 'XML.ipynb', 'ymlhandling.ipynb', '__pycache__']"
      ]
     },
     "execution_count": 43,
     "metadata": {},
     "output_type": "execute_result"
    }
   ],
   "source": [
    "os.listdir() # dir in windows or ls in linux"
   ]
  },
  {
   "cell_type": "code",
   "execution_count": null,
   "metadata": {},
   "outputs": [],
   "source": [
    "os.mkdir('C:\\\\Users\\\\91973\\\\Python_Training\\\\test212')"
   ]
  },
  {
   "cell_type": "code",
   "execution_count": null,
   "metadata": {},
   "outputs": [],
   "source": [
    "os.getcwd()\n",
    "fopen(\"'C:\\\\Users\\\\91973\\\\desktop\\\\text.txt  \")\n",
    "os.chdir('C:\\\\Users\\\\91973\\\\Python_Training\\\\test212')# cd \n",
    "os.getcwd()"
   ]
  },
  {
   "cell_type": "code",
   "execution_count": null,
   "metadata": {},
   "outputs": [],
   "source": [
    "dir(os)"
   ]
  },
  {
   "cell_type": "code",
   "execution_count": 44,
   "metadata": {},
   "outputs": [
    {
     "data": {
      "text/plain": [
       "22548"
      ]
     },
     "execution_count": 44,
     "metadata": {},
     "output_type": "execute_result"
    }
   ],
   "source": [
    "os.getpid()"
   ]
  },
  {
   "cell_type": "code",
   "execution_count": null,
   "metadata": {},
   "outputs": [],
   "source": [
    "# os.chdir('C:\\\\Users\\\\assharma\\\\')\n",
    "os.rename('C:\\\\Users\\\\assharma\\\\test212','C:\\\\Users\\\\assharma\\\\test19331111')# mv newname filename"
   ]
  },
  {
   "cell_type": "code",
   "execution_count": null,
   "metadata": {},
   "outputs": [],
   "source": [
    "os.rmdir('C:\\\\Users\\\\assharma\\\\test19331111')# os.chmod('C:\\\\Users\\\\assharma\\\\test12',777)"
   ]
  },
  {
   "cell_type": "code",
   "execution_count": null,
   "metadata": {},
   "outputs": [],
   "source": [
    "os.chmod('C:\\\\Users\\\\assharma\\\\test',777)  #7 -- read write and exeucte"
   ]
  },
  {
   "cell_type": "code",
   "execution_count": null,
   "metadata": {},
   "outputs": [],
   "source": [
    "# os.system(\"shutdown /s /t 1\")\n",
    "# os.system(\"shutdown /r /t 1\")"
   ]
  },
  {
   "cell_type": "code",
   "execution_count": null,
   "metadata": {},
   "outputs": [],
   "source": [
    "import subprocess\n",
    "import os\n",
    "result = subprocess.run(['lsof', '-n', \"-i4TCP:%s\" % 80],stdout=subprocess.PIPE,stderr=subprocess.PIPE)\n",
    "# print(result)\n",
    "# help(subprocess)"
   ]
  },
  {
   "cell_type": "code",
   "execution_count": 45,
   "metadata": {},
   "outputs": [
    {
     "name": "stdout",
     "output_type": "stream",
     "text": [
      "Port: 80 => service name: http\n",
      "Port: 25 => service name: smtp\n",
      "Port: 53 => service name: domain\n"
     ]
    }
   ],
   "source": [
    "import socket \n",
    "# help(socket)\n",
    "# print(socket.__file__)\n",
    "def find_service_name(): \n",
    "    protocolname = 'tcp' \n",
    "    for port in [80, 25]: \n",
    "        print (\"Port: %s => service name: %s\" %(port, socket.getservbyport(port, protocolname))) \n",
    "     \n",
    "    print (\"Port: %s => service name: %s\" %(53, socket.getservbyport(53, 'udp'))) \n",
    "      \n",
    "find_service_name() "
   ]
  },
  {
   "cell_type": "markdown",
   "metadata": {},
   "source": [
    "\n",
    "#### MATH Module"
   ]
  },
  {
   "cell_type": "code",
   "execution_count": 46,
   "metadata": {},
   "outputs": [],
   "source": [
    "import math\n"
   ]
  },
  {
   "cell_type": "code",
   "execution_count": 47,
   "metadata": {},
   "outputs": [
    {
     "data": {
      "text/plain": [
       "['__doc__', '__loader__', '__name__', '__package__', '__spec__', 'acos', 'acosh', 'asin', 'asinh', 'atan', 'atan2', 'atanh', 'ceil', 'comb', 'copysign', 'cos', 'cosh', 'degrees', 'dist', 'e', 'erf', 'erfc', 'exp', 'expm1', 'fabs', 'factorial', 'floor', 'fmod', 'frexp', 'fsum', 'gamma', 'gcd', 'hypot', 'inf', 'isclose', 'isfinite', 'isinf', 'isnan', 'isqrt', 'ldexp', 'lgamma', 'log', 'log10', 'log1p', 'log2', 'modf', 'nan', 'perm', 'pi', 'pow', 'prod', 'radians', 'remainder', 'sin', 'sinh', 'sqrt', 'tan', 'tanh', 'tau', 'trunc']"
      ]
     },
     "execution_count": 47,
     "metadata": {},
     "output_type": "execute_result"
    }
   ],
   "source": [
    "dir(math)"
   ]
  },
  {
   "cell_type": "code",
   "execution_count": null,
   "metadata": {},
   "outputs": [],
   "source": [
    "print (math.acos(math.pi/4))"
   ]
  },
  {
   "cell_type": "code",
   "execution_count": null,
   "metadata": {},
   "outputs": [],
   "source": [
    "print (math.asin(math.pi/4))"
   ]
  },
  {
   "cell_type": "code",
   "execution_count": null,
   "metadata": {},
   "outputs": [],
   "source": [
    "print (math.log(1024,2))"
   ]
  },
  {
   "cell_type": "code",
   "execution_count": null,
   "metadata": {},
   "outputs": [],
   "source": [
    "print (math.trunc(23.000))"
   ]
  },
  {
   "cell_type": "markdown",
   "metadata": {},
   "source": [
    "#### Random Module"
   ]
  },
  {
   "cell_type": "code",
   "execution_count": 48,
   "metadata": {},
   "outputs": [],
   "source": [
    "import random\n",
    "# dir(random)"
   ]
  },
  {
   "cell_type": "code",
   "execution_count": 52,
   "metadata": {},
   "outputs": [
    {
     "data": {
      "text/plain": [
       "3"
      ]
     },
     "execution_count": 52,
     "metadata": {},
     "output_type": "execute_result"
    }
   ],
   "source": [
    "a= random.choice([1,2,3,5,4,444,4,45,443])\n",
    "a"
   ]
  },
  {
   "cell_type": "code",
   "execution_count": 54,
   "metadata": {},
   "outputs": [
    {
     "data": {
      "text/plain": [
       "2"
      ]
     },
     "execution_count": 54,
     "metadata": {},
     "output_type": "execute_result"
    }
   ],
   "source": [
    "random.randrange(6)"
   ]
  },
  {
   "cell_type": "code",
   "execution_count": null,
   "metadata": {},
   "outputs": [],
   "source": [
    "help(random)"
   ]
  },
  {
   "cell_type": "code",
   "execution_count": null,
   "metadata": {},
   "outputs": [],
   "source": [
    "# random.randint(1.0,2.0)\n",
    "# print(help(random.randint()))\n",
    "help(random)\n",
    "# random.uniform(1, 5)"
   ]
  },
  {
   "cell_type": "code",
   "execution_count": 55,
   "metadata": {},
   "outputs": [
    {
     "data": {
      "text/plain": [
       "[3454053, 6040391, 5296915, 1293260, 2053035, 9954977, 1792728, 9352658, 490253, 707188, 8495557, 4047747, 3599737, 2989131, 9137387, 6547574, 6551828, 7954627, 3013387, 3313963, 348453, 91386, 6970090, 23448, 517201, 6787210, 2607395, 7208409, 6044625, 3068256, 8243439, 7719790, 5809312, 3965828, 1980132, 990856, 409214, 4655006, 4073918, 7226562, 7979383, 2241485, 9404322, 2704699, 1793118, 1272739, 4868276, 5431707, 6382861, 3783588, 2311116, 2077633, 9659598, 3135680, 5441669, 5934350, 1273356, 1094340, 1963448, 3567889]"
      ]
     },
     "execution_count": 55,
     "metadata": {},
     "output_type": "execute_result"
    }
   ],
   "source": [
    "random.sample(range(10000000), 60)\n",
    "# Chooses k unique random elements from a population sequence or set."
   ]
  },
  {
   "cell_type": "code",
   "execution_count": 56,
   "metadata": {},
   "outputs": [
    {
     "data": {
      "text/plain": [
       "['_STRUCT_TM_ITEMS', '__doc__', '__loader__', '__name__', '__package__', '__spec__', 'altzone', 'asctime', 'ctime', 'daylight', 'get_clock_info', 'gmtime', 'localtime', 'mktime', 'monotonic', 'monotonic_ns', 'perf_counter', 'perf_counter_ns', 'process_time', 'process_time_ns', 'sleep', 'strftime', 'strptime', 'struct_time', 'thread_time', 'thread_time_ns', 'time', 'time_ns', 'timezone', 'tzname']"
      ]
     },
     "execution_count": 56,
     "metadata": {},
     "output_type": "execute_result"
    }
   ],
   "source": [
    "# random.sample(range(20), 5)\n",
    "import time\n",
    "dir(time)"
   ]
  },
  {
   "cell_type": "code",
   "execution_count": null,
   "metadata": {},
   "outputs": [],
   "source": [
    "import datetime"
   ]
  },
  {
   "cell_type": "code",
   "execution_count": null,
   "metadata": {},
   "outputs": [],
   "source": [
    "# dir(datetime)\n",
    "print(\"a)"
   ]
  },
  {
   "cell_type": "code",
   "execution_count": null,
   "metadata": {},
   "outputs": [],
   "source": [
    "# help(datetime)\n",
    "# print(tzinfo)\n",
    "dir(datetime)"
   ]
  },
  {
   "cell_type": "code",
   "execution_count": 57,
   "metadata": {},
   "outputs": [
    {
     "name": "stdout",
     "output_type": "stream",
     "text": [
      "before sleep\n",
      "after sleep\n"
     ]
    }
   ],
   "source": [
    "from time import sleep\n",
    "print( \"before sleep\")\n",
    "sleep(10)\n",
    "print(\"after sleep\")"
   ]
  },
  {
   "cell_type": "code",
   "execution_count": null,
   "metadata": {},
   "outputs": [],
   "source": [
    "import mod\n",
    "# print (mod.stringModule)\n",
    "# print(type(mod.a))\n",
    "help(mod)\n",
    "# print(mod.__doc__)\n",
    "# print(\"type of \",type(mod.foo(2)))"
   ]
  },
  {
   "cell_type": "code",
   "execution_count": 58,
   "metadata": {},
   "outputs": [
    {
     "name": "stdout",
     "output_type": "stream",
     "text": [
      "\n",
      "Please wait a moment while I gather a list of all available modules...\n",
      "\n"
     ]
    },
    {
     "name": "stderr",
     "output_type": "stream",
     "text": [
      "C:\\Users\\91973\\Anaconda3\\lib\\site-packages\\IPython\\kernel\\__init__.py:12: ShimWarning: The `IPython.kernel` package has been deprecated since IPython 4.0.You should import from ipykernel or jupyter_client instead.\n",
      "  warn(\"The `IPython.kernel` package has been deprecated since IPython 4.0.\"\n",
      "C:\\Users\\91973\\Anaconda3\\lib\\site-packages\\nltk\\twitter\\__init__.py:21: UserWarning: The twython library has not been installed. Some functionality from the twitter package will not be available.\n",
      "  warnings.warn(\n",
      "WARNING: No libpcap provider available ! pcap won't be used\n",
      "C:\\Users\\91973\\Anaconda3\\lib\\site-packages\\scapy\\base_classes.py:324: SyntaxWarning: Packet 'IEC104_IO_M_SP_TA_1' has a duplicated 'iv' field ! If you are using several ConditionalFields, have a look at MultipleTypeField instead ! This will become a SyntaxError in a future version of Scapy !\n",
      "  warnings.warn(war_msg, SyntaxWarning)\n",
      "C:\\Users\\91973\\Anaconda3\\lib\\site-packages\\scapy\\base_classes.py:324: SyntaxWarning: Packet 'IEC104_IO_M_DP_TA_1' has a duplicated 'iv' field ! If you are using several ConditionalFields, have a look at MultipleTypeField instead ! This will become a SyntaxError in a future version of Scapy !\n",
      "  warnings.warn(war_msg, SyntaxWarning)\n",
      "C:\\Users\\91973\\Anaconda3\\lib\\site-packages\\scapy\\base_classes.py:324: SyntaxWarning: Packet 'IEC104_IO_M_ST_TA_1' has a duplicated 'iv' field ! If you are using several ConditionalFields, have a look at MultipleTypeField instead ! This will become a SyntaxError in a future version of Scapy !\n",
      "  warnings.warn(war_msg, SyntaxWarning)\n",
      "C:\\Users\\91973\\Anaconda3\\lib\\site-packages\\scapy\\base_classes.py:324: SyntaxWarning: Packet 'IEC104_IO_M_BO_TA_1' has a duplicated 'iv' field ! If you are using several ConditionalFields, have a look at MultipleTypeField instead ! This will become a SyntaxError in a future version of Scapy !\n",
      "  warnings.warn(war_msg, SyntaxWarning)\n",
      "C:\\Users\\91973\\Anaconda3\\lib\\site-packages\\scapy\\base_classes.py:324: SyntaxWarning: Packet 'IEC104_IO_M_ME_TA_1' has a duplicated 'iv' field ! If you are using several ConditionalFields, have a look at MultipleTypeField instead ! This will become a SyntaxError in a future version of Scapy !\n",
      "  warnings.warn(war_msg, SyntaxWarning)\n",
      "C:\\Users\\91973\\Anaconda3\\lib\\site-packages\\scapy\\base_classes.py:324: SyntaxWarning: Packet 'IEC104_IO_M_ME_TB_1' has a duplicated 'iv' field ! If you are using several ConditionalFields, have a look at MultipleTypeField instead ! This will become a SyntaxError in a future version of Scapy !\n",
      "  warnings.warn(war_msg, SyntaxWarning)\n",
      "C:\\Users\\91973\\Anaconda3\\lib\\site-packages\\scapy\\base_classes.py:324: SyntaxWarning: Packet 'IEC104_IO_M_ME_TC_1' has a duplicated 'iv' field ! If you are using several ConditionalFields, have a look at MultipleTypeField instead ! This will become a SyntaxError in a future version of Scapy !\n",
      "  warnings.warn(war_msg, SyntaxWarning)\n",
      "C:\\Users\\91973\\Anaconda3\\lib\\site-packages\\scapy\\base_classes.py:324: SyntaxWarning: Packet 'IEC104_IO_M_IT_TA_1' has a duplicated 'iv' field ! If you are using several ConditionalFields, have a look at MultipleTypeField instead ! This will become a SyntaxError in a future version of Scapy !\n",
      "  warnings.warn(war_msg, SyntaxWarning)\n",
      "C:\\Users\\91973\\Anaconda3\\lib\\site-packages\\scapy\\base_classes.py:324: SyntaxWarning: Packet 'IEC104_IO_M_EP_TA_1' has a duplicated 'iv' field ! If you are using several ConditionalFields, have a look at MultipleTypeField instead ! This will become a SyntaxError in a future version of Scapy !\n",
      "  warnings.warn(war_msg, SyntaxWarning)\n",
      "C:\\Users\\91973\\Anaconda3\\lib\\site-packages\\scapy\\base_classes.py:324: SyntaxWarning: Packet 'IEC104_IO_M_EP_TB_1' has a duplicated 'reserved' field ! If you are using several ConditionalFields, have a look at MultipleTypeField instead ! This will become a SyntaxError in a future version of Scapy !\n",
      "  warnings.warn(war_msg, SyntaxWarning)\n",
      "C:\\Users\\91973\\Anaconda3\\lib\\site-packages\\scapy\\base_classes.py:324: SyntaxWarning: Packet 'IEC104_IO_M_EP_TB_1' has a duplicated 'iv' field ! If you are using several ConditionalFields, have a look at MultipleTypeField instead ! This will become a SyntaxError in a future version of Scapy !\n",
      "  warnings.warn(war_msg, SyntaxWarning)\n",
      "C:\\Users\\91973\\Anaconda3\\lib\\site-packages\\scapy\\base_classes.py:324: SyntaxWarning: Packet 'IEC104_IO_M_EP_TC_1' has a duplicated 'reserved' field ! If you are using several ConditionalFields, have a look at MultipleTypeField instead ! This will become a SyntaxError in a future version of Scapy !\n",
      "  warnings.warn(war_msg, SyntaxWarning)\n",
      "C:\\Users\\91973\\Anaconda3\\lib\\site-packages\\scapy\\base_classes.py:324: SyntaxWarning: Packet 'IEC104_IO_M_EP_TC_1' has a duplicated 'iv' field ! If you are using several ConditionalFields, have a look at MultipleTypeField instead ! This will become a SyntaxError in a future version of Scapy !\n",
      "  warnings.warn(war_msg, SyntaxWarning)\n",
      "C:\\Users\\91973\\Anaconda3\\lib\\site-packages\\scapy\\base_classes.py:324: SyntaxWarning: Packet 'IEC104_IO_M_SP_TB_1' has a duplicated 'iv' field ! If you are using several ConditionalFields, have a look at MultipleTypeField instead ! This will become a SyntaxError in a future version of Scapy !\n",
      "  warnings.warn(war_msg, SyntaxWarning)\n",
      "C:\\Users\\91973\\Anaconda3\\lib\\site-packages\\scapy\\base_classes.py:324: SyntaxWarning: Packet 'IEC104_IO_M_DP_TB_1' has a duplicated 'iv' field ! If you are using several ConditionalFields, have a look at MultipleTypeField instead ! This will become a SyntaxError in a future version of Scapy !\n",
      "  warnings.warn(war_msg, SyntaxWarning)\n",
      "C:\\Users\\91973\\Anaconda3\\lib\\site-packages\\scapy\\base_classes.py:324: SyntaxWarning: Packet 'IEC104_IO_M_ST_TB_1' has a duplicated 'iv' field ! If you are using several ConditionalFields, have a look at MultipleTypeField instead ! This will become a SyntaxError in a future version of Scapy !\n",
      "  warnings.warn(war_msg, SyntaxWarning)\n",
      "C:\\Users\\91973\\Anaconda3\\lib\\site-packages\\scapy\\base_classes.py:324: SyntaxWarning: Packet 'IEC104_IO_M_BO_TB_1' has a duplicated 'iv' field ! If you are using several ConditionalFields, have a look at MultipleTypeField instead ! This will become a SyntaxError in a future version of Scapy !\n",
      "  warnings.warn(war_msg, SyntaxWarning)\n",
      "C:\\Users\\91973\\Anaconda3\\lib\\site-packages\\scapy\\base_classes.py:324: SyntaxWarning: Packet 'IEC104_IO_M_ME_TD_1' has a duplicated 'iv' field ! If you are using several ConditionalFields, have a look at MultipleTypeField instead ! This will become a SyntaxError in a future version of Scapy !\n",
      "  warnings.warn(war_msg, SyntaxWarning)\n",
      "C:\\Users\\91973\\Anaconda3\\lib\\site-packages\\scapy\\base_classes.py:324: SyntaxWarning: Packet 'IEC104_IO_M_ME_TE_1' has a duplicated 'iv' field ! If you are using several ConditionalFields, have a look at MultipleTypeField instead ! This will become a SyntaxError in a future version of Scapy !\n",
      "  warnings.warn(war_msg, SyntaxWarning)\n",
      "C:\\Users\\91973\\Anaconda3\\lib\\site-packages\\scapy\\base_classes.py:324: SyntaxWarning: Packet 'IEC104_IO_M_ME_TF_1' has a duplicated 'iv' field ! If you are using several ConditionalFields, have a look at MultipleTypeField instead ! This will become a SyntaxError in a future version of Scapy !\n",
      "  warnings.warn(war_msg, SyntaxWarning)\n",
      "C:\\Users\\91973\\Anaconda3\\lib\\site-packages\\scapy\\base_classes.py:324: SyntaxWarning: Packet 'IEC104_IO_M_IT_TB_1' has a duplicated 'iv' field ! If you are using several ConditionalFields, have a look at MultipleTypeField instead ! This will become a SyntaxError in a future version of Scapy !\n",
      "  warnings.warn(war_msg, SyntaxWarning)\n",
      "C:\\Users\\91973\\Anaconda3\\lib\\site-packages\\scapy\\base_classes.py:324: SyntaxWarning: Packet 'IEC104_IO_M_EP_TD_1' has a duplicated 'iv' field ! If you are using several ConditionalFields, have a look at MultipleTypeField instead ! This will become a SyntaxError in a future version of Scapy !\n",
      "  warnings.warn(war_msg, SyntaxWarning)\n",
      "C:\\Users\\91973\\Anaconda3\\lib\\site-packages\\scapy\\base_classes.py:324: SyntaxWarning: Packet 'IEC104_IO_M_EP_TE_1' has a duplicated 'reserved' field ! If you are using several ConditionalFields, have a look at MultipleTypeField instead ! This will become a SyntaxError in a future version of Scapy !\n",
      "  warnings.warn(war_msg, SyntaxWarning)\n"
     ]
    },
    {
     "name": "stderr",
     "output_type": "stream",
     "text": [
      "C:\\Users\\91973\\Anaconda3\\lib\\site-packages\\scapy\\base_classes.py:324: SyntaxWarning: Packet 'IEC104_IO_M_EP_TE_1' has a duplicated 'iv' field ! If you are using several ConditionalFields, have a look at MultipleTypeField instead ! This will become a SyntaxError in a future version of Scapy !\n",
      "  warnings.warn(war_msg, SyntaxWarning)\n",
      "C:\\Users\\91973\\Anaconda3\\lib\\site-packages\\scapy\\base_classes.py:324: SyntaxWarning: Packet 'IEC104_IO_M_EP_TF_1' has a duplicated 'reserved' field ! If you are using several ConditionalFields, have a look at MultipleTypeField instead ! This will become a SyntaxError in a future version of Scapy !\n",
      "  warnings.warn(war_msg, SyntaxWarning)\n",
      "C:\\Users\\91973\\Anaconda3\\lib\\site-packages\\scapy\\base_classes.py:324: SyntaxWarning: Packet 'IEC104_IO_M_EP_TF_1' has a duplicated 'iv' field ! If you are using several ConditionalFields, have a look at MultipleTypeField instead ! This will become a SyntaxError in a future version of Scapy !\n",
      "  warnings.warn(war_msg, SyntaxWarning)\n",
      "C:\\Users\\91973\\Anaconda3\\lib\\site-packages\\scapy\\base_classes.py:324: SyntaxWarning: Packet 'IEC104_IO_M_SP_TA_1_IOA' has a duplicated 'iv' field ! If you are using several ConditionalFields, have a look at MultipleTypeField instead ! This will become a SyntaxError in a future version of Scapy !\n",
      "  warnings.warn(war_msg, SyntaxWarning)\n",
      "C:\\Users\\91973\\Anaconda3\\lib\\site-packages\\scapy\\base_classes.py:324: SyntaxWarning: Packet 'IEC104_IO_M_DP_TA_1_IOA' has a duplicated 'iv' field ! If you are using several ConditionalFields, have a look at MultipleTypeField instead ! This will become a SyntaxError in a future version of Scapy !\n",
      "  warnings.warn(war_msg, SyntaxWarning)\n",
      "C:\\Users\\91973\\Anaconda3\\lib\\site-packages\\scapy\\base_classes.py:324: SyntaxWarning: Packet 'IEC104_IO_M_ST_TA_1_IOA' has a duplicated 'iv' field ! If you are using several ConditionalFields, have a look at MultipleTypeField instead ! This will become a SyntaxError in a future version of Scapy !\n",
      "  warnings.warn(war_msg, SyntaxWarning)\n",
      "C:\\Users\\91973\\Anaconda3\\lib\\site-packages\\scapy\\base_classes.py:324: SyntaxWarning: Packet 'IEC104_IO_M_BO_TA_1_IOA' has a duplicated 'iv' field ! If you are using several ConditionalFields, have a look at MultipleTypeField instead ! This will become a SyntaxError in a future version of Scapy !\n",
      "  warnings.warn(war_msg, SyntaxWarning)\n",
      "C:\\Users\\91973\\Anaconda3\\lib\\site-packages\\scapy\\base_classes.py:324: SyntaxWarning: Packet 'IEC104_IO_M_ME_TA_1_IOA' has a duplicated 'iv' field ! If you are using several ConditionalFields, have a look at MultipleTypeField instead ! This will become a SyntaxError in a future version of Scapy !\n",
      "  warnings.warn(war_msg, SyntaxWarning)\n",
      "C:\\Users\\91973\\Anaconda3\\lib\\site-packages\\scapy\\base_classes.py:324: SyntaxWarning: Packet 'IEC104_IO_M_ME_TB_1_IOA' has a duplicated 'iv' field ! If you are using several ConditionalFields, have a look at MultipleTypeField instead ! This will become a SyntaxError in a future version of Scapy !\n",
      "  warnings.warn(war_msg, SyntaxWarning)\n",
      "C:\\Users\\91973\\Anaconda3\\lib\\site-packages\\scapy\\base_classes.py:324: SyntaxWarning: Packet 'IEC104_IO_M_ME_TC_1_IOA' has a duplicated 'iv' field ! If you are using several ConditionalFields, have a look at MultipleTypeField instead ! This will become a SyntaxError in a future version of Scapy !\n",
      "  warnings.warn(war_msg, SyntaxWarning)\n",
      "C:\\Users\\91973\\Anaconda3\\lib\\site-packages\\scapy\\base_classes.py:324: SyntaxWarning: Packet 'IEC104_IO_M_IT_TA_1_IOA' has a duplicated 'iv' field ! If you are using several ConditionalFields, have a look at MultipleTypeField instead ! This will become a SyntaxError in a future version of Scapy !\n",
      "  warnings.warn(war_msg, SyntaxWarning)\n",
      "C:\\Users\\91973\\Anaconda3\\lib\\site-packages\\scapy\\base_classes.py:324: SyntaxWarning: Packet 'IEC104_IO_M_EP_TA_1_IOA' has a duplicated 'iv' field ! If you are using several ConditionalFields, have a look at MultipleTypeField instead ! This will become a SyntaxError in a future version of Scapy !\n",
      "  warnings.warn(war_msg, SyntaxWarning)\n",
      "C:\\Users\\91973\\Anaconda3\\lib\\site-packages\\scapy\\base_classes.py:324: SyntaxWarning: Packet 'IEC104_IO_M_EP_TB_1_IOA' has a duplicated 'reserved' field ! If you are using several ConditionalFields, have a look at MultipleTypeField instead ! This will become a SyntaxError in a future version of Scapy !\n",
      "  warnings.warn(war_msg, SyntaxWarning)\n",
      "C:\\Users\\91973\\Anaconda3\\lib\\site-packages\\scapy\\base_classes.py:324: SyntaxWarning: Packet 'IEC104_IO_M_EP_TB_1_IOA' has a duplicated 'iv' field ! If you are using several ConditionalFields, have a look at MultipleTypeField instead ! This will become a SyntaxError in a future version of Scapy !\n",
      "  warnings.warn(war_msg, SyntaxWarning)\n",
      "C:\\Users\\91973\\Anaconda3\\lib\\site-packages\\scapy\\base_classes.py:324: SyntaxWarning: Packet 'IEC104_IO_M_EP_TC_1_IOA' has a duplicated 'reserved' field ! If you are using several ConditionalFields, have a look at MultipleTypeField instead ! This will become a SyntaxError in a future version of Scapy !\n",
      "  warnings.warn(war_msg, SyntaxWarning)\n",
      "C:\\Users\\91973\\Anaconda3\\lib\\site-packages\\scapy\\base_classes.py:324: SyntaxWarning: Packet 'IEC104_IO_M_EP_TC_1_IOA' has a duplicated 'iv' field ! If you are using several ConditionalFields, have a look at MultipleTypeField instead ! This will become a SyntaxError in a future version of Scapy !\n",
      "  warnings.warn(war_msg, SyntaxWarning)\n",
      "C:\\Users\\91973\\Anaconda3\\lib\\site-packages\\scapy\\base_classes.py:324: SyntaxWarning: Packet 'IEC104_IO_M_SP_TB_1_IOA' has a duplicated 'iv' field ! If you are using several ConditionalFields, have a look at MultipleTypeField instead ! This will become a SyntaxError in a future version of Scapy !\n",
      "  warnings.warn(war_msg, SyntaxWarning)\n",
      "C:\\Users\\91973\\Anaconda3\\lib\\site-packages\\scapy\\base_classes.py:324: SyntaxWarning: Packet 'IEC104_IO_M_DP_TB_1_IOA' has a duplicated 'iv' field ! If you are using several ConditionalFields, have a look at MultipleTypeField instead ! This will become a SyntaxError in a future version of Scapy !\n",
      "  warnings.warn(war_msg, SyntaxWarning)\n",
      "C:\\Users\\91973\\Anaconda3\\lib\\site-packages\\scapy\\base_classes.py:324: SyntaxWarning: Packet 'IEC104_IO_M_ST_TB_1_IOA' has a duplicated 'iv' field ! If you are using several ConditionalFields, have a look at MultipleTypeField instead ! This will become a SyntaxError in a future version of Scapy !\n",
      "  warnings.warn(war_msg, SyntaxWarning)\n",
      "C:\\Users\\91973\\Anaconda3\\lib\\site-packages\\scapy\\base_classes.py:324: SyntaxWarning: Packet 'IEC104_IO_M_BO_TB_1_IOA' has a duplicated 'iv' field ! If you are using several ConditionalFields, have a look at MultipleTypeField instead ! This will become a SyntaxError in a future version of Scapy !\n",
      "  warnings.warn(war_msg, SyntaxWarning)\n",
      "C:\\Users\\91973\\Anaconda3\\lib\\site-packages\\scapy\\base_classes.py:324: SyntaxWarning: Packet 'IEC104_IO_M_ME_TD_1_IOA' has a duplicated 'iv' field ! If you are using several ConditionalFields, have a look at MultipleTypeField instead ! This will become a SyntaxError in a future version of Scapy !\n",
      "  warnings.warn(war_msg, SyntaxWarning)\n",
      "C:\\Users\\91973\\Anaconda3\\lib\\site-packages\\scapy\\base_classes.py:324: SyntaxWarning: Packet 'IEC104_IO_M_ME_TE_1_IOA' has a duplicated 'iv' field ! If you are using several ConditionalFields, have a look at MultipleTypeField instead ! This will become a SyntaxError in a future version of Scapy !\n",
      "  warnings.warn(war_msg, SyntaxWarning)\n",
      "C:\\Users\\91973\\Anaconda3\\lib\\site-packages\\scapy\\base_classes.py:324: SyntaxWarning: Packet 'IEC104_IO_M_ME_TF_1_IOA' has a duplicated 'iv' field ! If you are using several ConditionalFields, have a look at MultipleTypeField instead ! This will become a SyntaxError in a future version of Scapy !\n",
      "  warnings.warn(war_msg, SyntaxWarning)\n",
      "C:\\Users\\91973\\Anaconda3\\lib\\site-packages\\scapy\\base_classes.py:324: SyntaxWarning: Packet 'IEC104_IO_M_IT_TB_1_IOA' has a duplicated 'iv' field ! If you are using several ConditionalFields, have a look at MultipleTypeField instead ! This will become a SyntaxError in a future version of Scapy !\n",
      "  warnings.warn(war_msg, SyntaxWarning)\n",
      "C:\\Users\\91973\\Anaconda3\\lib\\site-packages\\scapy\\base_classes.py:324: SyntaxWarning: Packet 'IEC104_IO_M_EP_TD_1_IOA' has a duplicated 'iv' field ! If you are using several ConditionalFields, have a look at MultipleTypeField instead ! This will become a SyntaxError in a future version of Scapy !\n",
      "  warnings.warn(war_msg, SyntaxWarning)\n"
     ]
    },
    {
     "name": "stderr",
     "output_type": "stream",
     "text": [
      "C:\\Users\\91973\\Anaconda3\\lib\\site-packages\\scapy\\base_classes.py:324: SyntaxWarning: Packet 'IEC104_IO_M_EP_TE_1_IOA' has a duplicated 'reserved' field ! If you are using several ConditionalFields, have a look at MultipleTypeField instead ! This will become a SyntaxError in a future version of Scapy !\n",
      "  warnings.warn(war_msg, SyntaxWarning)\n",
      "C:\\Users\\91973\\Anaconda3\\lib\\site-packages\\scapy\\base_classes.py:324: SyntaxWarning: Packet 'IEC104_IO_M_EP_TE_1_IOA' has a duplicated 'iv' field ! If you are using several ConditionalFields, have a look at MultipleTypeField instead ! This will become a SyntaxError in a future version of Scapy !\n",
      "  warnings.warn(war_msg, SyntaxWarning)\n",
      "C:\\Users\\91973\\Anaconda3\\lib\\site-packages\\scapy\\base_classes.py:324: SyntaxWarning: Packet 'IEC104_IO_M_EP_TF_1_IOA' has a duplicated 'reserved' field ! If you are using several ConditionalFields, have a look at MultipleTypeField instead ! This will become a SyntaxError in a future version of Scapy !\n",
      "  warnings.warn(war_msg, SyntaxWarning)\n",
      "C:\\Users\\91973\\Anaconda3\\lib\\site-packages\\scapy\\base_classes.py:324: SyntaxWarning: Packet 'IEC104_IO_M_EP_TF_1_IOA' has a duplicated 'iv' field ! If you are using several ConditionalFields, have a look at MultipleTypeField instead ! This will become a SyntaxError in a future version of Scapy !\n",
      "  warnings.warn(war_msg, SyntaxWarning)\n",
      "C:\\Users\\91973\\Anaconda3\\lib\\site-packages\\setuptools\\distutils_patch.py:25: UserWarning: Distutils was imported before Setuptools. This usage is discouraged and may exhibit undesirable behaviors or errors. Please use Setuptools' objects directly or at least import Setuptools first.\n",
      "  warnings.warn(\n",
      "C:\\Users\\91973\\Anaconda3\\lib\\site-packages\\skimage\\viewer\\utils\\__init__.py:1: UserWarning: Recommended matplotlib backend is `Agg` for full skimage.viewer functionality.\n",
      "  from .core import *\n",
      "C:\\Users\\91973\\Anaconda3\\lib\\site-packages\\qtawesome\\iconic_font.py:312: UserWarning: You need to have a running QApplication to use QtAwesome!\n",
      "  warnings.warn(\"You need to have a running \"\n",
      "C:\\Users\\91973\\Anaconda3\\lib\\pkgutil.py:107: VisibleDeprecationWarning: zmq.eventloop.minitornado is deprecated in pyzmq 14.0 and will be removed.\n",
      "    Install tornado itself to use zmq with the tornado IOLoop.\n",
      "    \n",
      "  yield from walk_packages(path, info.name+'.', onerror)\n"
     ]
    },
    {
     "name": "stdout",
     "output_type": "stream",
     "text": [
      "01_basicDataType    brain_qt            matplotlib          snowballstemmer\n",
      "13_hr               brain_random        mccabe              socket\n",
      "25_CommandlineArg   brain_re            menuinst            socketserver\n",
      "Cython              brain_responses     mimetypes           socks\n",
      "IPython             brain_scipy_signal  mistune             sockshandler\n",
      "Module1             brain_six           mkl                 sortedcollections\n",
      "OpenSSL             brain_ssl           mkl_fft             sortedcontainers\n",
      "PIL                 brain_subprocess    mkl_random          soupsieve\n",
      "PyQt5               brain_threading     mmap                sphinx\n",
      "__future__          brain_typing        mmapfile            sphinxcontrib\n",
      "_abc                brain_uuid          mmsystem            spyder\n",
      "_ast                brotli              mock                spyder_kernels\n",
      "_asyncio            bs4                 mod                 sqlalchemy\n",
      "_bisect             builtins            mod1                sqlite3\n",
      "_black_version      bz2                 modulefinder        sre_compile\n",
      "_blake2             cProfile            more_itertools      sre_constants\n",
      "_bootlocale         calendar            mpmath              sre_parse\n",
      "_bz2                certifi             msgpack             ssl\n",
      "_cffi_backend       cffi                msilib              sspi\n",
      "_codecs             cgi                 msvcrt              sspicon\n",
      "_codecs_cn          cgitb               multidict           stat\n",
      "_codecs_hk          chardet             multipledispatch    statistics\n",
      "_codecs_iso2022     chunk               multiprocessing     statsmodels\n",
      "_codecs_jp          click               mypy_extensions     storemagic\n",
      "_codecs_kr          cloudpickle         mysql               string\n",
      "_codecs_tw          clyent              mysqlx              stringprep\n",
      "_collections        cmath               nacl                struct\n",
      "_collections_abc    cmd                 navigator_updater   subprocess\n",
      "_compat_pickle      code                nb_black            sunau\n",
      "_compression        codecs              nbconvert           symbol\n",
      "_contextvars        codeop              nbformat            sympy\n",
      "_csv                collections         netbios             sympyprinting\n",
      "_ctypes             colorama            netrc               symtable\n",
      "_ctypes_test        colorsys            networkx            sys\n",
      "_datetime           commctrl            nltk                sysconfig\n",
      "_decimal            compileall          nntplib             tables\n",
      "_dummy_thread       comtypes            nose                tabnanny\n",
      "_elementtree        concurrent          notebook            tarfile\n",
      "_functools          conda               nt                  tblib\n",
      "_hashlib            conda_build         ntpath              telnetlib\n",
      "_heapq              conda_env           ntsecuritycon       tempfile\n",
      "_imp                conda_package_handling nturl2path          terminado\n",
      "_io                 conda_verify        numba               test\n",
      "_json               configparser        numbers             test_data\n",
      "_locale             contextlib          numexpr             test_pycosat\n",
      "_lsprof             contextlib2         numpy               testpath\n",
      "_lzma               contextvars         numpydoc            tests\n",
      "_markupbase         copy                odbc                textwrap\n",
      "_md5                copyreg             olefile             this\n",
      "_msi                crypt               opcode              threading\n",
      "_multibytecodec     cryptography        openpyxl            threadpoolctl\n",
      "_multiprocessing    csv                 operator            time\n",
      "_mysql_connector    ctypes              optparse            timeit\n",
      "_mysqlxpb           curl                os                  timer\n",
      "_nsis               curses              packaging           tkinter\n",
      "_opcode             cwp                 pandas              tlz\n",
      "_operator           cycler              pandocfilters       token\n",
      "_osx_support        cython              paramiko            tokenize\n",
      "_overlapped         cythonmagic         parser              toml\n",
      "_pickle             cytoolz             parso               toolz\n",
      "_py_abc             dask                partd               tornado\n",
      "_pydecimal          dataclasses         past                tqdm\n",
      "_pyio               datetime            path                trace\n",
      "_pyrsistent_version dateutil            pathlib             traceback\n",
      "_pytest             dbi                 pathlib2            tracemalloc\n",
      "_queue              dbm                 pathspec            traitlets\n",
      "_random             dde                 pathtools           tty\n",
      "_sha1               decimal             patsy               turtle\n",
      "_sha256             decorator           pdb                 turtledemo\n",
      "_sha3               defusedxml          pdbExample          typed_ast\n",
      "_sha512             diff_match_patch    pep8                types\n",
      "_signal             difflib             perfmon             typing\n",
      "_sitebuiltins       dis                 pexpect             typing_extensions\n",
      "_socket             distributed         pickle              ujson\n",
      "_sqlite3            distutils           pickleshare         unicodecsv\n",
      "_sre                doctest             pickletools         unicodedata\n",
      "_ssl                docutils            pip                 unittest\n",
      "_stat               dummy_threading     pipes               urllib\n",
      "_statistics         easy_install        pkg_resources       urllib3\n",
      "_string             email               pkginfo             util\n",
      "_strptime           encodings           pkgutil             uu\n",
      "_struct             ensurepip           platform            uuid\n",
      "_symtable           entrypoints         plistlib            vcr\n",
      "_system_path        enum                pluggy              venv\n",
      "_testbuffer         errno               ply                 warnings\n",
      "_testcapi           et_xmlfile          poplib              watchdog\n",
      "_testconsole        fastcache           posixpath           wave\n",
      "_testimportmultiple faulthandler        pprint              wcwidth\n",
      "_testinternalcapi   filecmp             profile             weakref\n",
      "_testmultiphase     fileinput           prometheus_client   webbrowser\n",
      "_thread             filelock            prompt_toolkit      webencodings\n",
      "_threading_local    flake8              pstats              werkzeug\n",
      "_tkinter            flask               psutil              wheel\n",
      "_tracemalloc        fnmatch             pty                 widgetsnbextension\n",
      "_warnings           formatter           pvectorc            win2kras\n",
      "_weakref            fractions           py                  win32api\n",
      "_weakrefset         fsspec              py_compile          win32clipboard\n",
      "_win32sysloader     ftplib              pyclbr              win32com\n",
      "_winapi             functools           pycodestyle         win32con\n",
      "_winxptheme         future              pycosat             win32console\n",
      "_xxsubinterpreters  gc                  pycparser           win32cred\n",
      "_yaml               genericpath         pycurl              win32crypt\n",
      "abc                 getopt              pydoc               win32cryptcon\n",
      "adodbapi            getpass             pydoc_data          win32ctypes\n",
      "afxres              gettext             pydocstyle          win32event\n",
      "aifc                gevent              pyexpat             win32evtlog\n",
      "alabaster           glob                pyflakes            win32evtlogutil\n",
      "anaconda_navigator  glob2               pygments            win32file\n",
      "anaconda_project    gmpy2               pylab               win32gui\n",
      "antigravity         greenlet            pylint              win32gui_struct\n",
      "appdirs             gzip                pyls                win32help\n",
      "argh                h5py                pyls_jsonrpc        win32inet\n",
      "argparse            hashlib             pyodbc              win32inetcon\n",
      "array               heapdict            pyparsing           win32job\n",
      "asn1crypto          heapq               pyreadline          win32lz\n",
      "ast                 hmac                pyrsistent          win32net\n",
      "astroid             html                pytest              win32netcon\n",
      "astropy             html5lib            pythoncom           win32pdh\n"
     ]
    },
    {
     "name": "stdout",
     "output_type": "stream",
     "text": [
      "asynchat            http                pytz                win32pdhquery\n",
      "asyncio             idlelib             pywin               win32pdhutil\n",
      "asyncore            idna                pywin32_bootstrap   win32pipe\n",
      "atexit              imageio             pywin32_testutil    win32print\n",
      "atomicwrites        imagesize           pywintypes          win32process\n",
      "attr                imaplib             pywt                win32profile\n",
      "audioop             imghdr              pyximport           win32ras\n",
      "autopep8            imp                 qdarkstyle          win32rcparser\n",
      "autoreload          importlib           qtawesome           win32security\n",
      "babel               importlib_metadata  qtconsole           win32service\n",
      "backcall            inspect             qtpy                win32serviceutil\n",
      "backports           intervaltree        queue               win32timezone\n",
      "base64              io                  quopri              win32trace\n",
      "bcrypt              ipaddress           random              win32traceutil\n",
      "bdb                 ipykernel           rasutil             win32transaction\n",
      "binascii            ipykernel_launcher  re                  win32ts\n",
      "binhex              ipython_genutils    readline            win32ui\n",
      "binstar_client      ipywidgets          regcheck            win32uiole\n",
      "bisect              isapi               regex               win32verstamp\n",
      "bitarray            isort               regutil             win32wnet\n",
      "bkcharts            isympy              reprlib             win_inet_pton\n",
      "black               itertools           requests            win_unicode_console\n",
      "blackd              itsdangerous        rlcompleter         wincertstore\n",
      "bleach              jdcal               rmagic              winerror\n",
      "blib2to3            jedi                rope                winioctlcon\n",
      "bokeh               jinja2              rtree               winnt\n",
      "boto                joblib              ruamel_yaml         winperf\n",
      "bottleneck          json                run                 winpty\n",
      "brain_argparse      json5               runpy               winreg\n",
      "brain_attrs         jsonschema          sample_inspect      winsound\n",
      "brain_boto3         jupyter             scapy               winxpgui\n",
      "brain_builtin_inference jupyter_client      sched               winxptheme\n",
      "brain_collections   jupyter_console     scipy               wrapt\n",
      "brain_crypt         jupyter_core        scripts             wsgiref\n",
      "brain_curses        jupyterlab          seaborn             xdrlib\n",
      "brain_dataclasses   jupyterlab_server   secrets             xlrd\n",
      "brain_dateutil      keyring             select              xlsxwriter\n",
      "brain_fstrings      keyword             selectors           xlwings\n",
      "brain_functools     kiwisolver          send2trash          xlwt\n",
      "brain_gi            lab_black           servicemanager      xml\n",
      "brain_hashlib       lazy_object_proxy   setuptools          xmlrpc\n",
      "brain_http          lib2to3             shelve              xmltodict\n",
      "brain_io            libarchive          shlex               xxsubtype\n",
      "brain_mechanize     libfuturize         shutil              yaml\n",
      "brain_multiprocessing libpasteurize       signal              yapf\n",
      "brain_namedtuple_enum lief                simplegeneric       yapftests\n",
      "brain_nose          linecache           singledispatch      yarl\n",
      "brain_numpy_core_fromnumeric llvmlite            singledispatch_helpers zict\n",
      "brain_numpy_core_function_base locale              sip                 zipapp\n",
      "brain_numpy_core_multiarray locket              sipconfig           zipfile\n",
      "brain_numpy_core_numeric logging             sipdistutils        zipimport\n",
      "brain_numpy_core_numerictypes lxml                site                zipp\n",
      "brain_numpy_core_umath lzma                six                 zlib\n",
      "brain_numpy_ndarray mailbox             skimage             zmq\n",
      "brain_numpy_random_mtrand mailcap             sklearn             zope\n",
      "brain_numpy_utils   markupsafe          smtpd               \n",
      "brain_pkg_resources marshal             smtplib             \n",
      "brain_pytest        math                sndhdr              \n",
      "\n",
      "Enter any module name to get more help.  Or, type \"modules spam\" to search\n",
      "for modules whose name or summary contain the string \"spam\".\n",
      "\n"
     ]
    }
   ],
   "source": [
    "help('modules')"
   ]
  },
  {
   "cell_type": "code",
   "execution_count": null,
   "metadata": {},
   "outputs": [],
   "source": [
    "pip install <modulename>"
   ]
  },
  {
   "cell_type": "code",
   "execution_count": null,
   "metadata": {},
   "outputs": [],
   "source": [
    "help('mailbox')"
   ]
  },
  {
   "cell_type": "code",
   "execution_count": 19,
   "metadata": {},
   "outputs": [
    {
     "name": "stdout",
     "output_type": "stream",
     "text": [
      "Foo : <class 'mod.Foo'>\n",
      "a : [100, 200, 300]\n",
      "foo : <function foo at 0x000002DCC66B8820>\n",
      "s : 'If Comrade Napoleon says it, it must be right.'\n"
     ]
    }
   ],
   "source": [
    "import inspect\n",
    "import mod\n",
    "\n",
    "for name, data in inspect.getmembers(mod):\n",
    "    if name.startswith('__'):\n",
    "        continue\n",
    "    print('{} : {!r}'.format(name, data))"
   ]
  },
  {
   "cell_type": "code",
   "execution_count": 22,
   "metadata": {},
   "outputs": [
    {
     "name": "stdout",
     "output_type": "stream",
     "text": [
      "[]\n"
     ]
    }
   ],
   "source": [
    "import inspect\n",
    "import mod\n",
    "# print(inspect.getmembers(mod.Foo, inspect.isfunction))\n",
    "print(inspect.getmembers(mod.Foo, inspect.isfunction))\n"
   ]
  },
  {
   "cell_type": "code",
   "execution_count": null,
   "metadata": {},
   "outputs": [],
   "source": [
    "Assignment\n",
    "Do with modules"
   ]
  },
  {
   "cell_type": "code",
   "execution_count": null,
   "metadata": {},
   "outputs": [],
   "source": [
    "\n"
   ]
  },
  {
   "cell_type": "code",
   "execution_count": null,
   "metadata": {},
   "outputs": [],
   "source": [
    "path = \"C:/Users/assharma\"\n",
    "os.rmdir(os.path.join(path, \"My Directory\"))\n"
   ]
  },
  {
   "cell_type": "code",
   "execution_count": null,
   "metadata": {},
   "outputs": [],
   "source": [
    "import os\n",
    "path = \"C:/Users/assharma/GIF\"\n",
    "for file_name in os.listdir(path):\n",
    "    if file_name.lower().endswith(\".gif\"):\n",
    "        full_path = os.path.join(path, file_name)\n",
    "        new_file_name = full_path[:-4] + \"_backup.gif\"\n",
    "        os.rename(full_path, new_file_name)"
   ]
  },
  {
   "cell_type": "code",
   "execution_count": null,
   "metadata": {},
   "outputs": [],
   "source": [
    "import glob\n",
    "glob.glob(\"*.txt\")"
   ]
  },
  {
   "cell_type": "code",
   "execution_count": null,
   "metadata": {},
   "outputs": [],
   "source": [
    "import glob\n",
    "import os\n",
    "path = \"C:/Users/assharma/GIF\"\n",
    "possible_files = os.path.join(path, \"*.gif\")\n",
    "for file_name in glob.glob(possible_files):\n",
    "    full_path = os.path.join(path, file_name)\n",
    "new_file_name = full_path[:-4] + \"_backup.gif\"\n",
    "os.rename(full_path, new_file_name)"
   ]
  },
  {
   "cell_type": "markdown",
   "metadata": {},
   "source": [
    "When you provide a string with the full file path and an * to glob(), it\n",
    "returns a glob list of all possible GIF images in that particular directory"
   ]
  },
  {
   "cell_type": "code",
   "execution_count": null,
   "metadata": {},
   "outputs": [],
   "source": [
    "import glob\n",
    "import os\n",
    "path = \"C:/Users/assharma/GIF\"\n",
    "possible_files = os.path.join(path, \"*/*.png\")\n",
    "for file_name in glob.glob(possible_files):\n",
    "print(file_name)"
   ]
  },
  {
   "cell_type": "markdown",
   "metadata": {},
   "source": [
    "the string \"*/*.png\" to the path tells glob() to search for any\n",
    "files ending in .png that are inside of folders that can have any name\n",
    "(the first *). The forward slash used to separate the last folder tells\n",
    "glob() to only search in subfolders of the images/ directory"
   ]
  },
  {
   "cell_type": "code",
   "execution_count": null,
   "metadata": {},
   "outputs": [],
   "source": [
    "import os\n",
    "path = \"C:/Users/assharma/GIF\"\n",
    "files_and_folders = os.listdir(path)\n",
    "for folder_name in files_and_folders:\n",
    "full_path = os.path.join(path, folder_name)\n",
    "if os.path.isdir(full_path):\n",
    "os.rename(full_path, full_path + \" folder\")"
   ]
  },
  {
   "cell_type": "code",
   "execution_count": null,
   "metadata": {},
   "outputs": [],
   "source": [
    "import os\n",
    "path = \"C:/Users/assharma/GIF\"\n",
    "for current_folder, subfolders, file_names in os.walk(path):\n",
    "    for file_name in file_names:\n",
    "        print(os.path.join(current_folder, file_name))"
   ]
  },
  {
   "cell_type": "markdown",
   "metadata": {},
   "source": [
    "The call to os.walk() creates an object that Python can loop over. At\n",
    "each step of the loop, it returns a different tuple that includes:\n",
    "1. A particular folder\n",
    "2. A list of the subfolders within that folder, and\n",
    "3. A list of files within that folder."
   ]
  },
  {
   "cell_type": "markdown",
   "metadata": {},
   "source": [
    "## Assignment \n",
    "Write all assignments using command line argument"
   ]
  },
  {
   "cell_type": "code",
   "execution_count": null,
   "metadata": {},
   "outputs": [],
   "source": [
    "import Module1"
   ]
  },
  {
   "cell_type": "markdown",
   "metadata": {},
   "source": [
    "# Python Packages\n",
    "Suppose you have developed a very large application that includes many modules. As the number of modules grows, it becomes difficult to keep track of them all if they are dumped into one location. This is particularly so if they have similar names or functionality. You might wish for a means of grouping and organizing them.\n",
    "\n",
    "Packages allow for a hierarchical structuring of the module namespace using dot notation. In the same way that modules help avoid collisions between global variable names, packages help avoid collisions between module names.\n",
    "\n",
    "Creating a package is quite straightforward, since it makes use of the operating system’s inherent hierarchical file structure. Consider the following arrangement:"
   ]
  },
  {
   "cell_type": "code",
   "execution_count": null,
   "metadata": {},
   "outputs": [],
   "source": [
    "from mod import *"
   ]
  },
  {
   "cell_type": "code",
   "execution_count": null,
   "metadata": {},
   "outputs": [],
   "source": [
    "def FindSubstring(string):\n",
    "    rDs = set(string)\n",
    "    print (rDs)\n",
    "    length = len(list(rDs))\n",
    "    return length\n",
    "\n",
    "s = \"abcdeabcbbdeaxcaabcdef\"\n",
    "ret =  FindSubstring(s)\n",
    "print(ret)\n"
   ]
  },
  {
   "cell_type": "code",
   "execution_count": null,
   "metadata": {},
   "outputs": [],
   "source": []
  }
 ],
 "metadata": {
  "kernelspec": {
   "display_name": "Python 3",
   "language": "python",
   "name": "python3"
  },
  "language_info": {
   "codemirror_mode": {
    "name": "ipython",
    "version": 3
   },
   "file_extension": ".py",
   "mimetype": "text/x-python",
   "name": "python",
   "nbconvert_exporter": "python",
   "pygments_lexer": "ipython3",
   "version": "3.8.3"
  }
 },
 "nbformat": 4,
 "nbformat_minor": 2
}
